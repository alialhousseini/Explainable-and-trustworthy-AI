{
  "cells": [
    {
      "cell_type": "markdown",
      "metadata": {
        "id": "YO0NhD6Q4BjE"
      },
      "source": [
        "# **Lab 3a - Explainable and Trustworthy AI**\n",
        "\n",
        "\n",
        "---\n",
        "\n"
      ]
    },
    {
      "cell_type": "markdown",
      "metadata": {
        "id": "ZZLb6zMxU0KA"
      },
      "source": [
        "**Teaching Assistant**: Eleonora Poeta (eleonora.poeta@polito.it)"
      ]
    },
    {
      "cell_type": "markdown",
      "metadata": {
        "id": "tmMAwr1FVAXC"
      },
      "source": [
        "**Lab 3a:** Local post-hoc explainable models on structured data - LIME"
      ]
    },
    {
      "cell_type": "markdown",
      "metadata": {
        "id": "1Dsi41aUVEUH"
      },
      "source": [
        "# **LIME**\n",
        "\n",
        "\n",
        "---\n",
        "\n",
        "LIME is a **local surrogate model**. It tests **what happens to the predictions** when you **give variations of your data** into the machine learning model.\n",
        "\n",
        "The main steps are:\n",
        "\n",
        "* LIME generates **a new dataset** consisting of **perturbed samples** and the corresponding **predictions** of the black box model.\n",
        "\n",
        "* On the new dataset → LIME  trains an **interpretable model** (weighted by the proximity of the sampled instances to the instance of interest).\n",
        "\n",
        "* The learned model should be a **good approximation** of the **machine learning model** predictions **locally**, but it does not have to be a good global approximation."
      ]
    },
    {
      "cell_type": "markdown",
      "metadata": {
        "id": "P6IXTDHvJZ_0"
      },
      "source": [
        "\n",
        "\n",
        "---\n",
        "## **Exercise 1:**\n",
        "\n",
        "The [**Titanic**](https://www.openml.org/search?type=data&sort=runs&id=40945&status=active) dataset describes the survival status of individual passengers on the Titanic. In this exercise you have to:\n",
        "\n",
        "* **Preprocess** the Titanic dataset. Please, follow these main steps:\n",
        "> * **Load** the dataset\n",
        "  * **Split** the dataset into training and test set using the **80/20** ratio. **Shuffle** the dataset and **stratify** it using the target variable.\n",
        "  * Fill **null** values. `age` column with the mean, `fare` with the median and `embarked` with the most frequent values.\n",
        "  * **Remove** columns that are *not informative for the final task*, or that *contain information about target variable*.\n",
        "  * **Encoding**: in this exercise, the encoding of the dataset ***will be different from previous exercises of the past labs.***\n",
        "    * Follow the **step-by-step procedure** that is written in the Exercise.\n",
        "\n",
        "\n",
        "* Fit the **RandomForestClassifier()** with `n_estimators=500`\n",
        "  * Calculate the predictions with `.predict()`\n",
        "  * Calculate the `accuracy_score()`\n",
        "\n",
        "\n"
      ]
    },
    {
      "cell_type": "markdown",
      "metadata": {
        "id": "CYv9znjtBYix"
      },
      "source": [
        "## **Solution:**"
      ]
    },
    {
      "cell_type": "code",
      "execution_count": null,
      "metadata": {},
      "outputs": [
        {
          "data": {
            "text/html": [
              "<div>\n",
              "<style scoped>\n",
              "    .dataframe tbody tr th:only-of-type {\n",
              "        vertical-align: middle;\n",
              "    }\n",
              "\n",
              "    .dataframe tbody tr th {\n",
              "        vertical-align: top;\n",
              "    }\n",
              "\n",
              "    .dataframe thead th {\n",
              "        text-align: right;\n",
              "    }\n",
              "</style>\n",
              "<table border=\"1\" class=\"dataframe\">\n",
              "  <thead>\n",
              "    <tr style=\"text-align: right;\">\n",
              "      <th></th>\n",
              "      <th>pclass</th>\n",
              "      <th>name</th>\n",
              "      <th>sex</th>\n",
              "      <th>age</th>\n",
              "      <th>sibsp</th>\n",
              "      <th>parch</th>\n",
              "      <th>ticket</th>\n",
              "      <th>fare</th>\n",
              "      <th>cabin</th>\n",
              "      <th>embarked</th>\n",
              "      <th>boat</th>\n",
              "      <th>body</th>\n",
              "      <th>home.dest</th>\n",
              "      <th>survived</th>\n",
              "    </tr>\n",
              "  </thead>\n",
              "  <tbody>\n",
              "    <tr>\n",
              "      <th>0</th>\n",
              "      <td>1</td>\n",
              "      <td>Allen, Miss. Elisabeth Walton</td>\n",
              "      <td>female</td>\n",
              "      <td>29.0000</td>\n",
              "      <td>0</td>\n",
              "      <td>0</td>\n",
              "      <td>24160</td>\n",
              "      <td>211.3375</td>\n",
              "      <td>B5</td>\n",
              "      <td>S</td>\n",
              "      <td>2</td>\n",
              "      <td>NaN</td>\n",
              "      <td>St Louis, MO</td>\n",
              "      <td>1</td>\n",
              "    </tr>\n",
              "    <tr>\n",
              "      <th>1</th>\n",
              "      <td>1</td>\n",
              "      <td>Allison, Master. Hudson Trevor</td>\n",
              "      <td>male</td>\n",
              "      <td>0.9167</td>\n",
              "      <td>1</td>\n",
              "      <td>2</td>\n",
              "      <td>113781</td>\n",
              "      <td>151.5500</td>\n",
              "      <td>C22 C26</td>\n",
              "      <td>S</td>\n",
              "      <td>11</td>\n",
              "      <td>NaN</td>\n",
              "      <td>Montreal, PQ / Chesterville, ON</td>\n",
              "      <td>1</td>\n",
              "    </tr>\n",
              "    <tr>\n",
              "      <th>2</th>\n",
              "      <td>1</td>\n",
              "      <td>Allison, Miss. Helen Loraine</td>\n",
              "      <td>female</td>\n",
              "      <td>2.0000</td>\n",
              "      <td>1</td>\n",
              "      <td>2</td>\n",
              "      <td>113781</td>\n",
              "      <td>151.5500</td>\n",
              "      <td>C22 C26</td>\n",
              "      <td>S</td>\n",
              "      <td>NaN</td>\n",
              "      <td>NaN</td>\n",
              "      <td>Montreal, PQ / Chesterville, ON</td>\n",
              "      <td>0</td>\n",
              "    </tr>\n",
              "    <tr>\n",
              "      <th>3</th>\n",
              "      <td>1</td>\n",
              "      <td>Allison, Mr. Hudson Joshua Creighton</td>\n",
              "      <td>male</td>\n",
              "      <td>30.0000</td>\n",
              "      <td>1</td>\n",
              "      <td>2</td>\n",
              "      <td>113781</td>\n",
              "      <td>151.5500</td>\n",
              "      <td>C22 C26</td>\n",
              "      <td>S</td>\n",
              "      <td>NaN</td>\n",
              "      <td>135.0</td>\n",
              "      <td>Montreal, PQ / Chesterville, ON</td>\n",
              "      <td>0</td>\n",
              "    </tr>\n",
              "    <tr>\n",
              "      <th>4</th>\n",
              "      <td>1</td>\n",
              "      <td>Allison, Mrs. Hudson J C (Bessie Waldo Daniels)</td>\n",
              "      <td>female</td>\n",
              "      <td>25.0000</td>\n",
              "      <td>1</td>\n",
              "      <td>2</td>\n",
              "      <td>113781</td>\n",
              "      <td>151.5500</td>\n",
              "      <td>C22 C26</td>\n",
              "      <td>S</td>\n",
              "      <td>NaN</td>\n",
              "      <td>NaN</td>\n",
              "      <td>Montreal, PQ / Chesterville, ON</td>\n",
              "      <td>0</td>\n",
              "    </tr>\n",
              "  </tbody>\n",
              "</table>\n",
              "</div>"
            ],
            "text/plain": [
              "   pclass                                             name     sex      age  \\\n",
              "0       1                    Allen, Miss. Elisabeth Walton  female  29.0000   \n",
              "1       1                   Allison, Master. Hudson Trevor    male   0.9167   \n",
              "2       1                     Allison, Miss. Helen Loraine  female   2.0000   \n",
              "3       1             Allison, Mr. Hudson Joshua Creighton    male  30.0000   \n",
              "4       1  Allison, Mrs. Hudson J C (Bessie Waldo Daniels)  female  25.0000   \n",
              "\n",
              "   sibsp  parch  ticket      fare    cabin embarked boat   body  \\\n",
              "0      0      0   24160  211.3375       B5        S    2    NaN   \n",
              "1      1      2  113781  151.5500  C22 C26        S   11    NaN   \n",
              "2      1      2  113781  151.5500  C22 C26        S  NaN    NaN   \n",
              "3      1      2  113781  151.5500  C22 C26        S  NaN  135.0   \n",
              "4      1      2  113781  151.5500  C22 C26        S  NaN    NaN   \n",
              "\n",
              "                         home.dest  survived  \n",
              "0                     St Louis, MO         1  \n",
              "1  Montreal, PQ / Chesterville, ON         1  \n",
              "2  Montreal, PQ / Chesterville, ON         0  \n",
              "3  Montreal, PQ / Chesterville, ON         0  \n",
              "4  Montreal, PQ / Chesterville, ON         0  "
            ]
          },
          "metadata": {},
          "output_type": "display_data"
        }
      ],
      "source": [
        "import pandas as pd\n",
        "df = pd.read_csv('titanic.csv')\n",
        "df.head()"
      ]
    },
    {
      "cell_type": "code",
      "execution_count": null,
      "metadata": {},
      "outputs": [],
      "source": [
        "df.drop(['name','ticket', 'cabin','boat', 'body', 'home.dest'], axis=1, inplace=True)"
      ]
    },
    {
      "cell_type": "code",
      "execution_count": null,
      "metadata": {},
      "outputs": [],
      "source": [
        "from sklearn.model_selection import train_test_split\n",
        "\n",
        "# Split the data into train and test sets\n",
        "X_train, X_test, y_train, y_test = train_test_split(df.drop('survived', axis=1), df['survived'], test_size=0.2, random_state=42, shuffle=True, stratify=df['survived'])\n",
        "\n",
        "age_mean = X_train['age'].mean()\n",
        "fare_median = X_train['fare'].median()\n",
        "most_frequent_embarked = X_train['embarked'].mode()[0]"
      ]
    },
    {
      "cell_type": "code",
      "execution_count": null,
      "metadata": {},
      "outputs": [],
      "source": [
        "# Working with missing values\n",
        "X_train['age'].fillna(age_mean, inplace=True)\n",
        "X_train['fare'].fillna(fare_median, inplace=True)\n",
        "X_train['embarked'].fillna(most_frequent_embarked, inplace=True)\n",
        "\n",
        "X_test['age'].fillna(age_mean, inplace=True)\n",
        "X_test['fare'].fillna(fare_median, inplace=True)\n",
        "X_test['embarked'].fillna(most_frequent_embarked, inplace=True)"
      ]
    },
    {
      "cell_type": "code",
      "execution_count": null,
      "metadata": {},
      "outputs": [
        {
          "data": {
            "text/html": [
              "<div>\n",
              "<style scoped>\n",
              "    .dataframe tbody tr th:only-of-type {\n",
              "        vertical-align: middle;\n",
              "    }\n",
              "\n",
              "    .dataframe tbody tr th {\n",
              "        vertical-align: top;\n",
              "    }\n",
              "\n",
              "    .dataframe thead th {\n",
              "        text-align: right;\n",
              "    }\n",
              "</style>\n",
              "<table border=\"1\" class=\"dataframe\">\n",
              "  <thead>\n",
              "    <tr style=\"text-align: right;\">\n",
              "      <th></th>\n",
              "      <th>pclass</th>\n",
              "      <th>sex</th>\n",
              "      <th>age</th>\n",
              "      <th>sibsp</th>\n",
              "      <th>parch</th>\n",
              "      <th>fare</th>\n",
              "      <th>embarked</th>\n",
              "    </tr>\n",
              "  </thead>\n",
              "  <tbody>\n",
              "    <tr>\n",
              "      <th>999</th>\n",
              "      <td>3</td>\n",
              "      <td>female</td>\n",
              "      <td>29.604316</td>\n",
              "      <td>0</td>\n",
              "      <td>0</td>\n",
              "      <td>7.7500</td>\n",
              "      <td>Q</td>\n",
              "    </tr>\n",
              "    <tr>\n",
              "      <th>392</th>\n",
              "      <td>2</td>\n",
              "      <td>female</td>\n",
              "      <td>24.000000</td>\n",
              "      <td>1</td>\n",
              "      <td>0</td>\n",
              "      <td>27.7208</td>\n",
              "      <td>C</td>\n",
              "    </tr>\n",
              "    <tr>\n",
              "      <th>628</th>\n",
              "      <td>3</td>\n",
              "      <td>female</td>\n",
              "      <td>11.000000</td>\n",
              "      <td>4</td>\n",
              "      <td>2</td>\n",
              "      <td>31.2750</td>\n",
              "      <td>S</td>\n",
              "    </tr>\n",
              "    <tr>\n",
              "      <th>1165</th>\n",
              "      <td>3</td>\n",
              "      <td>male</td>\n",
              "      <td>25.000000</td>\n",
              "      <td>0</td>\n",
              "      <td>0</td>\n",
              "      <td>7.2250</td>\n",
              "      <td>C</td>\n",
              "    </tr>\n",
              "    <tr>\n",
              "      <th>604</th>\n",
              "      <td>3</td>\n",
              "      <td>female</td>\n",
              "      <td>16.000000</td>\n",
              "      <td>0</td>\n",
              "      <td>0</td>\n",
              "      <td>7.6500</td>\n",
              "      <td>S</td>\n",
              "    </tr>\n",
              "  </tbody>\n",
              "</table>\n",
              "</div>"
            ],
            "text/plain": [
              "      pclass     sex        age  sibsp  parch     fare embarked\n",
              "999        3  female  29.604316      0      0   7.7500        Q\n",
              "392        2  female  24.000000      1      0  27.7208        C\n",
              "628        3  female  11.000000      4      2  31.2750        S\n",
              "1165       3    male  25.000000      0      0   7.2250        C\n",
              "604        3  female  16.000000      0      0   7.6500        S"
            ]
          },
          "metadata": {},
          "output_type": "display_data"
        }
      ],
      "source": [
        "X_train.head()"
      ]
    },
    {
      "cell_type": "code",
      "execution_count": null,
      "metadata": {},
      "outputs": [
        {
          "data": {
            "text/html": [
              "<div>\n",
              "<style scoped>\n",
              "    .dataframe tbody tr th:only-of-type {\n",
              "        vertical-align: middle;\n",
              "    }\n",
              "\n",
              "    .dataframe tbody tr th {\n",
              "        vertical-align: top;\n",
              "    }\n",
              "\n",
              "    .dataframe thead th {\n",
              "        text-align: right;\n",
              "    }\n",
              "</style>\n",
              "<table border=\"1\" class=\"dataframe\">\n",
              "  <thead>\n",
              "    <tr style=\"text-align: right;\">\n",
              "      <th></th>\n",
              "      <th>pclass</th>\n",
              "      <th>sex</th>\n",
              "      <th>age</th>\n",
              "      <th>sibsp</th>\n",
              "      <th>parch</th>\n",
              "      <th>fare</th>\n",
              "      <th>embarked</th>\n",
              "    </tr>\n",
              "  </thead>\n",
              "  <tbody>\n",
              "    <tr>\n",
              "      <th>1028</th>\n",
              "      <td>3</td>\n",
              "      <td>female</td>\n",
              "      <td>29.604316</td>\n",
              "      <td>1</td>\n",
              "      <td>0</td>\n",
              "      <td>24.1500</td>\n",
              "      <td>Q</td>\n",
              "    </tr>\n",
              "    <tr>\n",
              "      <th>1121</th>\n",
              "      <td>3</td>\n",
              "      <td>male</td>\n",
              "      <td>29.604316</td>\n",
              "      <td>1</td>\n",
              "      <td>1</td>\n",
              "      <td>22.3583</td>\n",
              "      <td>C</td>\n",
              "    </tr>\n",
              "    <tr>\n",
              "      <th>1155</th>\n",
              "      <td>3</td>\n",
              "      <td>male</td>\n",
              "      <td>29.604316</td>\n",
              "      <td>0</td>\n",
              "      <td>0</td>\n",
              "      <td>7.7750</td>\n",
              "      <td>S</td>\n",
              "    </tr>\n",
              "    <tr>\n",
              "      <th>1251</th>\n",
              "      <td>3</td>\n",
              "      <td>male</td>\n",
              "      <td>30.500000</td>\n",
              "      <td>0</td>\n",
              "      <td>0</td>\n",
              "      <td>8.0500</td>\n",
              "      <td>S</td>\n",
              "    </tr>\n",
              "    <tr>\n",
              "      <th>721</th>\n",
              "      <td>3</td>\n",
              "      <td>male</td>\n",
              "      <td>36.000000</td>\n",
              "      <td>0</td>\n",
              "      <td>0</td>\n",
              "      <td>7.4958</td>\n",
              "      <td>S</td>\n",
              "    </tr>\n",
              "  </tbody>\n",
              "</table>\n",
              "</div>"
            ],
            "text/plain": [
              "      pclass     sex        age  sibsp  parch     fare embarked\n",
              "1028       3  female  29.604316      1      0  24.1500        Q\n",
              "1121       3    male  29.604316      1      1  22.3583        C\n",
              "1155       3    male  29.604316      0      0   7.7750        S\n",
              "1251       3    male  30.500000      0      0   8.0500        S\n",
              "721        3    male  36.000000      0      0   7.4958        S"
            ]
          },
          "metadata": {},
          "output_type": "display_data"
        }
      ],
      "source": [
        "X_test.head()"
      ]
    },
    {
      "cell_type": "code",
      "execution_count": null,
      "metadata": {},
      "outputs": [],
      "source": [
        "from sklearn.compose import ColumnTransformer\n",
        "from sklearn.preprocessing import OneHotEncoder, StandardScaler, MinMaxScaler, FunctionTransformer\n",
        "from sklearn.impute import SimpleImputer\n",
        "from sklearn.pipeline import Pipeline\n",
        "import numpy as np\n",
        "\n",
        "column_transformer = ColumnTransformer(\n",
        "    transformers=[\n",
        "        ('pclass_one_hot', OneHotEncoder(), ['pclass']),\n",
        "        ('sex_one_hot', OneHotEncoder(), ['sex']),\n",
        "        ('age_scale', MinMaxScaler(), ['age']),\n",
        "        ('sibsp_scale', MinMaxScaler(), ['sibsp']),\n",
        "        ('parch_scale', MinMaxScaler(), ['parch']),\n",
        "        ('fare_log_scale', Pipeline(steps=[\n",
        "            ('log', FunctionTransformer(np.log1p, validate=False)),  # Apply log transformation\n",
        "            ('scale', MinMaxScaler())]), ['fare']),\n",
        "        ('embarked_one_hot', OneHotEncoder(), ['embarked']),\n",
        "    ])\n"
      ]
    },
    {
      "cell_type": "code",
      "execution_count": null,
      "metadata": {},
      "outputs": [
        {
          "data": {
            "text/html": [
              "<style>#sk-container-id-1 {color: black;}#sk-container-id-1 pre{padding: 0;}#sk-container-id-1 div.sk-toggleable {background-color: white;}#sk-container-id-1 label.sk-toggleable__label {cursor: pointer;display: block;width: 100%;margin-bottom: 0;padding: 0.3em;box-sizing: border-box;text-align: center;}#sk-container-id-1 label.sk-toggleable__label-arrow:before {content: \"▸\";float: left;margin-right: 0.25em;color: #696969;}#sk-container-id-1 label.sk-toggleable__label-arrow:hover:before {color: black;}#sk-container-id-1 div.sk-estimator:hover label.sk-toggleable__label-arrow:before {color: black;}#sk-container-id-1 div.sk-toggleable__content {max-height: 0;max-width: 0;overflow: hidden;text-align: left;background-color: #f0f8ff;}#sk-container-id-1 div.sk-toggleable__content pre {margin: 0.2em;color: black;border-radius: 0.25em;background-color: #f0f8ff;}#sk-container-id-1 input.sk-toggleable__control:checked~div.sk-toggleable__content {max-height: 200px;max-width: 100%;overflow: auto;}#sk-container-id-1 input.sk-toggleable__control:checked~label.sk-toggleable__label-arrow:before {content: \"▾\";}#sk-container-id-1 div.sk-estimator input.sk-toggleable__control:checked~label.sk-toggleable__label {background-color: #d4ebff;}#sk-container-id-1 div.sk-label input.sk-toggleable__control:checked~label.sk-toggleable__label {background-color: #d4ebff;}#sk-container-id-1 input.sk-hidden--visually {border: 0;clip: rect(1px 1px 1px 1px);clip: rect(1px, 1px, 1px, 1px);height: 1px;margin: -1px;overflow: hidden;padding: 0;position: absolute;width: 1px;}#sk-container-id-1 div.sk-estimator {font-family: monospace;background-color: #f0f8ff;border: 1px dotted black;border-radius: 0.25em;box-sizing: border-box;margin-bottom: 0.5em;}#sk-container-id-1 div.sk-estimator:hover {background-color: #d4ebff;}#sk-container-id-1 div.sk-parallel-item::after {content: \"\";width: 100%;border-bottom: 1px solid gray;flex-grow: 1;}#sk-container-id-1 div.sk-label:hover label.sk-toggleable__label {background-color: #d4ebff;}#sk-container-id-1 div.sk-serial::before {content: \"\";position: absolute;border-left: 1px solid gray;box-sizing: border-box;top: 0;bottom: 0;left: 50%;z-index: 0;}#sk-container-id-1 div.sk-serial {display: flex;flex-direction: column;align-items: center;background-color: white;padding-right: 0.2em;padding-left: 0.2em;position: relative;}#sk-container-id-1 div.sk-item {position: relative;z-index: 1;}#sk-container-id-1 div.sk-parallel {display: flex;align-items: stretch;justify-content: center;background-color: white;position: relative;}#sk-container-id-1 div.sk-item::before, #sk-container-id-1 div.sk-parallel-item::before {content: \"\";position: absolute;border-left: 1px solid gray;box-sizing: border-box;top: 0;bottom: 0;left: 50%;z-index: -1;}#sk-container-id-1 div.sk-parallel-item {display: flex;flex-direction: column;z-index: 1;position: relative;background-color: white;}#sk-container-id-1 div.sk-parallel-item:first-child::after {align-self: flex-end;width: 50%;}#sk-container-id-1 div.sk-parallel-item:last-child::after {align-self: flex-start;width: 50%;}#sk-container-id-1 div.sk-parallel-item:only-child::after {width: 0;}#sk-container-id-1 div.sk-dashed-wrapped {border: 1px dashed gray;margin: 0 0.4em 0.5em 0.4em;box-sizing: border-box;padding-bottom: 0.4em;background-color: white;}#sk-container-id-1 div.sk-label label {font-family: monospace;font-weight: bold;display: inline-block;line-height: 1.2em;}#sk-container-id-1 div.sk-label-container {text-align: center;}#sk-container-id-1 div.sk-container {/* jupyter's `normalize.less` sets `[hidden] { display: none; }` but bootstrap.min.css set `[hidden] { display: none !important; }` so we also need the `!important` here to be able to override the default hidden behavior on the sphinx rendered scikit-learn.org. See: https://github.com/scikit-learn/scikit-learn/issues/21755 */display: inline-block !important;position: relative;}#sk-container-id-1 div.sk-text-repr-fallback {display: none;}</style><div id=\"sk-container-id-1\" class=\"sk-top-container\"><div class=\"sk-text-repr-fallback\"><pre>ColumnTransformer(transformers=[(&#x27;pclass_one_hot&#x27;, OneHotEncoder(), [&#x27;pclass&#x27;]),\n",
              "                                (&#x27;sex_one_hot&#x27;, OneHotEncoder(), [&#x27;sex&#x27;]),\n",
              "                                (&#x27;age_scale&#x27;, MinMaxScaler(), [&#x27;age&#x27;]),\n",
              "                                (&#x27;sibsp_scale&#x27;, MinMaxScaler(), [&#x27;sibsp&#x27;]),\n",
              "                                (&#x27;parch_scale&#x27;, MinMaxScaler(), [&#x27;parch&#x27;]),\n",
              "                                (&#x27;fare_log_scale&#x27;,\n",
              "                                 Pipeline(steps=[(&#x27;log&#x27;,\n",
              "                                                  FunctionTransformer(func=&lt;ufunc &#x27;log1p&#x27;&gt;)),\n",
              "                                                 (&#x27;scale&#x27;, MinMaxScaler())]),\n",
              "                                 [&#x27;fare&#x27;]),\n",
              "                                (&#x27;embarked_one_hot&#x27;, OneHotEncoder(),\n",
              "                                 [&#x27;embarked&#x27;])])</pre><b>In a Jupyter environment, please rerun this cell to show the HTML representation or trust the notebook. <br />On GitHub, the HTML representation is unable to render, please try loading this page with nbviewer.org.</b></div><div class=\"sk-container\" hidden><div class=\"sk-item sk-dashed-wrapped\"><div class=\"sk-label-container\"><div class=\"sk-label sk-toggleable\"><input class=\"sk-toggleable__control sk-hidden--visually\" id=\"sk-estimator-id-1\" type=\"checkbox\" ><label for=\"sk-estimator-id-1\" class=\"sk-toggleable__label sk-toggleable__label-arrow\">ColumnTransformer</label><div class=\"sk-toggleable__content\"><pre>ColumnTransformer(transformers=[(&#x27;pclass_one_hot&#x27;, OneHotEncoder(), [&#x27;pclass&#x27;]),\n",
              "                                (&#x27;sex_one_hot&#x27;, OneHotEncoder(), [&#x27;sex&#x27;]),\n",
              "                                (&#x27;age_scale&#x27;, MinMaxScaler(), [&#x27;age&#x27;]),\n",
              "                                (&#x27;sibsp_scale&#x27;, MinMaxScaler(), [&#x27;sibsp&#x27;]),\n",
              "                                (&#x27;parch_scale&#x27;, MinMaxScaler(), [&#x27;parch&#x27;]),\n",
              "                                (&#x27;fare_log_scale&#x27;,\n",
              "                                 Pipeline(steps=[(&#x27;log&#x27;,\n",
              "                                                  FunctionTransformer(func=&lt;ufunc &#x27;log1p&#x27;&gt;)),\n",
              "                                                 (&#x27;scale&#x27;, MinMaxScaler())]),\n",
              "                                 [&#x27;fare&#x27;]),\n",
              "                                (&#x27;embarked_one_hot&#x27;, OneHotEncoder(),\n",
              "                                 [&#x27;embarked&#x27;])])</pre></div></div></div><div class=\"sk-parallel\"><div class=\"sk-parallel-item\"><div class=\"sk-item\"><div class=\"sk-label-container\"><div class=\"sk-label sk-toggleable\"><input class=\"sk-toggleable__control sk-hidden--visually\" id=\"sk-estimator-id-2\" type=\"checkbox\" ><label for=\"sk-estimator-id-2\" class=\"sk-toggleable__label sk-toggleable__label-arrow\">pclass_one_hot</label><div class=\"sk-toggleable__content\"><pre>[&#x27;pclass&#x27;]</pre></div></div></div><div class=\"sk-serial\"><div class=\"sk-item\"><div class=\"sk-estimator sk-toggleable\"><input class=\"sk-toggleable__control sk-hidden--visually\" id=\"sk-estimator-id-3\" type=\"checkbox\" ><label for=\"sk-estimator-id-3\" class=\"sk-toggleable__label sk-toggleable__label-arrow\">OneHotEncoder</label><div class=\"sk-toggleable__content\"><pre>OneHotEncoder()</pre></div></div></div></div></div></div><div class=\"sk-parallel-item\"><div class=\"sk-item\"><div class=\"sk-label-container\"><div class=\"sk-label sk-toggleable\"><input class=\"sk-toggleable__control sk-hidden--visually\" id=\"sk-estimator-id-4\" type=\"checkbox\" ><label for=\"sk-estimator-id-4\" class=\"sk-toggleable__label sk-toggleable__label-arrow\">sex_one_hot</label><div class=\"sk-toggleable__content\"><pre>[&#x27;sex&#x27;]</pre></div></div></div><div class=\"sk-serial\"><div class=\"sk-item\"><div class=\"sk-estimator sk-toggleable\"><input class=\"sk-toggleable__control sk-hidden--visually\" id=\"sk-estimator-id-5\" type=\"checkbox\" ><label for=\"sk-estimator-id-5\" class=\"sk-toggleable__label sk-toggleable__label-arrow\">OneHotEncoder</label><div class=\"sk-toggleable__content\"><pre>OneHotEncoder()</pre></div></div></div></div></div></div><div class=\"sk-parallel-item\"><div class=\"sk-item\"><div class=\"sk-label-container\"><div class=\"sk-label sk-toggleable\"><input class=\"sk-toggleable__control sk-hidden--visually\" id=\"sk-estimator-id-6\" type=\"checkbox\" ><label for=\"sk-estimator-id-6\" class=\"sk-toggleable__label sk-toggleable__label-arrow\">age_scale</label><div class=\"sk-toggleable__content\"><pre>[&#x27;age&#x27;]</pre></div></div></div><div class=\"sk-serial\"><div class=\"sk-item\"><div class=\"sk-estimator sk-toggleable\"><input class=\"sk-toggleable__control sk-hidden--visually\" id=\"sk-estimator-id-7\" type=\"checkbox\" ><label for=\"sk-estimator-id-7\" class=\"sk-toggleable__label sk-toggleable__label-arrow\">MinMaxScaler</label><div class=\"sk-toggleable__content\"><pre>MinMaxScaler()</pre></div></div></div></div></div></div><div class=\"sk-parallel-item\"><div class=\"sk-item\"><div class=\"sk-label-container\"><div class=\"sk-label sk-toggleable\"><input class=\"sk-toggleable__control sk-hidden--visually\" id=\"sk-estimator-id-8\" type=\"checkbox\" ><label for=\"sk-estimator-id-8\" class=\"sk-toggleable__label sk-toggleable__label-arrow\">sibsp_scale</label><div class=\"sk-toggleable__content\"><pre>[&#x27;sibsp&#x27;]</pre></div></div></div><div class=\"sk-serial\"><div class=\"sk-item\"><div class=\"sk-estimator sk-toggleable\"><input class=\"sk-toggleable__control sk-hidden--visually\" id=\"sk-estimator-id-9\" type=\"checkbox\" ><label for=\"sk-estimator-id-9\" class=\"sk-toggleable__label sk-toggleable__label-arrow\">MinMaxScaler</label><div class=\"sk-toggleable__content\"><pre>MinMaxScaler()</pre></div></div></div></div></div></div><div class=\"sk-parallel-item\"><div class=\"sk-item\"><div class=\"sk-label-container\"><div class=\"sk-label sk-toggleable\"><input class=\"sk-toggleable__control sk-hidden--visually\" id=\"sk-estimator-id-10\" type=\"checkbox\" ><label for=\"sk-estimator-id-10\" class=\"sk-toggleable__label sk-toggleable__label-arrow\">parch_scale</label><div class=\"sk-toggleable__content\"><pre>[&#x27;parch&#x27;]</pre></div></div></div><div class=\"sk-serial\"><div class=\"sk-item\"><div class=\"sk-estimator sk-toggleable\"><input class=\"sk-toggleable__control sk-hidden--visually\" id=\"sk-estimator-id-11\" type=\"checkbox\" ><label for=\"sk-estimator-id-11\" class=\"sk-toggleable__label sk-toggleable__label-arrow\">MinMaxScaler</label><div class=\"sk-toggleable__content\"><pre>MinMaxScaler()</pre></div></div></div></div></div></div><div class=\"sk-parallel-item\"><div class=\"sk-item\"><div class=\"sk-label-container\"><div class=\"sk-label sk-toggleable\"><input class=\"sk-toggleable__control sk-hidden--visually\" id=\"sk-estimator-id-12\" type=\"checkbox\" ><label for=\"sk-estimator-id-12\" class=\"sk-toggleable__label sk-toggleable__label-arrow\">fare_log_scale</label><div class=\"sk-toggleable__content\"><pre>[&#x27;fare&#x27;]</pre></div></div></div><div class=\"sk-serial\"><div class=\"sk-item\"><div class=\"sk-serial\"><div class=\"sk-item\"><div class=\"sk-estimator sk-toggleable\"><input class=\"sk-toggleable__control sk-hidden--visually\" id=\"sk-estimator-id-13\" type=\"checkbox\" ><label for=\"sk-estimator-id-13\" class=\"sk-toggleable__label sk-toggleable__label-arrow\">FunctionTransformer</label><div class=\"sk-toggleable__content\"><pre>FunctionTransformer(func=&lt;ufunc &#x27;log1p&#x27;&gt;)</pre></div></div></div><div class=\"sk-item\"><div class=\"sk-estimator sk-toggleable\"><input class=\"sk-toggleable__control sk-hidden--visually\" id=\"sk-estimator-id-14\" type=\"checkbox\" ><label for=\"sk-estimator-id-14\" class=\"sk-toggleable__label sk-toggleable__label-arrow\">MinMaxScaler</label><div class=\"sk-toggleable__content\"><pre>MinMaxScaler()</pre></div></div></div></div></div></div></div></div><div class=\"sk-parallel-item\"><div class=\"sk-item\"><div class=\"sk-label-container\"><div class=\"sk-label sk-toggleable\"><input class=\"sk-toggleable__control sk-hidden--visually\" id=\"sk-estimator-id-15\" type=\"checkbox\" ><label for=\"sk-estimator-id-15\" class=\"sk-toggleable__label sk-toggleable__label-arrow\">embarked_one_hot</label><div class=\"sk-toggleable__content\"><pre>[&#x27;embarked&#x27;]</pre></div></div></div><div class=\"sk-serial\"><div class=\"sk-item\"><div class=\"sk-estimator sk-toggleable\"><input class=\"sk-toggleable__control sk-hidden--visually\" id=\"sk-estimator-id-16\" type=\"checkbox\" ><label for=\"sk-estimator-id-16\" class=\"sk-toggleable__label sk-toggleable__label-arrow\">OneHotEncoder</label><div class=\"sk-toggleable__content\"><pre>OneHotEncoder()</pre></div></div></div></div></div></div></div></div></div></div>"
            ],
            "text/plain": [
              "ColumnTransformer(transformers=[('pclass_one_hot', OneHotEncoder(), ['pclass']),\n",
              "                                ('sex_one_hot', OneHotEncoder(), ['sex']),\n",
              "                                ('age_scale', MinMaxScaler(), ['age']),\n",
              "                                ('sibsp_scale', MinMaxScaler(), ['sibsp']),\n",
              "                                ('parch_scale', MinMaxScaler(), ['parch']),\n",
              "                                ('fare_log_scale',\n",
              "                                 Pipeline(steps=[('log',\n",
              "                                                  FunctionTransformer(func=<ufunc 'log1p'>)),\n",
              "                                                 ('scale', MinMaxScaler())]),\n",
              "                                 ['fare']),\n",
              "                                ('embarked_one_hot', OneHotEncoder(),\n",
              "                                 ['embarked'])])"
            ]
          },
          "metadata": {},
          "output_type": "display_data"
        }
      ],
      "source": [
        "column_transformer.fit(X_train)"
      ]
    },
    {
      "cell_type": "code",
      "execution_count": null,
      "metadata": {},
      "outputs": [],
      "source": [
        "transformed_Xtrain = column_transformer.transform(X_train)\n",
        "transformed_Xtest = column_transformer.transform(X_test)"
      ]
    },
    {
      "cell_type": "markdown",
      "metadata": {
        "id": "iQI4QFycNXoB"
      },
      "source": [
        "### Encoding"
      ]
    },
    {
      "cell_type": "markdown",
      "metadata": {
        "id": "iS2JbAuAHL44"
      },
      "source": [
        "Our **LIME explainer** (and most classifiers) takes in **numerical data**, **even if the features are categorical**.\n",
        "\n",
        "\n",
        "* We thus **transform** **all of the string attributes into integers**, using sklearn's **LabelEncoder**.\n",
        "* We *use a dictionary to save the correspondence between the integer values and the original strings* so we can present this later in the explanations."
      ]
    },
    {
      "cell_type": "markdown",
      "metadata": {
        "id": "WIpRSnUHNPYv"
      },
      "source": [
        "1. **Identify** the **categorical columns** in the dataset and save them into a list.\n",
        "  * They are the same for training and test data.\n",
        "  * In this case, both `category` and `object` dtype represent categorical columns."
      ]
    },
    {
      "cell_type": "code",
      "execution_count": null,
      "metadata": {
        "id": "kibaIfZGFcKm"
      },
      "outputs": [],
      "source": [
        "# Display .info() for training and test datasets"
      ]
    },
    {
      "cell_type": "code",
      "execution_count": null,
      "metadata": {
        "id": "LIDaDxe8B6dp"
      },
      "outputs": [],
      "source": [
        "# Identify categorical columns in train dataset --- they are the same for test dataset!!\n",
        "# You have to indicate the index of the categorical columns\n",
        "\n",
        "### Write your code here!"
      ]
    },
    {
      "cell_type": "markdown",
      "metadata": {
        "id": "2WKevwwNPK1O"
      },
      "source": [
        "\n",
        "\n",
        "2. Create a dictionary of categorical_names. `categorical_names = {}`\n",
        "\n",
        "3. Create a dictionary of the LabelEncoders. `le_dict = {}`\n",
        "\n",
        "4. For each categorical feature, you have to:\n",
        "  * Instanciate the **LabelEncoder()** from sklearn.  `le = LabelEncoder()`\n",
        "  *   Fit the **LabelEncoder()** over the categorical feature of interest.\n",
        "   *  Transform the the categorical feature of interest.\n",
        "  *   Keep trace of the transformation done as follows: `categorical_names[feature] = le.classes_`\n",
        "  * Save the label encoder in the dictionary above as follows: `le_dict[feature] = le`\n",
        "> Do this procedure **only for the train set**. Then, **for the test set**, you will **apply** only `.transform()`\n",
        ".Rember to use the right label encoder for the right categorical feature that you just saved in the `le_dict`.\n",
        "\n",
        "\n",
        "\n",
        "\n",
        "\n"
      ]
    },
    {
      "cell_type": "code",
      "execution_count": null,
      "metadata": {
        "id": "xDb-fBUICN7_"
      },
      "outputs": [],
      "source": [
        "categorical_names = {}\n",
        "le_dict = {}\n",
        "for feature in categorical_cols:\n",
        "  ## Continue with your code here"
      ]
    },
    {
      "cell_type": "code",
      "execution_count": null,
      "metadata": {
        "id": "S1t8YOu1HKJe"
      },
      "outputs": [],
      "source": [
        "categorical_names"
      ]
    },
    {
      "cell_type": "code",
      "execution_count": null,
      "metadata": {
        "id": "Tvlt2C61HKaF"
      },
      "outputs": [],
      "source": [
        "categorical_names_test = {}\n",
        "for feature in categorical_cols:\n",
        "  ## Continue with your code here"
      ]
    },
    {
      "cell_type": "markdown",
      "metadata": {
        "id": "EgRuEfCIHv5x"
      },
      "source": [
        "Now, **use a One-hot encoder**, so that our **classifier does not take the categorical features as continuous features.**\n",
        "\n",
        "\n",
        "---\n",
        "\n",
        "\n",
        "\n",
        "\n",
        "> ***We will use this encoder only for the classifier***, *not for the explainer* - and the reason is that the **explainer must make sure that a categorical feature only has one value.**\n",
        "\n"
      ]
    },
    {
      "cell_type": "code",
      "execution_count": null,
      "metadata": {
        "id": "iZK1o3fxowbW"
      },
      "outputs": [],
      "source": [
        "# Identify the numerical columns - you must save  in a list the index of the column!\n",
        "\n",
        "### Write your code here!"
      ]
    },
    {
      "cell_type": "markdown",
      "metadata": {
        "id": "JHgu6Jl1nPW3"
      },
      "source": [
        "1.   Instanciate the **OneHotEncoder()** to encode the categorical variables.\n",
        "2. Apply the **MinMaxScaler()** to the numerical features.\n",
        "3. Use the **ColumnTransformer()**.\n",
        "\n"
      ]
    },
    {
      "cell_type": "code",
      "execution_count": null,
      "metadata": {
        "id": "qnOEF5hAIC2V"
      },
      "outputs": [],
      "source": [
        "# Initialize OneHotEncoder\n",
        "\n",
        "# Initialize MinMaxScaler\n",
        "\n",
        "\n",
        "# Create ColumnTransformer\n",
        "\n",
        "# Apply ColumnTransformer to your train data\n",
        "\n",
        "# Apply ColumnTransformer to your test data"
      ]
    },
    {
      "cell_type": "markdown",
      "metadata": {
        "id": "HYJfpl4B1Qz6"
      },
      "source": [
        "####Fit the RandomForestClassifier with `n_estimators=500`"
      ]
    },
    {
      "cell_type": "code",
      "execution_count": null,
      "metadata": {
        "id": "W3TeG2rLzH_Q"
      },
      "outputs": [],
      "source": [
        "### Write your code here!"
      ]
    },
    {
      "cell_type": "markdown",
      "metadata": {
        "id": "-Jk--gWWbGe1"
      },
      "source": [
        "Calculate the y_pred with the `.predict() ` function from sklearn"
      ]
    },
    {
      "cell_type": "code",
      "execution_count": null,
      "metadata": {
        "id": "T0TdF0ELNyAq"
      },
      "outputs": [],
      "source": [
        "### Write your code here!"
      ]
    },
    {
      "cell_type": "markdown",
      "metadata": {
        "id": "8dfrKcWA1-ms"
      },
      "source": [
        "Calculate the Accuracy Score"
      ]
    },
    {
      "cell_type": "code",
      "execution_count": null,
      "metadata": {
        "id": "DBNr5Jio1ndr"
      },
      "outputs": [],
      "source": [
        "### Write your code here!"
      ]
    },
    {
      "cell_type": "markdown",
      "metadata": {
        "id": "u0HvDUqucNLS"
      },
      "source": [
        "\n",
        "\n",
        "---\n",
        "\n",
        "## **Exercise 1b:**\n",
        "\n",
        "Let's now explain the predictions obtained in the Exercise 1a using **LIME**. Before starting the exercise you have to:\n",
        "\n",
        "* Install the lime library running the following command in a cell `!pip install lime`\n",
        "* Import the module for tabular data as:\n",
        "`from lime import lime_tabular`\n",
        "\n",
        "\n",
        "Then, the goal of this exercise is to explain an individual prediction of interest. To get you started in understanding how the library works, this exercise will be mostly guided. You have to:\n",
        "\n",
        "* Fix the random seed.\n",
        "* Instanciate the explainer as:  `explainer = lime_tabular.LimeTabularExplainer`.\n",
        "  * Read the [documentation](https://lime-ml.readthedocs.io/en/latest/lime.html#module-lime.lime_tabular) and try to understand the role of each parameter.\n",
        "  * In this case, the prediction function `pred_fn` has to be custom. *Follow the guide in the notebook.*\n",
        "  * Now, try to explain the `instance i=0 ` with `explainer.explain_instance`.  *What can you infer? What is the predicted class for that instance?*"
      ]
    },
    {
      "cell_type": "code",
      "execution_count": null,
      "metadata": {
        "id": "TAacuZDKBd2M"
      },
      "outputs": [],
      "source": [
        "!pip install lime\n",
        "from lime import lime_tabular"
      ]
    },
    {
      "cell_type": "markdown",
      "metadata": {
        "id": "ahyB-yiZ2vfc"
      },
      "source": [
        "### **Explaining predictions**"
      ]
    },
    {
      "cell_type": "markdown",
      "metadata": {
        "id": "I6IoKC25bVes"
      },
      "source": [
        "Fix the random seed with `np.random.seed(42)`"
      ]
    },
    {
      "cell_type": "code",
      "execution_count": null,
      "metadata": {
        "id": "fS7743wP118v"
      },
      "outputs": [],
      "source": [
        "### Write your code here!"
      ]
    },
    {
      "cell_type": "markdown",
      "metadata": {
        "id": "8GXa8dnEnKWy"
      },
      "source": [
        "Instanciate the LimeTabularExplainer"
      ]
    },
    {
      "cell_type": "code",
      "execution_count": null,
      "metadata": {
        "id": "N-lo16-sI7CB"
      },
      "outputs": [],
      "source": [
        "explainer = lime_tabular.LimeTabularExplainer(X_train.values, # here the function requires a numpy array\n",
        "                                              mode = 'classification',\n",
        "                                              class_names=['not survived' , 'survived'],\n",
        "                                              feature_names = X_train.columns,\n",
        "                                              categorical_features=categorical_cols,\n",
        "                                              categorical_names=categorical_names,\n",
        "                                              kernel_width=3,\n",
        "                                              verbose=True)\n"
      ]
    },
    {
      "cell_type": "code",
      "execution_count": null,
      "metadata": {
        "id": "bTMsj-jABCVk"
      },
      "outputs": [],
      "source": [
        "def predict_fn(x):\n",
        "  temporary_df = pd.DataFrame(x, columns=X_train.columns, dtype='object') # to apply the ColumnTransformer you have to have a dataframe\n",
        "  print(temporary_df.head(2))\n",
        "  transf = ct.transform(temporary_df)\n",
        "  pred = rf.predict_proba(transf).astype(float)\n",
        "  return pred"
      ]
    },
    {
      "cell_type": "code",
      "execution_count": null,
      "metadata": {
        "id": "05EHmuPVKA7S"
      },
      "outputs": [],
      "source": [
        "i = 1\n",
        "exp = explainer.explain_instance(X_test.values[i],\n",
        "                                 predict_fn,\n",
        "                                 num_samples=3)\n",
        "exp.show_in_notebook()"
      ]
    },
    {
      "cell_type": "markdown",
      "metadata": {
        "id": "s7AaC-dZgrcU"
      },
      "source": [
        "\n",
        "\n",
        "---\n",
        "\n",
        "## **Exercise 1.c**\n",
        "\n",
        "**It's time to play with LIME!** 😀\n",
        "\n",
        "\n",
        "The purpose of this exercise is to make you familiar with the LIME library and make you understand the main features.\n",
        "\n",
        "* Instanciate **a new LimeTabularExplainer**\n",
        "* Use the **same predict_fn** as before\n",
        "* `explain_instance` for the instance `i=1`.\n",
        "  * **Run** this for **5 times** and **pay attention **to the part about what features and to what extent they contributed to that prediction (explanation).\n",
        "  * *Did you always obtain the same explanation?* If no, *what is the missing step? *\n",
        "\n",
        "* Let's now change the parameter num_samples to `num_samples=15`.\n",
        "  * Can you guess what is the role of this parameter?\n",
        "* The parameter `num_features` indicates the  maximum number of features present in explanation.\n",
        "  * Try to vary this number between 1 and 6. Where can you see a change?\n",
        "* Change the distance parameter to ` distance_metric='l2'`.\n",
        "  * Where is the distance used?"
      ]
    },
    {
      "cell_type": "code",
      "execution_count": null,
      "metadata": {
        "id": "pLJlLUgOivPA"
      },
      "outputs": [],
      "source": [
        "### Write your code here!"
      ]
    }
  ],
  "metadata": {
    "colab": {
      "collapsed_sections": [
        "fBZjDbVwTee3"
      ],
      "provenance": []
    },
    "kernelspec": {
      "display_name": "Python 3",
      "name": "python3"
    },
    "language_info": {
      "name": "python"
    }
  },
  "nbformat": 4,
  "nbformat_minor": 0
}
