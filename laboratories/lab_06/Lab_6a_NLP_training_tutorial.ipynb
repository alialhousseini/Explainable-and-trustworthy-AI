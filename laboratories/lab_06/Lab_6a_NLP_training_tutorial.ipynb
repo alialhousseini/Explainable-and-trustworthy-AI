{
 "cells": [
  {
   "cell_type": "markdown",
   "metadata": {
    "id": "GqNdhAUAJZsb"
   },
   "source": [
    "# **Lab 6a - Explainable and Trustworthy AI**\n",
    "\n",
    "\n",
    "---\n",
    "\n"
   ]
  },
  {
   "cell_type": "markdown",
   "metadata": {
    "id": "pfgzpidqJrNF"
   },
   "source": [
    "**Teaching Assistant**: *Salvatore Greco*\n",
    "\n",
    "**DISCLAIMER**: *This lab contains examples of offensive language*."
   ]
  },
  {
   "cell_type": "markdown",
   "metadata": {
    "id": "wXQgTsYkJtDc"
   },
   "source": [
    "## **Lab 6a:** Introduction to Natural Language Processing (NLP) with HuggingFace\n",
    "\n",
    "In this lab, you will learn how to **train** NLP classifiers and make **inferences** using the [HuggingFace](https://huggingface.co/docs) library.\n",
    "\n",
    "Two of the most famous libraries inside HuggingFace are the [Transformers](https://huggingface.co/docs/transformers/index) and [Datasets](https://huggingface.co/docs/datasets/index) libraries.\n",
    "- [Datasets](https://huggingface.co/docs/datasets/index) provides classes and methods to access and share datasets for NLP, computer vision, and audio tasks.\n",
    "- [Transformers](https://huggingface.co/docs/transformers/index) provides classes and methods to train and use deep learning models for PyTorch, TensorFlow, and JAX.\n",
    "\n",
    "The objective of this notebook is to train and use a **binary toxicity prediction classifier**. \n",
    "\n",
    "\n",
    "Firstly, you need to install these libraries. Run the next cell to install it (uncomment the lines if you need to insall them).\n",
    "\n"
   ]
  },
  {
   "cell_type": "code",
   "execution_count": 1,
   "metadata": {
    "colab": {
     "base_uri": "https://localhost:8080/"
    },
    "id": "pRu6PioyJkVy",
    "outputId": "9ef236fb-ad83-40b7-b3e9-91f702759bf9",
    "tags": []
   },
   "outputs": [],
   "source": [
    "#!pip install transformers\n",
    "#!pip install datasets\n",
    "#!pip install accelerate -U"
   ]
  },
  {
   "cell_type": "markdown",
   "metadata": {},
   "source": [
    "Run the next cell to import the required libraries for this lab."
   ]
  },
  {
   "cell_type": "code",
   "execution_count": 2,
   "metadata": {
    "id": "2CwB2Ce64HK_",
    "tags": []
   },
   "outputs": [
    {
     "name": "stderr",
     "output_type": "stream",
     "text": [
      "/home/students/s289159/.conda/envs/audio-env/lib/python3.9/site-packages/tqdm/auto.py:22: TqdmWarning: IProgress not found. Please update jupyter and ipywidgets. See https://ipywidgets.readthedocs.io/en/stable/user_install.html\n",
      "  from .autonotebook import tqdm as notebook_tqdm\n"
     ]
    }
   ],
   "source": [
    "# Import the required libraries for this lab\n",
    "from datasets import load_dataset\n",
    "import transformers\n",
    "\n",
    "from collections import Counter\n",
    "\n",
    "import matplotlib.pyplot as plt\n",
    "\n",
    "import sklearn\n",
    "import numpy as np\n",
    "\n",
    "import os\n",
    "import torch\n",
    "from torch import nn"
   ]
  },
  {
   "cell_type": "markdown",
   "metadata": {},
   "source": [
    "Run the following command to check GPU utilization, memory usage, and availability. If the command outputs information about your GPU, it means the GPU is available. In contrast, the command returns an error or no information; it indicates that the GPU might not be available or there is an issue.\n",
    "\n",
    "Note that a GPU is required to train (fine-tune) transformer models."
   ]
  },
  {
   "cell_type": "code",
   "execution_count": 3,
   "metadata": {
    "colab": {
     "base_uri": "https://localhost:8080/"
    },
    "id": "mx5tx4FkACEs",
    "outputId": "1138d712-a7bd-4b1f-a65f-886aef0f04de",
    "tags": []
   },
   "outputs": [
    {
     "name": "stdout",
     "output_type": "stream",
     "text": [
      "Tue May  7 12:17:58 2024       \n",
      "+---------------------------------------------------------------------------------------+\n",
      "| NVIDIA-SMI 535.86.10              Driver Version: 535.86.10    CUDA Version: 12.2     |\n",
      "|-----------------------------------------+----------------------+----------------------+\n",
      "| GPU  Name                 Persistence-M | Bus-Id        Disp.A | Volatile Uncorr. ECC |\n",
      "| Fan  Temp   Perf          Pwr:Usage/Cap |         Memory-Usage | GPU-Util  Compute M. |\n",
      "|                                         |                      |               MIG M. |\n",
      "|=========================================+======================+======================|\n",
      "|   0  Tesla V100-PCIE-16GB           On  | 00000000:D8:00.0 Off |                    0 |\n",
      "| N/A   40C    P0              24W / 250W |      0MiB / 16384MiB |      0%      Default |\n",
      "|                                         |                      |                  N/A |\n",
      "+-----------------------------------------+----------------------+----------------------+\n",
      "                                                                                         \n",
      "+---------------------------------------------------------------------------------------+\n",
      "| Processes:                                                                            |\n",
      "|  GPU   GI   CI        PID   Type   Process name                            GPU Memory |\n",
      "|        ID   ID                                                             Usage      |\n",
      "|=======================================================================================|\n",
      "|  No running processes found                                                           |\n",
      "+---------------------------------------------------------------------------------------+\n"
     ]
    }
   ],
   "source": [
    "!nvidia-smi"
   ]
  },
  {
   "cell_type": "markdown",
   "metadata": {
    "id": "Zj7UfwlI2odb"
   },
   "source": [
    "---\n",
    "\n",
    "## **Exercise 1: Fine-tuning BERT for Toxicity prediction**\n",
    "\n",
    "### BERT Model\n",
    "In this exercise, you will **fine-tune** a **BERT** model for **toxicity predictions** using the HuggingFace library.\n",
    "\n",
    "[BERT](https://aclanthology.org/N19-1423.pdf) is a **transformer-encoder** model pre-trained on a large corpus of English data in a self-supervised fashion, using **Masked Language Modeling (MLM)** and **Next Sentence Prediction (NSP)** tasks.\n",
    "\n",
    "You will fine-tune the original pre-trained weights of the base and uncased version of BERT  (available [here](https://huggingface.co/google-bert/bert-base-uncased)). The base version contains 12 transformer (encoder) layers and with embedding dimensionality 768. The model is uncased, thus it perform lowercasing during tokenization (i.e., it does not discriminate between upper and lower case letters).\n",
    "\n",
    "You can learn about the BERT architecture from the following links: [blog1](https://jalammar.github.io/illustrated-bert/) and [blog2](https://medium.com/@shaikhrayyan123/a-comprehensive-guide-to-understanding-bert-from-beginners-to-advanced-2379699e2b51).\n",
    "\n",
    "## Dataset\n",
    "You will use a dataset ([Jigsaw Toxic Comments](https://www.kaggle.com/competitions/jigsaw-toxic-comment-classification-challenge/data)) of publicly available Wikipedia comments annotated for several aspects of toxicity: *toxic*, *severe_toxic*, *obscene*, *threat*, *insult*, *identity_hate*. To simplify the task, and, later, the model's explanation, you will train a **binary model to predict the *toxic* label only**."
   ]
  },
  {
   "cell_type": "markdown",
   "metadata": {
    "id": "kMkUzijj3mD3",
    "tags": []
   },
   "source": [
    "### 1.1 Load dataset\n",
    "\n",
    "Firstly, you will load the dataset using the [load_dataset](https://huggingface.co/docs/datasets/loading) function of the `Datasets` transformers library.\n",
    "\n",
    "The Transformers library, along with the datasets library, provides many pre-uploaded datasets that you can download with just one line of code using the `load_dataset` function. These datasets range across a variety of domains and tasks, such as text classification, sentiment analysis, machine translation, and many more.\n",
    "\n",
    "The dataset of Wikipedia comments annotated for toxicity is available on HugginFace [Here](https://huggingface.co/datasets/google/jigsaw_toxicity_pred).<br> However, in this particular case, you must also have the files in a local folder and specify that folder in the `load_dataset` function.\n",
    "\n",
    "Make sure you have a local folder with the following tree structure:\n",
    "```\n",
    ".\n",
    "└── jigsaw_toxicity_pred/\n",
    "    ├── train.csv\n",
    "    ├── test.csv\n",
    "    └── test_labels.csv\n",
    "```\n",
    "\n",
    "You can download the files from [Kaggle](https://www.kaggle.com/competitions/jigsaw-toxic-comment-classification-challenge/data), or you can use the data zip file for this lab."
   ]
  },
  {
   "cell_type": "code",
   "execution_count": 4,
   "metadata": {
    "colab": {
     "base_uri": "https://localhost:8080/"
    },
    "id": "NINVDkVoEW-s",
    "outputId": "48e199d6-7b3f-4f0a-90fb-e8870e5413e9",
    "tags": []
   },
   "outputs": [],
   "source": [
    "#!ls"
   ]
  },
  {
   "cell_type": "markdown",
   "metadata": {},
   "source": [
    "Uncomment the next line if you need to unzip the file."
   ]
  },
  {
   "cell_type": "code",
   "execution_count": 5,
   "metadata": {
    "colab": {
     "base_uri": "https://localhost:8080/"
    },
    "id": "0LtTWvkjER45",
    "outputId": "6238c047-df59-4f5a-d3a0-d5215c0b55f1",
    "tags": []
   },
   "outputs": [],
   "source": [
    "#!unzip -o jigsaw_toxicity_pred.zip"
   ]
  },
  {
   "cell_type": "code",
   "execution_count": 6,
   "metadata": {
    "colab": {
     "base_uri": "https://localhost:8080/",
     "height": 170,
     "referenced_widgets": [
      "2aa1fb72e93145a0accf5f175b8e6d28",
      "c029b51f17344c46a68037707d52ea74",
      "c5c6e3ba1f034cbf9bf527e64bdc413d",
      "6277055a5b7f47998e6939f98116a724",
      "94802449fca84bf28da74d2ec5c6f3de",
      "4e9fcafedc77409eaa529f72af613ff0",
      "37f27a02464e484abccbb7a82ba6a891",
      "2603b85a85b047ff8dbdfa7aa3afaa67",
      "7c4b2fad950a4f8b8b24b6c83856cb09",
      "62b20ea16bce4c97984157f302f802da",
      "95fcd1b463cb480192113de9de03d92d",
      "a640b512021747e8878c7f51ed145e92",
      "05392daed86b42249ad1971674675895",
      "da3c902abcab451a9661b9ebca7f6339",
      "6eff947e24f84603ba824135fe4d1a5f",
      "c1a902d72027495788764ba3d490be46",
      "6580bb7ddec24d74894aaff0e052e11f",
      "50683b12771f443a9ecde371bd27b110",
      "3ebc76962bf34f1aaaaa75e91a9890b3",
      "1063f5f402c6495e94d19d4ac13125bd",
      "7c387b1cc12a4feeb5876fe7cd2ccc1e",
      "dd99db62325d418b8be2bfaa9d7fc3d2"
     ]
    },
    "id": "aKSp_vwe3llL",
    "outputId": "1cbe0c2a-1afd-4834-f2ef-18ea4afec952",
    "tags": []
   },
   "outputs": [
    {
     "name": "stderr",
     "output_type": "stream",
     "text": [
      "Using custom data configuration default-data_dir=jigsaw_toxicity_pred\n",
      "Reusing dataset jigsaw_toxicity_pred (/home/students/s289159/.cache/huggingface/datasets/google___jigsaw_toxicity_pred/default-data_dir=jigsaw_toxicity_pred/1.1.0/9cf096ac4341c35839bc8a9f6a19d93e18e5ad3d84cf05f690d2bc6f7384af85)\n",
      "100%|██████████| 2/2 [00:01<00:00,  1.83it/s]\n"
     ]
    }
   ],
   "source": [
    "# Load the jigsaw toxicity prediction dataset\n",
    "dataset = load_dataset(\"google/jigsaw_toxicity_pred\", data_dir=\"jigsaw_toxicity_pred\")"
   ]
  },
  {
   "cell_type": "code",
   "execution_count": 7,
   "metadata": {
    "id": "VxmUpRi8KZrX",
    "tags": []
   },
   "outputs": [],
   "source": [
    "# Dictionary that maps the label id to the label name\n",
    "id2label = {0: \"Non-Toxic\", 1: \"Toxic\"} \n",
    "\n",
    "# Dictionary that maps the label name to the label id\n",
    "label2id = {\"Non-Toxic\": 0, \"Toxic\": 1}\n",
    "\n",
    "label_names = ['Non-Toxic', 'Toxic']"
   ]
  },
  {
   "cell_type": "markdown",
   "metadata": {},
   "source": [
    "### 1.2 Dataset exploration\n",
    "\n",
    "The dataset contains 159,571 training and 63,978 test samples. \n",
    "\n",
    "Each sample contains the input comment `comment_text` and all the toxicity related labels: `toxic`, `severe_toxic`, `obscene`, `threat`, `insult`, and `identity_hate`. <br> However, you will only use the `toxic` label."
   ]
  },
  {
   "cell_type": "code",
   "execution_count": 8,
   "metadata": {
    "colab": {
     "base_uri": "https://localhost:8080/"
    },
    "id": "gFGF9Yo_yoCh",
    "outputId": "d10a476c-f906-48bf-a1ac-d1a0ab22225a",
    "tags": []
   },
   "outputs": [
    {
     "data": {
      "text/plain": [
       "DatasetDict({\n",
       "    train: Dataset({\n",
       "        features: ['comment_text', 'toxic', 'severe_toxic', 'obscene', 'threat', 'insult', 'identity_hate'],\n",
       "        num_rows: 159571\n",
       "    })\n",
       "    test: Dataset({\n",
       "        features: ['comment_text', 'toxic', 'severe_toxic', 'obscene', 'threat', 'insult', 'identity_hate'],\n",
       "        num_rows: 63978\n",
       "    })\n",
       "})"
      ]
     },
     "execution_count": 8,
     "metadata": {},
     "output_type": "execute_result"
    }
   ],
   "source": [
    "dataset"
   ]
  },
  {
   "cell_type": "markdown",
   "metadata": {},
   "source": [
    "In the next cells you will explore some samles of the dataset. Feel free to change the `text_id`."
   ]
  },
  {
   "cell_type": "code",
   "execution_count": 9,
   "metadata": {
    "id": "CoEE7OnR6599",
    "tags": []
   },
   "outputs": [],
   "source": [
    "text_id = 5000"
   ]
  },
  {
   "cell_type": "code",
   "execution_count": 10,
   "metadata": {
    "colab": {
     "base_uri": "https://localhost:8080/",
     "height": 53
    },
    "id": "_cUcIC1e6sa-",
    "outputId": "c38c5e11-200d-49b5-c3a3-985e821c85f5",
    "tags": []
   },
   "outputs": [
    {
     "name": "stdout",
     "output_type": "stream",
     "text": [
      "hay bitch \n",
      "\n",
      "thank you kindly for your advice on my vandalism but if your the dick who removed the thing abouth Berties make up costs Thats true... so ah FUCK  YOU\n"
     ]
    }
   ],
   "source": [
    "# Print the comment in the position equal to `text_id` \n",
    "print(dataset[\"train\"]['comment_text'][text_id])"
   ]
  },
  {
   "cell_type": "code",
   "execution_count": 11,
   "metadata": {
    "colab": {
     "base_uri": "https://localhost:8080/"
    },
    "id": "BY-BAqCW6-vp",
    "outputId": "e3014c30-54cc-4302-84ad-f47af493183f",
    "tags": []
   },
   "outputs": [
    {
     "name": "stdout",
     "output_type": "stream",
     "text": [
      "Label ID: 1\n",
      "Label name: Toxic\n"
     ]
    }
   ],
   "source": [
    "# Print the label identifier and name in the position equal to `text_id` \n",
    "print(f\"Label ID: {dataset['train']['toxic'][text_id]}\")\n",
    "print(f\"Label name: {id2label[dataset['train']['toxic'][text_id]]}\")"
   ]
  },
  {
   "cell_type": "markdown",
   "metadata": {},
   "source": [
    "The next two cells **count** and **plot** the number of `non-toxic` and `toxic` samples in the training and test set "
   ]
  },
  {
   "cell_type": "code",
   "execution_count": 12,
   "metadata": {
    "colab": {
     "base_uri": "https://localhost:8080/"
    },
    "id": "56k9fHjlOTB-",
    "outputId": "79ac02b4-40d8-4080-be7a-70ffa14a5443",
    "tags": []
   },
   "outputs": [
    {
     "name": "stdout",
     "output_type": "stream",
     "text": [
      "Number of samples for each label in the Training set:\n",
      "Label: Non-Toxic, Count: 144277\n",
      "Label: Toxic, Count: 15294\n",
      "\n",
      "Number of samples for each label in the Test set:\n",
      "Label: Non-Toxic, Count: 57888\n",
      "Label: Toxic, Count: 6090\n"
     ]
    }
   ],
   "source": [
    "# Count the number of samples for each label\n",
    "print(\"Number of samples for each label in the Training set:\")\n",
    "for label_id, count in Counter(dataset['train']['toxic']).items():\n",
    "    print(f\"Label: {id2label[label_id]}, Count: {count}\")\n",
    "\n",
    "print(\"\\nNumber of samples for each label in the Test set:\")\n",
    "for label_id, count in Counter(dataset['test']['toxic']).items():\n",
    "    print(f\"Label: {id2label[label_id]}, Count: {count}\")"
   ]
  },
  {
   "cell_type": "code",
   "execution_count": 13,
   "metadata": {
    "colab": {
     "base_uri": "https://localhost:8080/",
     "height": 284
    },
    "id": "20ziHjfFLuPF",
    "outputId": "9ec67dbd-eca5-46b3-b9eb-8f19bda6db20",
    "tags": []
   },
   "outputs": [
    {
     "data": {
      "image/png": "[encoded data removed]",
      "text/plain": [
       "<Figure size 576x216 with 2 Axes>"
      ]
     },
     "metadata": {
      "needs_background": "light"
     },
     "output_type": "display_data"
    }
   ],
   "source": [
    "# Extract the 'toxic' column from the training set\n",
    "train_toxic_labels = dataset['train']['toxic']\n",
    "test_toxic_labels = dataset['test']['toxic']\n",
    "\n",
    "# Count the number of samples for each label in the training set\n",
    "train_label_counts = Counter(train_toxic_labels)\n",
    "test_label_counts = Counter(test_toxic_labels)\n",
    "\n",
    "# Plot the bar plots\n",
    "fig, axes = plt.subplots(1, 2, figsize=(8, 3))\n",
    "\n",
    "# Plot for training set\n",
    "axes[0].bar(label_names, train_label_counts.values(), color=['blue', 'red'])\n",
    "axes[0].set_xlabel('Label')\n",
    "axes[0].set_ylabel('Number of Samples')\n",
    "axes[0].set_title('Training Set')\n",
    "\n",
    "# Plot for test set\n",
    "axes[1].bar(label_names, test_label_counts.values(), color=['blue', 'red'])\n",
    "axes[1].set_xlabel('Label')\n",
    "axes[1].set_ylabel('Number of Samples')\n",
    "axes[1].set_title('Test Set')\n",
    "\n",
    "plt.tight_layout()\n",
    "plt.show()"
   ]
  },
  {
   "cell_type": "markdown",
   "metadata": {},
   "source": [
    "As you can see from the previous cells, the dataset is highly imbalanced (as expected). Indeed, `non-toxic` comments are one order of magnitude more than `toxic` ones. Therefore, you will use inversely proprotional **class weights** in the loss function.\n",
    "\n",
    "Run the next cell to compute the inversely proportional class weights.<br> Since you will use it in the loss function, you must convert it to a PyTorch tensor `class_weights`."
   ]
  },
  {
   "cell_type": "code",
   "execution_count": 14,
   "metadata": {
    "tags": []
   },
   "outputs": [
    {
     "name": "stdout",
     "output_type": "stream",
     "text": [
      "class weights tensor([0.0958, 0.9042])\n"
     ]
    }
   ],
   "source": [
    "# Calculate class frequencies in the training data\n",
    "class_frequencies = np.bincount(train_toxic_labels)\n",
    "total_samples = len(train_toxic_labels)\n",
    "\n",
    "# Calculate class frequencies in the training data\n",
    "class_frequencies = np.bincount(train_toxic_labels)\n",
    "total_samples = len(train_toxic_labels)\n",
    "\n",
    "# Calculate class weights based on class frequencies, ensuring they sum up to 1\n",
    "class_weights = total_samples / (class_frequencies * len(class_frequencies))\n",
    "class_weights /= class_weights.sum()  # Normalize to ensure they sum to 1\n",
    "\n",
    "# Convert class_weights to a PyTorch tensor\n",
    "class_weights = torch.tensor(class_weights, dtype=torch.float32)\n",
    "print(\"class weights\", class_weights)"
   ]
  },
  {
   "cell_type": "markdown",
   "metadata": {
    "id": "vWd1KuY--7VX",
    "tags": []
   },
   "source": [
    "### 1.3 Load the model and the tokenizer\n",
    "\n",
    "The next cell loads the **model** and **tokenizer** using [AutoCLasses](https://huggingface.co/docs/transformers/model_doc/auto). \n",
    "AutoClasses can automatically retrieves the relevant model given the name or path to the pre-trained weights, config, and vocabulary. \n",
    "Specifically, the AutoClasses automatically retrive the architecture you want to use from the name or the path of the pretrained model you are supplying to the `from_pretrained()` method.\n",
    "\n",
    "You will use [AutoTokenizer](https://huggingface.co/transformers/v3.0.2/model_doc/auto.html#autotokenizer) to automatically download the tokenizer.\n",
    "For the model, you use [AutoModelForSequenceClassification](https://huggingface.co/transformers/v3.0.2/model_doc/auto.html#automodelforsequenceclassification) since you will be performing a sentence classification task. <br> You can see all the AutoModels [here](https://huggingface.co/transformers/v3.0.2/model_doc/auto.html#automodels).\n",
    "\n",
    "For the tokenizer, you have to specify `'do_lower_case' = True` to lowercase the input when tokenizing.\n",
    "\n",
    "Notice that you are downloading the **pre-trained weights** of BERT (i.e., pre-trained for MLM and NSP on huge corpora). This model already has a lot of prior knowledge and understanding of general English. You will then fine-tune the pre-trained model to your domain-specific data to adapt this broad understanding to your specific task (i.e., toxicity predictions). This is much more effective than training a model from scratch."
   ]
  },
  {
   "cell_type": "code",
   "execution_count": 15,
   "metadata": {
    "colab": {
     "base_uri": "https://localhost:8080/",
     "height": 200,
     "referenced_widgets": [
      "db0e834c84274ca49a6b7bc60c162ebb",
      "796b1d6f41474c269aec017094267776",
      "26b57230caee439d9c293a06fe310d3a",
      "97eac57a986b45138bc21d518ade83ca",
      "eeb8e659637c4eca9fe2b7218a09a608",
      "781dfee10e6f4be2ac7f1e4b76f1aaa8",
      "342a96ff787c4398ab907736552a4867",
      "ceb184cdb6f44fb8a209523ddbc45d7d",
      "f31aa9c1965144beb68eae707469a2b3",
      "f9979a6f69b84cd48a12107863a964f8",
      "f88624fbe7d240b0ada0a1185bc4addf",
      "8b33996146d3443e9e06324f31608d8e",
      "38fb9d662f114db5a1844ac6fd71c61e",
      "b71437d312e748da9cd2fb99b3de1e55",
      "f6ff50ca851646a1bd264cb164a5a634",
      "309056cc55f14ef289cd9432d0751869",
      "60c9702c1f2b4e7d9e983b406b28d925",
      "65e59657d8df466484ebab24295e707d",
      "17f15bdcdcc4449387c9d008ebf18e38",
      "229d735cc671424ca9b9e3caa499c47a",
      "83960f7e05414a1281ca8c2ec89078ee",
      "410930a13a2545a3bc871fd1d7eeab4d",
      "969cb0e8b7004e21abdf656c62bdfa97",
      "0ad3611dbb1245eea1705d4030e86745",
      "7c65b5b06df04d6fa399124b640e7a6b",
      "746d6b0facb64872a33a550c9c5ade26",
      "5bb71bf0c5494b3d968960bd3238e1f2",
      "3c868069bdf54095896fdb994ea28069",
      "eed0afb28504484b8e29ce367beef065",
      "a50865b819ff4613a255116f7c9a44a0",
      "5de29c4bb4444f66bdc7e434d06cea65",
      "923f32e22a31474ab06dbf575b5ad35d",
      "39df13ce894b4e568bc9e7e53e82ca94",
      "898baddbd5f44e4b86668036b29e03d8",
      "3ce7e02c5a264f36bf68fcc97e0f92d3",
      "18b2304f69d74cebba490b5cb7d8bcd6",
      "870a6c2698c2451b9b42e4678601aff9",
      "108671c92a2644b7a335a3dafbc64a78",
      "0171955bc45e43a39650747bd85a3008",
      "e53c2cd0f9aa43ca90a629d4693a37d6",
      "a328ae5d96e14d1b9b0d83c3deff672b",
      "f853db2de468406594d360c7f8ac4458",
      "3624ce644f124b209ee8ef41332d65f3",
      "9048e958887343979cbff0084388ef60"
     ]
    },
    "id": "4OssnXCMLuTy",
    "outputId": "1e9a9c94-fa07-40dd-f4e2-65073efc023e",
    "tags": []
   },
   "outputs": [
    {
     "name": "stderr",
     "output_type": "stream",
     "text": [
      "Some weights of the model checkpoint at bert-base-uncased were not used when initializing BertForSequenceClassification: ['cls.predictions.transform.dense.bias', 'cls.seq_relationship.bias', 'cls.predictions.transform.LayerNorm.weight', 'cls.predictions.transform.LayerNorm.bias', 'cls.seq_relationship.weight', 'cls.predictions.bias', 'cls.predictions.transform.dense.weight', 'cls.predictions.decoder.weight']\n",
      "- This IS expected if you are initializing BertForSequenceClassification from the checkpoint of a model trained on another task or with another architecture (e.g. initializing a BertForSequenceClassification model from a BertForPreTraining model).\n",
      "- This IS NOT expected if you are initializing BertForSequenceClassification from the checkpoint of a model that you expect to be exactly identical (initializing a BertForSequenceClassification model from a BertForSequenceClassification model).\n",
      "Some weights of BertForSequenceClassification were not initialized from the model checkpoint at bert-base-uncased and are newly initialized: ['classifier.bias', 'classifier.weight']\n",
      "You should probably TRAIN this model on a down-stream task to be able to use it for predictions and inference.\n"
     ]
    }
   ],
   "source": [
    "from transformers import AutoTokenizer\n",
    "from transformers import AutoModelForSequenceClassification\n",
    "\n",
    "model_name = \"bert-base-uncased\"\n",
    "\n",
    "tokenizer = AutoTokenizer.from_pretrained(model_name, do_lower_case=True)\n",
    "\n",
    "model = AutoModelForSequenceClassification.from_pretrained(model_name,\n",
    "                                                           num_labels=len(id2label),\n",
    "                                                           label2id=label2id,\n",
    "                                                           id2label=id2label)"
   ]
  },
  {
   "cell_type": "markdown",
   "metadata": {},
   "source": [
    "Alternatively, if you would not have wanted to use AutoModels, the code would be as follows.\n",
    "\n",
    "```python\n",
    "from transformers import BertTokenizer, BertForSequenceClassification\n",
    "\n",
    "model_name = \"bert-base-uncased\"\n",
    "\n",
    "# Use BertTokenizer specific for the \"bert-base-uncased\" model\n",
    "tokenizer = BertTokenizer.from_pretrained(model_name, do_lower_case=True)\n",
    "\n",
    "# Use BertForSequenceClassification specific for the \"bert-base-uncased\" model\n",
    "model = BertForSequenceClassification.from_pretrained(\n",
    "    model_name,\n",
    "    num_labels=len(id2label),\n",
    "    label2id=label2id,\n",
    "    id2label=id2label\n",
    ")\n",
    "\n",
    "```"
   ]
  },
  {
   "cell_type": "markdown",
   "metadata": {},
   "source": [
    "### 1.4 Tokenize the training and test datasets\n",
    "The main pre-processing steps in NLP consist of splitting the input sentences into words, padding sentences to make sure they have a similar length, and truncating sequences longer than the max sequence length. \n",
    "\n",
    "\n",
    "#### **Subword-based tokenization**\n",
    "**Sub-words** tokenization tries to reduce i) the vocabulary size, ii) the number of out-of-vocabulary (OOV) words, and iii) the risk to create different representations of very similar words (e.g., words that differ for just one letter such as *'dog'* and *'dogs'*). \n",
    "\n",
    "The **subword-based tokenization** algorithms generally use a **special symbol** to indicate which word is the start of the token and which word is the completion.  For the BERT model, the special symbol is `##`. For isntance, the word `“tokenization”` can be split into `“token”` and `“##ization”` which indicates that `“token”` is the start of the word and `“##ization”` is the completion of the word.\n",
    "\n",
    "You can learn more about subword tokenization [here](https://towardsdatascience.com/word-subword-and-character-based-tokenization-know-the-difference-ea0976b64e17).\n",
    "\n",
    "#### **Tokenization with HuggingFace**\n",
    "\n",
    "You will use the [Tokenizer](https://huggingface.co/docs/transformers/main_classes/tokenizer#transformers.PreTrainedTokenizer.__call__.max_length) to split the input sentences in into words (i.e., tokens). Remember that transformer models, such as BERT, tokenizer the input sentence into **sub-words** when they are not present as full tokens in the vocabulary. \n",
    "\n",
    "For the tokenization, you specify the following parameters:\n",
    "- ` max_length=256`: It Controls the maximum length in terms of subwords. If left unset or set to None, this will use the predefined model maximum length. In the case of BERT base, the maximum possible length is 512.\n",
    "- `padding=\"max_length\"`: Padding in tokenization is the process of adding extra tokens to text sequences to make them a uniform length for batch processing. The pad token has identifier equal to 0. This parameter controls how padding is performed. It performs padding to a maximum length specified with the argument max_length or to the maximum acceptable input length for the model if that argument is not provided. \n",
    "- `truncation=True`: Truncation is the process of cutting off text sequences that exceed a specified length, ensuring they fit within a defined token limit. This parameter activates and controls truncation. If truncation is enabled, the tokenizer truncates to a maximum length specified with the argument max_length or to the maximum acceptable input length for the model if that argument is not provided. This will truncate token by token, removing a token from the longest sequence\n",
    "\n",
    "\n",
    "You have to first define a tokenization function. Then, you use the `map()` method of datasets to tokenize each sample in the dataset, and you process them in batches instead of one by one. \n"
   ]
  },
  {
   "cell_type": "code",
   "execution_count": 16,
   "metadata": {
    "colab": {
     "base_uri": "https://localhost:8080/",
     "height": 81,
     "referenced_widgets": [
      "fd4b92c4ac2d496a905f54a4571accaa",
      "fc2b88b5004b446eb07401808d2c8353",
      "5d11b9e514f245d68f6e7d3a733780fe",
      "90dc3aaa68b2419e85e6699e70ee45b1",
      "4207c32ca7fb4f2cb814dffc3427ee93",
      "dc599386a8ce43219c6dde0f8daf893b",
      "4c4132ddf56f47578138cfbee5e2bcc6",
      "0b3e2961484c4db58fcd7659d56d79f6",
      "6ba3414c69e4492d9cddcd89e837bfa6",
      "cf6d9980d1234bdf87f88d1f11c4e94d",
      "a2013a80adb44150b0182ab7c8c3c8d2",
      "1794fff8ffcb4c109c15f67f54803d19",
      "74b87bf341654b0ba11530f2d807ee4c",
      "57d723588cdd4ffeb2f97587a6b4b5f5",
      "197c73ef0bfa48919be6d65bd36c851c",
      "9ac44d309352427fb6b825f994df270e",
      "a4d19f8fbbf94c0a8c3da36c7c259601",
      "cdf1cb1f9f554f60a20225ede5373c8e",
      "ea37c8809cf34bca902ac85e88d879f2",
      "5b7bfcd8f94545748bbab39b0710fa7f",
      "469ae7ef0aa642a68e3b268e0e98bc36",
      "b4f12b05111346af88cdc88eb76f294d"
     ]
    },
    "id": "OFwG6dsBLuWY",
    "outputId": "ec49ae67-8b7d-479e-9ac9-b7e7e5f978f8",
    "tags": []
   },
   "outputs": [
    {
     "name": "stderr",
     "output_type": "stream",
     "text": [
      "100%|██████████| 160/160 [00:22<00:00,  7.06ba/s]\n",
      "100%|██████████| 64/64 [00:08<00:00,  7.24ba/s]\n"
     ]
    }
   ],
   "source": [
    "def tokenize_function(examples):\n",
    "    return tokenizer(examples[\"comment_text\"], max_length=256, padding=\"max_length\", truncation=True)\n",
    "\n",
    "tokenized_datasets = dataset.map(tokenize_function, batched=True)"
   ]
  },
  {
   "cell_type": "code",
   "execution_count": 17,
   "metadata": {
    "colab": {
     "base_uri": "https://localhost:8080/"
    },
    "id": "CXaypunaORrA",
    "outputId": "6cc9b61f-79ba-4c79-a628-51562172f63d",
    "tags": []
   },
   "outputs": [
    {
     "data": {
      "text/plain": [
       "DatasetDict({\n",
       "    train: Dataset({\n",
       "        features: ['comment_text', 'toxic', 'severe_toxic', 'obscene', 'threat', 'insult', 'identity_hate', 'input_ids', 'token_type_ids', 'attention_mask'],\n",
       "        num_rows: 159571\n",
       "    })\n",
       "    test: Dataset({\n",
       "        features: ['comment_text', 'toxic', 'severe_toxic', 'obscene', 'threat', 'insult', 'identity_hate', 'input_ids', 'token_type_ids', 'attention_mask'],\n",
       "        num_rows: 63978\n",
       "    })\n",
       "})"
      ]
     },
     "execution_count": 17,
     "metadata": {},
     "output_type": "execute_result"
    }
   ],
   "source": [
    "tokenized_datasets"
   ]
  },
  {
   "cell_type": "code",
   "execution_count": 20,
   "metadata": {
    "colab": {
     "base_uri": "https://localhost:8080/"
    },
    "id": "x9kKQw6BOGwx",
    "outputId": "1c3c6f44-2c48-46da-b5f7-cdba888d3d7c",
    "tags": []
   },
   "outputs": [
    {
     "name": "stdout",
     "output_type": "stream",
     "text": [
      "hay bitch \n",
      "\n",
      "thank you kindly for your advice on my vandalism but if your the dick who removed the thing abouth Berties make up costs Thats true... so ah FUCK  YOU\n"
     ]
    }
   ],
   "source": [
    "print(tokenized_datasets['train']['comment_text'][5000])"
   ]
  },
  {
   "cell_type": "code",
   "execution_count": 21,
   "metadata": {
    "colab": {
     "base_uri": "https://localhost:8080/"
    },
    "id": "VUTbKMyIPylG",
    "outputId": "a7f4d4e0-0ff7-439e-efa0-b048f8c56335",
    "tags": []
   },
   "outputs": [
    {
     "name": "stdout",
     "output_type": "stream",
     "text": [
      "['hay', 'bitch', 'thank', 'you', 'kindly', 'for', 'your', 'advice', 'on', 'my', 'van', '##dal', '##ism', 'but', 'if', 'your', 'the', 'dick', 'who', 'removed', 'the', 'thing', 'about', '##h', 'bertie', '##s', 'make', 'up', 'costs', 'that', '##s', 'true', '.', '.', '.', 'so', 'ah', 'fuck', 'you']\n"
     ]
    }
   ],
   "source": [
    "print(tokenizer.tokenize(tokenized_datasets['train']['comment_text'][5000]))"
   ]
  },
  {
   "cell_type": "markdown",
   "metadata": {},
   "source": [
    "`input_ids` refers to the **numerical identifiers assigned to each token** in a sequence.<br> `[PAD]` tokens are specified with the id 0. <br>\n",
    "The first token is the `[CLS]` with id 101. This token can be used to perform the classification."
   ]
  },
  {
   "cell_type": "code",
   "execution_count": 22,
   "metadata": {
    "colab": {
     "base_uri": "https://localhost:8080/"
    },
    "id": "DnGGN_sJOYhy",
    "outputId": "6da834b7-f0d8-4ae4-df29-b2ae853f898b",
    "tags": []
   },
   "outputs": [
    {
     "name": "stdout",
     "output_type": "stream",
     "text": [
      "[101, 10974, 7743, 4067, 2017, 19045, 2005, 2115, 6040, 2006, 2026, 3158, 9305, 2964, 2021, 2065, 2115, 1996, 5980, 2040, 3718, 1996, 2518, 2055, 2232, 20743, 2015, 2191, 2039, 5366, 2008, 2015, 2995, 1012, 1012, 1012, 2061, 6289, 6616, 2017, 102, 0, 0, 0, 0, 0, 0, 0, 0, 0, 0, 0, 0, 0, 0, 0, 0, 0, 0, 0, 0, 0, 0, 0, 0, 0, 0, 0, 0, 0, 0, 0, 0, 0, 0, 0, 0, 0, 0, 0, 0, 0, 0, 0, 0, 0, 0, 0, 0, 0, 0, 0, 0, 0, 0, 0, 0, 0, 0, 0, 0, 0, 0, 0, 0, 0, 0, 0, 0, 0, 0, 0, 0, 0, 0, 0, 0, 0, 0, 0, 0, 0, 0, 0, 0, 0, 0, 0, 0, 0, 0, 0, 0, 0, 0, 0, 0, 0, 0, 0, 0, 0, 0, 0, 0, 0, 0, 0, 0, 0, 0, 0, 0, 0, 0, 0, 0, 0, 0, 0, 0, 0, 0, 0, 0, 0, 0, 0, 0, 0, 0, 0, 0, 0, 0, 0, 0, 0, 0, 0, 0, 0, 0, 0, 0, 0, 0, 0, 0, 0, 0, 0, 0, 0, 0, 0, 0, 0, 0, 0, 0, 0, 0, 0, 0, 0, 0, 0, 0, 0, 0, 0, 0, 0, 0, 0, 0, 0, 0, 0, 0, 0, 0, 0, 0, 0, 0, 0, 0, 0, 0, 0, 0, 0, 0, 0, 0, 0, 0, 0, 0, 0, 0, 0, 0, 0, 0, 0, 0, 0, 0, 0, 0, 0, 0, 0]\n"
     ]
    }
   ],
   "source": [
    "print(tokenized_datasets['train']['input_ids'][5000])"
   ]
  },
  {
   "cell_type": "markdown",
   "metadata": {},
   "source": [
    "`token_type_ids` (also known as segment IDs) distinguish **different segments of text within a sequence**. For tasks involving pairs of sentences (like question answering or sentence pairs classification), the `token_type_ids` specify which sentence each token belongs to. Typically, tokens from the first sentence are assigned 0, and tokens from the second sentence are assigned 1. This allows BERT to differentiate between multiple segments and understand the relationships between them.\n",
    "However, in the case of classification, only a single segment is required (i.e., the whole sentence to be classified). "
   ]
  },
  {
   "cell_type": "code",
   "execution_count": 23,
   "metadata": {
    "colab": {
     "base_uri": "https://localhost:8080/"
    },
    "id": "s5vZgcDcOvZr",
    "outputId": "d81466de-0796-4498-b0df-f400857c8f43",
    "tags": []
   },
   "outputs": [
    {
     "name": "stdout",
     "output_type": "stream",
     "text": [
      "[0, 0, 0, 0, 0, 0, 0, 0, 0, 0, 0, 0, 0, 0, 0, 0, 0, 0, 0, 0, 0, 0, 0, 0, 0, 0, 0, 0, 0, 0, 0, 0, 0, 0, 0, 0, 0, 0, 0, 0, 0, 0, 0, 0, 0, 0, 0, 0, 0, 0, 0, 0, 0, 0, 0, 0, 0, 0, 0, 0, 0, 0, 0, 0, 0, 0, 0, 0, 0, 0, 0, 0, 0, 0, 0, 0, 0, 0, 0, 0, 0, 0, 0, 0, 0, 0, 0, 0, 0, 0, 0, 0, 0, 0, 0, 0, 0, 0, 0, 0, 0, 0, 0, 0, 0, 0, 0, 0, 0, 0, 0, 0, 0, 0, 0, 0, 0, 0, 0, 0, 0, 0, 0, 0, 0, 0, 0, 0, 0, 0, 0, 0, 0, 0, 0, 0, 0, 0, 0, 0, 0, 0, 0, 0, 0, 0, 0, 0, 0, 0, 0, 0, 0, 0, 0, 0, 0, 0, 0, 0, 0, 0, 0, 0, 0, 0, 0, 0, 0, 0, 0, 0, 0, 0, 0, 0, 0, 0, 0, 0, 0, 0, 0, 0, 0, 0, 0, 0, 0, 0, 0, 0, 0, 0, 0, 0, 0, 0, 0, 0, 0, 0, 0, 0, 0, 0, 0, 0, 0, 0, 0, 0, 0, 0, 0, 0, 0, 0, 0, 0, 0, 0, 0, 0, 0, 0, 0, 0, 0, 0, 0, 0, 0, 0, 0, 0, 0, 0, 0, 0, 0, 0, 0, 0, 0, 0, 0, 0, 0, 0, 0, 0, 0, 0, 0, 0]\n"
     ]
    }
   ],
   "source": [
    "print(tokenized_datasets['train']['token_type_ids'][5000])"
   ]
  },
  {
   "cell_type": "markdown",
   "metadata": {},
   "source": [
    "`attention_mask` indicates which tokens should be attended to and which should be ignored during self-attention. Tokens that are real (not padding) have an attention mask value of `1`, while padding tokens are marked with `0`. This mask ensures that the model doesn't compute attention scores for padded tokens, focusing only on meaningful parts of the input sequence."
   ]
  },
  {
   "cell_type": "code",
   "execution_count": 24,
   "metadata": {
    "colab": {
     "base_uri": "https://localhost:8080/"
    },
    "id": "2700u9KdOZaD",
    "outputId": "79d77943-0410-4150-863c-52c3bbb4aeac",
    "tags": []
   },
   "outputs": [
    {
     "name": "stdout",
     "output_type": "stream",
     "text": [
      "[1, 1, 1, 1, 1, 1, 1, 1, 1, 1, 1, 1, 1, 1, 1, 1, 1, 1, 1, 1, 1, 1, 1, 1, 1, 1, 1, 1, 1, 1, 1, 1, 1, 1, 1, 1, 1, 1, 1, 1, 1, 0, 0, 0, 0, 0, 0, 0, 0, 0, 0, 0, 0, 0, 0, 0, 0, 0, 0, 0, 0, 0, 0, 0, 0, 0, 0, 0, 0, 0, 0, 0, 0, 0, 0, 0, 0, 0, 0, 0, 0, 0, 0, 0, 0, 0, 0, 0, 0, 0, 0, 0, 0, 0, 0, 0, 0, 0, 0, 0, 0, 0, 0, 0, 0, 0, 0, 0, 0, 0, 0, 0, 0, 0, 0, 0, 0, 0, 0, 0, 0, 0, 0, 0, 0, 0, 0, 0, 0, 0, 0, 0, 0, 0, 0, 0, 0, 0, 0, 0, 0, 0, 0, 0, 0, 0, 0, 0, 0, 0, 0, 0, 0, 0, 0, 0, 0, 0, 0, 0, 0, 0, 0, 0, 0, 0, 0, 0, 0, 0, 0, 0, 0, 0, 0, 0, 0, 0, 0, 0, 0, 0, 0, 0, 0, 0, 0, 0, 0, 0, 0, 0, 0, 0, 0, 0, 0, 0, 0, 0, 0, 0, 0, 0, 0, 0, 0, 0, 0, 0, 0, 0, 0, 0, 0, 0, 0, 0, 0, 0, 0, 0, 0, 0, 0, 0, 0, 0, 0, 0, 0, 0, 0, 0, 0, 0, 0, 0, 0, 0, 0, 0, 0, 0, 0, 0, 0, 0, 0, 0, 0, 0, 0, 0, 0, 0]\n"
     ]
    }
   ],
   "source": [
    "print(tokenized_datasets['train']['attention_mask'][5000])"
   ]
  },
  {
   "cell_type": "markdown",
   "metadata": {},
   "source": [
    "### 1.5 Remove unused columns\n",
    "\n",
    "The following cell removes unused columns to decrease the size of the dataset. Moreover, it renames the `\"toxic\"` column as `\"label\"` for clarity and to match the format expected by the model. "
   ]
  },
  {
   "cell_type": "code",
   "execution_count": 25,
   "metadata": {
    "id": "480-iTvJEK6H",
    "tags": []
   },
   "outputs": [],
   "source": [
    "# Drop the specified columns\n",
    "tokenized_datasets['train'] = tokenized_datasets['train'].remove_columns(['severe_toxic', 'obscene', 'threat', 'insult', 'identity_hate'])\n",
    "tokenized_datasets['test'] = tokenized_datasets['test'].remove_columns(['severe_toxic', 'obscene', 'threat', 'insult', 'identity_hate'])\n",
    "\n",
    "tokenized_datasets['train'] = tokenized_datasets['train'].rename_columns({\"toxic\": \"label\"})\n",
    "tokenized_datasets['test'] = tokenized_datasets['test'].rename_columns({\"toxic\": \"label\"})"
   ]
  },
  {
   "cell_type": "code",
   "execution_count": 26,
   "metadata": {
    "tags": []
   },
   "outputs": [
    {
     "data": {
      "text/plain": [
       "DatasetDict({\n",
       "    train: Dataset({\n",
       "        features: ['comment_text', 'label', 'input_ids', 'token_type_ids', 'attention_mask'],\n",
       "        num_rows: 159571\n",
       "    })\n",
       "    test: Dataset({\n",
       "        features: ['comment_text', 'label', 'input_ids', 'token_type_ids', 'attention_mask'],\n",
       "        num_rows: 63978\n",
       "    })\n",
       "})"
      ]
     },
     "execution_count": 26,
     "metadata": {},
     "output_type": "execute_result"
    }
   ],
   "source": [
    "tokenized_datasets"
   ]
  },
  {
   "cell_type": "markdown",
   "metadata": {},
   "source": [
    "### 1.6 Define a function to compute the evaluation metrics\n",
    "\n",
    "The next cell defines a function, compute_metrics, that calculates key evaluation metrics, including precision, recall, F1 score, and accuracy for a model's predictions. It processes the predicted labels, handles multiple prediction structures, and returns these metrics as a dictionary. Additionally, it prints a classification report for a detailed performance overview.\n",
    "\n",
    "This function will be used later during training."
   ]
  },
  {
   "cell_type": "code",
   "execution_count": 27,
   "metadata": {
    "id": "oyKfAsKaLubE",
    "tags": []
   },
   "outputs": [],
   "source": [
    "def compute_metrics(pred):\n",
    "    labels = pred.label_ids\n",
    "    print(pred)\n",
    "    try:\n",
    "        preds = pred.predictions.argmax(-1)\n",
    "    except:\n",
    "        preds = pred.predictions[0].argmax(-1)\n",
    "    precision, recall, f1, _ = sklearn.metrics.precision_recall_fscore_support(\n",
    "        labels, preds, average=\"macro\", labels=list(set(labels))\n",
    "    )\n",
    "    print(sklearn.metrics.classification_report(labels, preds, digits=4))\n",
    "    acc = sklearn.metrics.accuracy_score(labels, preds)\n",
    "    return {\"accuracy\": acc, \"f1\": f1, \"precision\": precision, \"recall\": recall}"
   ]
  },
  {
   "cell_type": "markdown",
   "metadata": {},
   "source": [
    "### 1.7 Define the training arguments and loop\n",
    "\n",
    "The next cell defines the training arguments for the model using the [TrainingArguments](https://huggingface.co/docs/transformers/v4.40.2/en/main_classes/trainer#transformers.TrainingArguments) class. The key settings include:\n",
    "\n",
    "- **Output Directory**: Specifies the directory for saving checkpoints.\n",
    "- **Learning Rate**: Sets the learning rate to 2e-5 for model training.\n",
    "- **Epochs**: Sets the number of training epochs to 3.\n",
    "- **Batch Sizes**: Defines per-device batch sizes for training and evaluation.\n",
    "- **Weight Decay**: Adds a weight decay of 0.01 to prevent overfitting.\n",
    "- **Evaluation and Save Strategies**: Evaluates and saves the model after each epoch.\n",
    "- **Best Model**: Identifies the best model using the F1 score, and loading it at the end."
   ]
  },
  {
   "cell_type": "code",
   "execution_count": 28,
   "metadata": {
    "id": "FwxGynR1LudJ",
    "tags": []
   },
   "outputs": [],
   "source": [
    "from transformers import TrainingArguments\n",
    "\n",
    "model_dir = \"saved_models\"\n",
    "\n",
    "training_args = TrainingArguments(\n",
    "    output_dir=os.path.join(model_dir, \"checkpoint\"),\n",
    "    learning_rate=2e-5,\n",
    "    num_train_epochs=3,\n",
    "    per_device_train_batch_size=16,\n",
    "    per_device_eval_batch_size=16,\n",
    "    weight_decay=0.01,\n",
    "    evaluation_strategy=\"epoch\",\n",
    "    save_strategy=\"epoch\",\n",
    "    metric_for_best_model=\"f1\",\n",
    "    load_best_model_at_end=True,\n",
    "    greater_is_better=True,\n",
    ")"
   ]
  },
  {
   "cell_type": "markdown",
   "metadata": {},
   "source": [
    "This cell defines a CustomTrainer class that extends the [Trainer](https://huggingface.co/docs/transformers/main_classes/trainer) class from the Transformers library to include a custom loss function. You use it to include the inversionally proportional weights in the loss function due to the imbalanced dataset. However, you can usually just use the default Trainer.\n",
    "\n",
    "Specifically, the defined loss function `compute_loss` performs the following steps: \n",
    "- Receives model input and retrieves the labels.\n",
    "- Performs a forward pass through the model to generate logits.\n",
    "- Uses nn. CrossEntropyLoss with class weights to calculate the loss based on the model's predictions and the ground truth.\n",
    "- Returns the calculated loss alone or along with model outputs if requested."
   ]
  },
  {
   "cell_type": "code",
   "execution_count": 29,
   "metadata": {
    "tags": []
   },
   "outputs": [],
   "source": [
    "from transformers import Trainer\n",
    "\n",
    "class CustomTrainer(Trainer):\n",
    "    def compute_loss(self, model, inputs, return_outputs=False):\n",
    "        labels = inputs.get(\"labels\")\n",
    "        # forward pass\n",
    "        outputs = model(**inputs)\n",
    "        logits = outputs.get('logits')\n",
    "        # compute custom loss\n",
    "        loss_fct = nn.CrossEntropyLoss(weight=class_weights.to(torch.cuda.current_device()))\n",
    "        loss = loss_fct(logits.view(-1, self.model.config.num_labels), labels.view(-1))\n",
    "        return (loss, outputs) if return_outputs else loss"
   ]
  },
  {
   "cell_type": "markdown",
   "metadata": {},
   "source": [
    "The next cell creates a CustomTrainer instance using the previously defined custom trainer class.<br> The trainer setup combines all relevant components to train, evaluate, and save the best-performing model efficiently using custom metrics and loss functions. "
   ]
  },
  {
   "cell_type": "code",
   "execution_count": 30,
   "metadata": {
    "id": "4L5XsBnXN0Lh",
    "tags": []
   },
   "outputs": [],
   "source": [
    "trainer = CustomTrainer(\n",
    "    model=model,\n",
    "    args=training_args,\n",
    "    train_dataset=tokenized_datasets[\"train\"],\n",
    "    eval_dataset=tokenized_datasets[\"test\"],\n",
    "    tokenizer=tokenizer,\n",
    "    compute_metrics=compute_metrics,\n",
    ")"
   ]
  },
  {
   "cell_type": "markdown",
   "metadata": {},
   "source": [
    "### 1.8 Model training\n",
    "Run the `train()` method of the `trainer` to perform the **training**."
   ]
  },
  {
   "cell_type": "code",
   "execution_count": 31,
   "metadata": {
    "colab": {
     "base_uri": "https://localhost:8080/",
     "height": 414
    },
    "id": "bkQSPKF6N1yV",
    "outputId": "72d5261d-75ff-4429-a7e1-46064a2d202a",
    "tags": []
   },
   "outputs": [
    {
     "name": "stderr",
     "output_type": "stream",
     "text": [
      "The following columns in the training set don't have a corresponding argument in `BertForSequenceClassification.forward` and have been ignored: comment_text. If comment_text are not expected by `BertForSequenceClassification.forward`,  you can safely ignore this message.\n",
      "/home/students/s289159/.conda/envs/audio-env/lib/python3.9/site-packages/transformers/optimization.py:306: FutureWarning: This implementation of AdamW is deprecated and will be removed in a future version. Use the PyTorch implementation torch.optim.AdamW instead, or set `no_deprecation_warning=True` to disable this warning\n",
      "  warnings.warn(\n",
      "***** Running training *****\n",
      "  Num examples = 159571\n",
      "  Num Epochs = 3\n",
      "  Instantaneous batch size per device = 16\n",
      "  Total train batch size (w. parallel, distributed & accumulation) = 16\n",
      "  Gradient Accumulation steps = 1\n",
      "  Total optimization steps = 29922\n"
     ]
    },
    {
     "data": {
      "text/html": [
       "\n",
       "    <div>\n",
       "      \n",
       "      <progress value='29922' max='29922' style='width:300px; height:20px; vertical-align: middle;'></progress>\n",
       "      [29922/29922 2:23:53, Epoch 3/3]\n",
       "    </div>\n",
       "    <table border=\"1\" class=\"dataframe\">\n",
       "  <thead>\n",
       " <tr style=\"text-align: left;\">\n",
       "      <th>Epoch</th>\n",
       "      <th>Training Loss</th>\n",
       "      <th>Validation Loss</th>\n",
       "      <th>Accuracy</th>\n",
       "      <th>F1</th>\n",
       "      <th>Precision</th>\n",
       "      <th>Recall</th>\n",
       "    </tr>\n",
       "  </thead>\n",
       "  <tbody>\n",
       "    <tr>\n",
       "      <td>1</td>\n",
       "      <td>0.252100</td>\n",
       "      <td>0.267203</td>\n",
       "      <td>0.928007</td>\n",
       "      <td>0.829936</td>\n",
       "      <td>0.783510</td>\n",
       "      <td>0.909085</td>\n",
       "    </tr>\n",
       "    <tr>\n",
       "      <td>2</td>\n",
       "      <td>0.151500</td>\n",
       "      <td>0.362665</td>\n",
       "      <td>0.915612</td>\n",
       "      <td>0.812009</td>\n",
       "      <td>0.761508</td>\n",
       "      <td>0.913108</td>\n",
       "    </tr>\n",
       "    <tr>\n",
       "      <td>3</td>\n",
       "      <td>0.108700</td>\n",
       "      <td>0.490707</td>\n",
       "      <td>0.915174</td>\n",
       "      <td>0.810583</td>\n",
       "      <td>0.760565</td>\n",
       "      <td>0.910148</td>\n",
       "    </tr>\n",
       "  </tbody>\n",
       "</table><p>"
      ],
      "text/plain": [
       "<IPython.core.display.HTML object>"
      ]
     },
     "metadata": {},
     "output_type": "display_data"
    },
    {
     "name": "stderr",
     "output_type": "stream",
     "text": [
      "The following columns in the evaluation set don't have a corresponding argument in `BertForSequenceClassification.forward` and have been ignored: comment_text. If comment_text are not expected by `BertForSequenceClassification.forward`,  you can safely ignore this message.\n",
      "***** Running Evaluation *****\n",
      "  Num examples = 63978\n",
      "  Batch size = 16\n"
     ]
    },
    {
     "name": "stdout",
     "output_type": "stream",
     "text": [
      "<transformers.trainer_utils.EvalPrediction object at 0x7f8a70543ca0>\n",
      "              precision    recall  f1-score   support\n",
      "\n",
      "           0     0.9873    0.9325    0.9591     57888\n",
      "           1     0.5798    0.8857    0.7008      6090\n",
      "\n",
      "    accuracy                         0.9280     63978\n",
      "   macro avg     0.7835    0.9091    0.8299     63978\n",
      "weighted avg     0.9485    0.9280    0.9345     63978\n",
      "\n"
     ]
    },
    {
     "name": "stderr",
     "output_type": "stream",
     "text": [
      "Saving model checkpoint to saved_models/checkpoint/checkpoint-9974\n",
      "Configuration saved in saved_models/checkpoint/checkpoint-9974/config.json\n",
      "Model weights saved in saved_models/checkpoint/checkpoint-9974/pytorch_model.bin\n",
      "tokenizer config file saved in saved_models/checkpoint/checkpoint-9974/tokenizer_config.json\n",
      "Special tokens file saved in saved_models/checkpoint/checkpoint-9974/special_tokens_map.json\n",
      "The following columns in the evaluation set don't have a corresponding argument in `BertForSequenceClassification.forward` and have been ignored: comment_text. If comment_text are not expected by `BertForSequenceClassification.forward`,  you can safely ignore this message.\n",
      "***** Running Evaluation *****\n",
      "  Num examples = 63978\n",
      "  Batch size = 16\n"
     ]
    },
    {
     "name": "stdout",
     "output_type": "stream",
     "text": [
      "<transformers.trainer_utils.EvalPrediction object at 0x7f874f501af0>\n",
      "              precision    recall  f1-score   support\n",
      "\n",
      "           0     0.9898    0.9162    0.9516     57888\n",
      "           1     0.5332    0.9100    0.6725      6090\n",
      "\n",
      "    accuracy                         0.9156     63978\n",
      "   macro avg     0.7615    0.9131    0.8120     63978\n",
      "weighted avg     0.9463    0.9156    0.9250     63978\n",
      "\n"
     ]
    },
    {
     "name": "stderr",
     "output_type": "stream",
     "text": [
      "Saving model checkpoint to saved_models/checkpoint/checkpoint-19948\n",
      "Configuration saved in saved_models/checkpoint/checkpoint-19948/config.json\n",
      "Model weights saved in saved_models/checkpoint/checkpoint-19948/pytorch_model.bin\n",
      "tokenizer config file saved in saved_models/checkpoint/checkpoint-19948/tokenizer_config.json\n",
      "Special tokens file saved in saved_models/checkpoint/checkpoint-19948/special_tokens_map.json\n",
      "The following columns in the evaluation set don't have a corresponding argument in `BertForSequenceClassification.forward` and have been ignored: comment_text. If comment_text are not expected by `BertForSequenceClassification.forward`,  you can safely ignore this message.\n",
      "***** Running Evaluation *****\n",
      "  Num examples = 63978\n",
      "  Batch size = 16\n"
     ]
    },
    {
     "name": "stdout",
     "output_type": "stream",
     "text": [
      "<transformers.trainer_utils.EvalPrediction object at 0x7f874f501bb0>\n",
      "              precision    recall  f1-score   support\n",
      "\n",
      "           0     0.9891    0.9164    0.9513     57888\n",
      "           1     0.5320    0.9039    0.6698      6090\n",
      "\n",
      "    accuracy                         0.9152     63978\n",
      "   macro avg     0.7606    0.9101    0.8106     63978\n",
      "weighted avg     0.9456    0.9152    0.9245     63978\n",
      "\n"
     ]
    },
    {
     "name": "stderr",
     "output_type": "stream",
     "text": [
      "Saving model checkpoint to saved_models/checkpoint/checkpoint-29922\n",
      "Configuration saved in saved_models/checkpoint/checkpoint-29922/config.json\n",
      "Model weights saved in saved_models/checkpoint/checkpoint-29922/pytorch_model.bin\n",
      "tokenizer config file saved in saved_models/checkpoint/checkpoint-29922/tokenizer_config.json\n",
      "Special tokens file saved in saved_models/checkpoint/checkpoint-29922/special_tokens_map.json\n",
      "\n",
      "\n",
      "Training completed. Do not forget to share your model on huggingface.co/models =)\n",
      "\n",
      "\n",
      "Loading best model from saved_models/checkpoint/checkpoint-9974 (score: 0.8299364228139947).\n"
     ]
    },
    {
     "data": {
      "text/plain": [
       "TrainOutput(global_step=29922, training_loss=0.18763850862094963, metrics={'train_runtime': 8633.6416, 'train_samples_per_second': 55.447, 'train_steps_per_second': 3.466, 'total_flos': 6.297734132227584e+16, 'train_loss': 0.18763850862094963, 'epoch': 3.0})"
      ]
     },
     "execution_count": 31,
     "metadata": {},
     "output_type": "execute_result"
    }
   ],
   "source": [
    "trainer.train()"
   ]
  },
  {
   "cell_type": "markdown",
   "metadata": {},
   "source": [
    "### 1.9 Model evaluation\n",
    "\n",
    "Run the next cell to **evaluate** the best model on the test set."
   ]
  },
  {
   "cell_type": "code",
   "execution_count": 32,
   "metadata": {
    "tags": []
   },
   "outputs": [
    {
     "name": "stderr",
     "output_type": "stream",
     "text": [
      "The following columns in the evaluation set don't have a corresponding argument in `BertForSequenceClassification.forward` and have been ignored: comment_text. If comment_text are not expected by `BertForSequenceClassification.forward`,  you can safely ignore this message.\n",
      "***** Running Evaluation *****\n",
      "  Num examples = 63978\n",
      "  Batch size = 16\n"
     ]
    },
    {
     "data": {
      "text/html": [
       "\n",
       "    <div>\n",
       "      \n",
       "      <progress value='3999' max='3999' style='width:300px; height:20px; vertical-align: middle;'></progress>\n",
       "      [3999/3999 05:28]\n",
       "    </div>\n",
       "    "
      ],
      "text/plain": [
       "<IPython.core.display.HTML object>"
      ]
     },
     "metadata": {},
     "output_type": "display_data"
    },
    {
     "name": "stdout",
     "output_type": "stream",
     "text": [
      "<transformers.trainer_utils.EvalPrediction object at 0x7f873ef88670>\n",
      "              precision    recall  f1-score   support\n",
      "\n",
      "           0     0.9873    0.9325    0.9591     57888\n",
      "           1     0.5798    0.8857    0.7008      6090\n",
      "\n",
      "    accuracy                         0.9280     63978\n",
      "   macro avg     0.7835    0.9091    0.8299     63978\n",
      "weighted avg     0.9485    0.9280    0.9345     63978\n",
      "\n"
     ]
    },
    {
     "data": {
      "text/plain": [
       "{'eval_loss': 0.2672027349472046,\n",
       " 'eval_accuracy': 0.9280065022351434,\n",
       " 'eval_f1': 0.8299364228139947,\n",
       " 'eval_precision': 0.7835103226248628,\n",
       " 'eval_recall': 0.9090850311932401,\n",
       " 'eval_runtime': 328.8711,\n",
       " 'eval_samples_per_second': 194.538,\n",
       " 'eval_steps_per_second': 12.16,\n",
       " 'epoch': 3.0}"
      ]
     },
     "execution_count": 32,
     "metadata": {},
     "output_type": "execute_result"
    }
   ],
   "source": [
    "trainer.evaluate(eval_dataset=tokenized_datasets[\"test\"])"
   ]
  },
  {
   "cell_type": "markdown",
   "metadata": {},
   "source": [
    "The next cells **save** the weights, tokenizer and configuration of the best fine-tuned model on disk."
   ]
  },
  {
   "cell_type": "code",
   "execution_count": null,
   "metadata": {},
   "outputs": [],
   "source": [
    "#!mkdir saved_models"
   ]
  },
  {
   "cell_type": "code",
   "execution_count": 33,
   "metadata": {
    "tags": []
   },
   "outputs": [
    {
     "name": "stderr",
     "output_type": "stream",
     "text": [
      "Saving model checkpoint to saved_models/best_model/\n",
      "Configuration saved in saved_models/best_model/config.json\n",
      "Model weights saved in saved_models/best_model/pytorch_model.bin\n",
      "tokenizer config file saved in saved_models/best_model/tokenizer_config.json\n",
      "Special tokens file saved in saved_models/best_model/special_tokens_map.json\n"
     ]
    }
   ],
   "source": [
    "# Save model\n",
    "trainer.save_model(\"saved_models/best_model/\")"
   ]
  },
  {
   "cell_type": "markdown",
   "metadata": {
    "tags": []
   },
   "source": [
    "## **Exercise 2: Use the model for inference**\n",
    "\n",
    "Now, you will load the fine-tuned model to make predictions on new texts.\n",
    "\n",
    "### 2.1 Load the model from disk or hub\n",
    "\n",
    "You will exploit the AutoModels again to load the fine-tuned model. <br>\n",
    "You can load the fine-tuned model that you saved on this using the following code:\n",
    "\n",
    "```python\n",
    "from transformers import AutoTokenizer, AutoModelForSequenceClassification\n",
    "\n",
    "tokenizer = AutoTokenizer.from_pretrained(\"saved_models/best_model\")\n",
    "model = AutoModelForSequenceClassification.from_pretrained(\"saved_models/best_model\")\n",
    "```\n",
    "\n",
    "However, since you may have had trouble training the model given the GPU resource shoes, I uploaded a fine-tuned version of the model to HuggingFace [Model Hub](https://huggingface.co/docs/hub/models-the-hub).\n",
    "The fine-tuned model is available on HuggingFace Hub at the following url: `\"grecosalvatore/binary-toxicity-BERT-xai-course\"`."
   ]
  },
  {
   "cell_type": "code",
   "execution_count": 34,
   "metadata": {
    "tags": []
   },
   "outputs": [
    {
     "name": "stderr",
     "output_type": "stream",
     "text": [
      "loading file https://huggingface.co/grecosalvatore/binary-toxicity-BERT-xai-course/resolve/main/vocab.txt from cache at /home/students/s289159/.cache/huggingface/transformers/e5d43b2d386e860156c0114600c61ed0e9feb26bae30f318e14ec6de23cb58f2.d789d64ebfe299b0e416afc4a169632f903f693095b4629a7ea271d5a0cf2c99\n",
      "loading file https://huggingface.co/grecosalvatore/binary-toxicity-BERT-xai-course/resolve/main/tokenizer.json from cache at /home/students/s289159/.cache/huggingface/transformers/197677385b6f4dc4e2bb944de4c5bce1857e0b1497d5d430714c74fbc6c181bd.f71e12dcf3314f964e59f54247509b88c99b9eac702db689a9c4bd9444c88904\n",
      "loading file https://huggingface.co/grecosalvatore/binary-toxicity-BERT-xai-course/resolve/main/added_tokens.json from cache at None\n",
      "loading file https://huggingface.co/grecosalvatore/binary-toxicity-BERT-xai-course/resolve/main/special_tokens_map.json from cache at /home/students/s289159/.cache/huggingface/transformers/bf2740924fc589f72a385c1124fa32ab61cf01a89b3a0372215343e5eb0d27cf.dd8bd9bfd3664b530ea4e645105f557769387b3da9f79bdb55ed556bdd80611d\n",
      "loading file https://huggingface.co/grecosalvatore/binary-toxicity-BERT-xai-course/resolve/main/tokenizer_config.json from cache at /home/students/s289159/.cache/huggingface/transformers/97adaca2779dde487f57cfdbcff7295a1587032e0c7a2373610baf64591f81a9.59407384618422b5f582b6046df91db98a0f921d6c959dc7b1f50000ffea1032\n",
      "loading configuration file https://huggingface.co/grecosalvatore/binary-toxicity-BERT-xai-course/resolve/main/config.json from cache at /home/students/s289159/.cache/huggingface/transformers/8d225c3b3f0ed4509a3b5567c392bf0734d85bf099d44e4891a866032098492f.cd4bae7b8486cb55bc5d195b2000fbf818e16477049363db9832411966d55f88\n",
      "Model config BertConfig {\n",
      "  \"_name_or_path\": \"grecosalvatore/binary-toxicity-BERT-xai-course\",\n",
      "  \"architectures\": [\n",
      "    \"BertForSequenceClassification\"\n",
      "  ],\n",
      "  \"attention_probs_dropout_prob\": 0.1,\n",
      "  \"classifier_dropout\": null,\n",
      "  \"gradient_checkpointing\": false,\n",
      "  \"hidden_act\": \"gelu\",\n",
      "  \"hidden_dropout_prob\": 0.1,\n",
      "  \"hidden_size\": 768,\n",
      "  \"id2label\": {\n",
      "    \"0\": \"Non-Toxic\",\n",
      "    \"1\": \"Toxic\"\n",
      "  },\n",
      "  \"initializer_range\": 0.02,\n",
      "  \"intermediate_size\": 3072,\n",
      "  \"label2id\": {\n",
      "    \"Non-Toxic\": 0,\n",
      "    \"Toxic\": 1\n",
      "  },\n",
      "  \"layer_norm_eps\": 1e-12,\n",
      "  \"max_position_embeddings\": 512,\n",
      "  \"model_type\": \"bert\",\n",
      "  \"num_attention_heads\": 12,\n",
      "  \"num_hidden_layers\": 12,\n",
      "  \"pad_token_id\": 0,\n",
      "  \"position_embedding_type\": \"absolute\",\n",
      "  \"problem_type\": \"single_label_classification\",\n",
      "  \"torch_dtype\": \"float32\",\n",
      "  \"transformers_version\": \"4.19.2\",\n",
      "  \"type_vocab_size\": 2,\n",
      "  \"use_cache\": true,\n",
      "  \"vocab_size\": 30522\n",
      "}\n",
      "\n",
      "loading weights file https://huggingface.co/grecosalvatore/binary-toxicity-BERT-xai-course/resolve/main/pytorch_model.bin from cache at /home/students/s289159/.cache/huggingface/transformers/ec780ca78e1d963ddadcf3154f5d4cb59ad4aa72e5d45b22bd2239689b911c8e.5ac834e1e5c3fc826c9861d33e68c424abe73d90ee3d89985377815f07c57b19\n",
      "All model checkpoint weights were used when initializing BertForSequenceClassification.\n",
      "\n",
      "All the weights of BertForSequenceClassification were initialized from the model checkpoint at grecosalvatore/binary-toxicity-BERT-xai-course.\n",
      "If your task is similar to the task the model of the checkpoint was trained on, you can already use BertForSequenceClassification for predictions without further training.\n"
     ]
    }
   ],
   "source": [
    "from transformers import AutoTokenizer, AutoModelForSequenceClassification\n",
    "\n",
    "tokenizer = AutoTokenizer.from_pretrained(\"grecosalvatore/binary-toxicity-BERT-xai-course\")\n",
    "model = AutoModelForSequenceClassification.from_pretrained(\"grecosalvatore/binary-toxicity-BERT-xai-course\")"
   ]
  },
  {
   "cell_type": "markdown",
   "metadata": {},
   "source": [
    "### 2.2 Make predictions\n",
    "\n",
    "The easiest way to make predictions on new texts is to use Hugging Face [Pipelines](https://huggingface.co/docs/transformers/main_classes/pipelines), which offer high-level API functions to process data using a specified model."
   ]
  },
  {
   "cell_type": "code",
   "execution_count": 35,
   "metadata": {
    "tags": []
   },
   "outputs": [
    {
     "name": "stderr",
     "output_type": "stream",
     "text": [
      "loading configuration file https://huggingface.co/grecosalvatore/binary-toxicity-BERT-xai-course/resolve/main/config.json from cache at /home/students/s289159/.cache/huggingface/transformers/8d225c3b3f0ed4509a3b5567c392bf0734d85bf099d44e4891a866032098492f.cd4bae7b8486cb55bc5d195b2000fbf818e16477049363db9832411966d55f88\n",
      "Model config BertConfig {\n",
      "  \"_name_or_path\": \"grecosalvatore/binary-toxicity-BERT-xai-course\",\n",
      "  \"architectures\": [\n",
      "    \"BertForSequenceClassification\"\n",
      "  ],\n",
      "  \"attention_probs_dropout_prob\": 0.1,\n",
      "  \"classifier_dropout\": null,\n",
      "  \"gradient_checkpointing\": false,\n",
      "  \"hidden_act\": \"gelu\",\n",
      "  \"hidden_dropout_prob\": 0.1,\n",
      "  \"hidden_size\": 768,\n",
      "  \"id2label\": {\n",
      "    \"0\": \"Non-Toxic\",\n",
      "    \"1\": \"Toxic\"\n",
      "  },\n",
      "  \"initializer_range\": 0.02,\n",
      "  \"intermediate_size\": 3072,\n",
      "  \"label2id\": {\n",
      "    \"Non-Toxic\": 0,\n",
      "    \"Toxic\": 1\n",
      "  },\n",
      "  \"layer_norm_eps\": 1e-12,\n",
      "  \"max_position_embeddings\": 512,\n",
      "  \"model_type\": \"bert\",\n",
      "  \"num_attention_heads\": 12,\n",
      "  \"num_hidden_layers\": 12,\n",
      "  \"pad_token_id\": 0,\n",
      "  \"position_embedding_type\": \"absolute\",\n",
      "  \"problem_type\": \"single_label_classification\",\n",
      "  \"torch_dtype\": \"float32\",\n",
      "  \"transformers_version\": \"4.19.2\",\n",
      "  \"type_vocab_size\": 2,\n",
      "  \"use_cache\": true,\n",
      "  \"vocab_size\": 30522\n",
      "}\n",
      "\n",
      "loading configuration file https://huggingface.co/grecosalvatore/binary-toxicity-BERT-xai-course/resolve/main/config.json from cache at /home/students/s289159/.cache/huggingface/transformers/8d225c3b3f0ed4509a3b5567c392bf0734d85bf099d44e4891a866032098492f.cd4bae7b8486cb55bc5d195b2000fbf818e16477049363db9832411966d55f88\n",
      "Model config BertConfig {\n",
      "  \"_name_or_path\": \"grecosalvatore/binary-toxicity-BERT-xai-course\",\n",
      "  \"architectures\": [\n",
      "    \"BertForSequenceClassification\"\n",
      "  ],\n",
      "  \"attention_probs_dropout_prob\": 0.1,\n",
      "  \"classifier_dropout\": null,\n",
      "  \"gradient_checkpointing\": false,\n",
      "  \"hidden_act\": \"gelu\",\n",
      "  \"hidden_dropout_prob\": 0.1,\n",
      "  \"hidden_size\": 768,\n",
      "  \"id2label\": {\n",
      "    \"0\": \"Non-Toxic\",\n",
      "    \"1\": \"Toxic\"\n",
      "  },\n",
      "  \"initializer_range\": 0.02,\n",
      "  \"intermediate_size\": 3072,\n",
      "  \"label2id\": {\n",
      "    \"Non-Toxic\": 0,\n",
      "    \"Toxic\": 1\n",
      "  },\n",
      "  \"layer_norm_eps\": 1e-12,\n",
      "  \"max_position_embeddings\": 512,\n",
      "  \"model_type\": \"bert\",\n",
      "  \"num_attention_heads\": 12,\n",
      "  \"num_hidden_layers\": 12,\n",
      "  \"pad_token_id\": 0,\n",
      "  \"position_embedding_type\": \"absolute\",\n",
      "  \"problem_type\": \"single_label_classification\",\n",
      "  \"torch_dtype\": \"float32\",\n",
      "  \"transformers_version\": \"4.19.2\",\n",
      "  \"type_vocab_size\": 2,\n",
      "  \"use_cache\": true,\n",
      "  \"vocab_size\": 30522\n",
      "}\n",
      "\n",
      "loading weights file https://huggingface.co/grecosalvatore/binary-toxicity-BERT-xai-course/resolve/main/pytorch_model.bin from cache at /home/students/s289159/.cache/huggingface/transformers/ec780ca78e1d963ddadcf3154f5d4cb59ad4aa72e5d45b22bd2239689b911c8e.5ac834e1e5c3fc826c9861d33e68c424abe73d90ee3d89985377815f07c57b19\n",
      "All model checkpoint weights were used when initializing BertForSequenceClassification.\n",
      "\n",
      "All the weights of BertForSequenceClassification were initialized from the model checkpoint at grecosalvatore/binary-toxicity-BERT-xai-course.\n",
      "If your task is similar to the task the model of the checkpoint was trained on, you can already use BertForSequenceClassification for predictions without further training.\n",
      "loading file https://huggingface.co/grecosalvatore/binary-toxicity-BERT-xai-course/resolve/main/vocab.txt from cache at /home/students/s289159/.cache/huggingface/transformers/e5d43b2d386e860156c0114600c61ed0e9feb26bae30f318e14ec6de23cb58f2.d789d64ebfe299b0e416afc4a169632f903f693095b4629a7ea271d5a0cf2c99\n",
      "loading file https://huggingface.co/grecosalvatore/binary-toxicity-BERT-xai-course/resolve/main/tokenizer.json from cache at /home/students/s289159/.cache/huggingface/transformers/197677385b6f4dc4e2bb944de4c5bce1857e0b1497d5d430714c74fbc6c181bd.f71e12dcf3314f964e59f54247509b88c99b9eac702db689a9c4bd9444c88904\n",
      "loading file https://huggingface.co/grecosalvatore/binary-toxicity-BERT-xai-course/resolve/main/added_tokens.json from cache at None\n",
      "loading file https://huggingface.co/grecosalvatore/binary-toxicity-BERT-xai-course/resolve/main/special_tokens_map.json from cache at /home/students/s289159/.cache/huggingface/transformers/bf2740924fc589f72a385c1124fa32ab61cf01a89b3a0372215343e5eb0d27cf.dd8bd9bfd3664b530ea4e645105f557769387b3da9f79bdb55ed556bdd80611d\n",
      "loading file https://huggingface.co/grecosalvatore/binary-toxicity-BERT-xai-course/resolve/main/tokenizer_config.json from cache at /home/students/s289159/.cache/huggingface/transformers/97adaca2779dde487f57cfdbcff7295a1587032e0c7a2373610baf64591f81a9.59407384618422b5f582b6046df91db98a0f921d6c959dc7b1f50000ffea1032\n"
     ]
    }
   ],
   "source": [
    "# Use a pipeline as a high-level helper\n",
    "from transformers import pipeline\n",
    "\n",
    "pipe = pipeline(\"text-classification\", model=\"grecosalvatore/binary-toxicity-BERT-xai-course\")"
   ]
  },
  {
   "cell_type": "code",
   "execution_count": 36,
   "metadata": {
    "tags": []
   },
   "outputs": [],
   "source": [
    "example_texts = [\n",
    "    \"you are white\",\n",
    "    \"you are asian\",\n",
    "    \"you are latin\",\n",
    "    \"You are black\"\n",
    "]"
   ]
  },
  {
   "cell_type": "code",
   "execution_count": 37,
   "metadata": {
    "tags": []
   },
   "outputs": [
    {
     "name": "stderr",
     "output_type": "stream",
     "text": [
      "Disabling tokenizer parallelism, we're using DataLoader multithreading already\n"
     ]
    },
    {
     "data": {
      "text/plain": [
       "[{'label': 'Non-Toxic', 'score': 0.9957643747329712},\n",
       " {'label': 'Non-Toxic', 'score': 0.9985798597335815},\n",
       " {'label': 'Non-Toxic', 'score': 0.9994617104530334},\n",
       " {'label': 'Toxic', 'score': 0.9810092449188232}]"
      ]
     },
     "execution_count": 37,
     "metadata": {},
     "output_type": "execute_result"
    }
   ],
   "source": [
    "pipe(example_texts)"
   ]
  },
  {
   "cell_type": "markdown",
   "metadata": {},
   "source": [
    "You can see that by just changing the word related to the **race**, the classifier can have different outputs. Even if it can be subjective whether the previous sentences are offensive or not, the classifier must have **consistent outputs** across different words related to **race**. This can be a possible warning of **bias** learned by the model. This probably happened because many toxic sentences contain the word `\"black\"` in the training dataset. Thus, the classifiers learned that the word `\"black\"` usually indicates toxic language."
   ]
  },
  {
   "cell_type": "markdown",
   "metadata": {},
   "source": [
    "If you don't want to use pipelines, an alternative is to directly use the pre-trained model's tokenizer and model objects. This gives you more control over the input processing and prediction steps."
   ]
  },
  {
   "cell_type": "code",
   "execution_count": 39,
   "metadata": {
    "tags": []
   },
   "outputs": [
    {
     "name": "stdout",
     "output_type": "stream",
     "text": [
      "Text: you are white\n",
      "Prediction: Non-Toxic (Probability: 1.00)\n",
      "\n",
      "Text: you are asian\n",
      "Prediction: Non-Toxic (Probability: 1.00)\n",
      "\n",
      "Text: you are latin\n",
      "Prediction: Non-Toxic (Probability: 1.00)\n",
      "\n",
      "Text: You are black\n",
      "Prediction: Toxic (Probability: 0.98)\n",
      "\n"
     ]
    }
   ],
   "source": [
    "# Tokenize the input texts for model inference\n",
    "inputs = tokenizer(example_texts, padding=True, truncation=True, return_tensors=\"pt\")\n",
    "\n",
    "# Forward pass through the model to obtain logits\n",
    "with torch.no_grad():\n",
    "    outputs = model(**inputs)\n",
    "    logits = outputs.logits\n",
    "\n",
    "# Convert logits to probabilities using softmax\n",
    "probabilities = torch.nn.functional.softmax(logits, dim=-1)\n",
    "\n",
    "# Get predicted class labels (0 for non-toxic, 1 for toxic)\n",
    "predicted_classes = torch.argmax(probabilities, dim=-1)\n",
    "\n",
    "# Print predictions with corresponding probabilities\n",
    "class_names = [\"Non-Toxic\", \"Toxic\"]\n",
    "for text, prob, pred in zip(example_texts, probabilities, predicted_classes):\n",
    "    class_prob = prob[pred].item()\n",
    "    print(f\"Text: {text}\\nPrediction: {class_names[pred]} (Probability: {class_prob:.2f})\\n\")"
   ]
  },
  {
   "cell_type": "markdown",
   "metadata": {},
   "source": [
    "This approach provides more flexibility and insight into how the predictions are generated. You can preprocess text inputs and inspect the logits and confidence scores more transparently."
   ]
  },
  {
   "cell_type": "markdown",
   "metadata": {},
   "source": [
    "Now, you will predict the labels for the test set, and save them to a csv file for the next lab."
   ]
  },
  {
   "cell_type": "code",
   "execution_count": null,
   "metadata": {},
   "outputs": [],
   "source": [
    "pipe = pipeline(\"text-classification\", model=\"grecosalvatore/binary-toxicity-BERT-xai-course\", return_all_scores=True, truncation=True, device=0)"
   ]
  },
  {
   "cell_type": "code",
   "execution_count": null,
   "metadata": {},
   "outputs": [],
   "source": [
    "test_predictions = pipe(dataset[\"test\"][\"comment_text\"][:])"
   ]
  },
  {
   "cell_type": "code",
   "execution_count": null,
   "metadata": {},
   "outputs": [],
   "source": [
    "predictions[0]"
   ]
  },
  {
   "cell_type": "code",
   "execution_count": null,
   "metadata": {},
   "outputs": [],
   "source": [
    "predictions_dicts = []\n",
    "for p in predictions:\n",
    "    non_toxic_prob = p[0]['score']\n",
    "    toxic_prob = p[1]['score']\n",
    "    if toxic_prob >= non_toxic_prob:\n",
    "        predicted_label = \"Toxic\"\n",
    "    else:\n",
    "        predicted_label = \"Non-Toxic\"\n",
    "    predictions_dicts.append({\"non_toxic_prob\": non_toxic_prob, \"toxic_prob\": toxic_prob, \"pred_label\": predicted_label})"
   ]
  },
  {
   "cell_type": "code",
   "execution_count": null,
   "metadata": {},
   "outputs": [],
   "source": [
    "import pandas as pd\n",
    "\n",
    "df = pd.DataFrame(predictions_dicts)\n",
    "df.head()"
   ]
  },
  {
   "cell_type": "code",
   "execution_count": null,
   "metadata": {},
   "outputs": [],
   "source": [
    "df.to_csv(\"jigsaw_toxicity_pred/test_pred.csv\")"
   ]
  }
 ],
 "metadata": {
  "accelerator": "GPU",
  "colab": {
   "gpuType": "T4",
   "provenance": []
  },
  "kernelspec": {
   "display_name": "audio-env",
   "language": "python",
   "name": "audio-env"
  },
  "language_info": {
   "codemirror_mode": {
    "name": "ipython",
    "version": 3
   },
   "file_extension": ".py",
   "mimetype": "text/x-python",
   "name": "python",
   "nbconvert_exporter": "python",
   "pygments_lexer": "ipython3",
   "version": "3.9.12"
  },
  "widgets": {
   "application/vnd.jupyter.widget-state+json": {
    "0171955bc45e43a39650747bd85a3008": {
     "model_module": "@jupyter-widgets/base",
     "model_module_version": "1.2.0",
     "model_name": "LayoutModel",
     "state": {
      "_model_module": "@jupyter-widgets/base",
      "_model_module_version": "1.2.0",
      "_model_name": "LayoutModel",
      "_view_count": null,
      "_view_module": "@jupyter-widgets/base",
      "_view_module_version": "1.2.0",
      "_view_name": "LayoutView",
      "align_content": null,
      "align_items": null,
      "align_self": null,
      "border": null,
      "bottom": null,
      "display": null,
      "flex": null,
      "flex_flow": null,
      "grid_area": null,
      "grid_auto_columns": null,
      "grid_auto_flow": null,
      "grid_auto_rows": null,
      "grid_column": null,
      "grid_gap": null,
      "grid_row": null,
      "grid_template_areas": null,
      "grid_template_columns": null,
      "grid_template_rows": null,
      "height": null,
      "justify_content": null,
      "justify_items": null,
      "left": null,
      "margin": null,
      "max_height": null,
      "max_width": null,
      "min_height": null,
      "min_width": null,
      "object_fit": null,
      "object_position": null,
      "order": null,
      "overflow": null,
      "overflow_x": null,
      "overflow_y": null,
      "padding": null,
      "right": null,
      "top": null,
      "visibility": null,
      "width": null
     }
    },
    "029246fa42ed498a94c6524783d5ea3d": {
     "model_module": "@jupyter-widgets/controls",
     "model_module_version": "1.5.0",
     "model_name": "HTMLModel",
     "state": {
      "_dom_classes": [],
      "_model_module": "@jupyter-widgets/controls",
      "_model_module_version": "1.5.0",
      "_model_name": "HTMLModel",
      "_view_count": null,
      "_view_module": "@jupyter-widgets/controls",
      "_view_module_version": "1.5.0",
      "_view_name": "HTMLView",
      "description": "",
      "description_tooltip": null,
      "layout": "IPY_MODEL_ccbe0af7bb2b44519c7d65e177626370",
      "placeholder": "​",
      "style": "IPY_MODEL_134617b746a94220979f67c03c8478cd",
      "value": " 440M/440M [00:05&lt;00:00, 57.8MB/s]"
     }
    },
    "05392daed86b42249ad1971674675895": {
     "model_module": "@jupyter-widgets/controls",
     "model_module_version": "1.5.0",
     "model_name": "HTMLModel",
     "state": {
      "_dom_classes": [],
      "_model_module": "@jupyter-widgets/controls",
      "_model_module_version": "1.5.0",
      "_model_name": "HTMLModel",
      "_view_count": null,
      "_view_module": "@jupyter-widgets/controls",
      "_view_module_version": "1.5.0",
      "_view_name": "HTMLView",
      "description": "",
      "description_tooltip": null,
      "layout": "IPY_MODEL_6580bb7ddec24d74894aaff0e052e11f",
      "placeholder": "​",
      "style": "IPY_MODEL_50683b12771f443a9ecde371bd27b110",
      "value": "Generating test split: 100%"
     }
    },
    "0ad3611dbb1245eea1705d4030e86745": {
     "model_module": "@jupyter-widgets/controls",
     "model_module_version": "1.5.0",
     "model_name": "HTMLModel",
     "state": {
      "_dom_classes": [],
      "_model_module": "@jupyter-widgets/controls",
      "_model_module_version": "1.5.0",
      "_model_name": "HTMLModel",
      "_view_count": null,
      "_view_module": "@jupyter-widgets/controls",
      "_view_module_version": "1.5.0",
      "_view_name": "HTMLView",
      "description": "",
      "description_tooltip": null,
      "layout": "IPY_MODEL_3c868069bdf54095896fdb994ea28069",
      "placeholder": "​",
      "style": "IPY_MODEL_eed0afb28504484b8e29ce367beef065",
      "value": "vocab.txt: 100%"
     }
    },
    "0b3e2961484c4db58fcd7659d56d79f6": {
     "model_module": "@jupyter-widgets/base",
     "model_module_version": "1.2.0",
     "model_name": "LayoutModel",
     "state": {
      "_model_module": "@jupyter-widgets/base",
      "_model_module_version": "1.2.0",
      "_model_name": "LayoutModel",
      "_view_count": null,
      "_view_module": "@jupyter-widgets/base",
      "_view_module_version": "1.2.0",
      "_view_name": "LayoutView",
      "align_content": null,
      "align_items": null,
      "align_self": null,
      "border": null,
      "bottom": null,
      "display": null,
      "flex": null,
      "flex_flow": null,
      "grid_area": null,
      "grid_auto_columns": null,
      "grid_auto_flow": null,
      "grid_auto_rows": null,
      "grid_column": null,
      "grid_gap": null,
      "grid_row": null,
      "grid_template_areas": null,
      "grid_template_columns": null,
      "grid_template_rows": null,
      "height": null,
      "justify_content": null,
      "justify_items": null,
      "left": null,
      "margin": null,
      "max_height": null,
      "max_width": null,
      "min_height": null,
      "min_width": null,
      "object_fit": null,
      "object_position": null,
      "order": null,
      "overflow": null,
      "overflow_x": null,
      "overflow_y": null,
      "padding": null,
      "right": null,
      "top": null,
      "visibility": null,
      "width": null
     }
    },
    "1063f5f402c6495e94d19d4ac13125bd": {
     "model_module": "@jupyter-widgets/controls",
     "model_module_version": "1.5.0",
     "model_name": "ProgressStyleModel",
     "state": {
      "_model_module": "@jupyter-widgets/controls",
      "_model_module_version": "1.5.0",
      "_model_name": "ProgressStyleModel",
      "_view_count": null,
      "_view_module": "@jupyter-widgets/base",
      "_view_module_version": "1.2.0",
      "_view_name": "StyleView",
      "bar_color": null,
      "description_width": ""
     }
    },
    "108671c92a2644b7a335a3dafbc64a78": {
     "model_module": "@jupyter-widgets/base",
     "model_module_version": "1.2.0",
     "model_name": "LayoutModel",
     "state": {
      "_model_module": "@jupyter-widgets/base",
      "_model_module_version": "1.2.0",
      "_model_name": "LayoutModel",
      "_view_count": null,
      "_view_module": "@jupyter-widgets/base",
      "_view_module_version": "1.2.0",
      "_view_name": "LayoutView",
      "align_content": null,
      "align_items": null,
      "align_self": null,
      "border": null,
      "bottom": null,
      "display": null,
      "flex": null,
      "flex_flow": null,
      "grid_area": null,
      "grid_auto_columns": null,
      "grid_auto_flow": null,
      "grid_auto_rows": null,
      "grid_column": null,
      "grid_gap": null,
      "grid_row": null,
      "grid_template_areas": null,
      "grid_template_columns": null,
      "grid_template_rows": null,
      "height": null,
      "justify_content": null,
      "justify_items": null,
      "left": null,
      "margin": null,
      "max_height": null,
      "max_width": null,
      "min_height": null,
      "min_width": null,
      "object_fit": null,
      "object_position": null,
      "order": null,
      "overflow": null,
      "overflow_x": null,
      "overflow_y": null,
      "padding": null,
      "right": null,
      "top": null,
      "visibility": null,
      "width": null
     }
    },
    "134617b746a94220979f67c03c8478cd": {
     "model_module": "@jupyter-widgets/controls",
     "model_module_version": "1.5.0",
     "model_name": "DescriptionStyleModel",
     "state": {
      "_model_module": "@jupyter-widgets/controls",
      "_model_module_version": "1.5.0",
      "_model_name": "DescriptionStyleModel",
      "_view_count": null,
      "_view_module": "@jupyter-widgets/base",
      "_view_module_version": "1.2.0",
      "_view_name": "StyleView",
      "description_width": ""
     }
    },
    "1794fff8ffcb4c109c15f67f54803d19": {
     "model_module": "@jupyter-widgets/controls",
     "model_module_version": "1.5.0",
     "model_name": "HBoxModel",
     "state": {
      "_dom_classes": [],
      "_model_module": "@jupyter-widgets/controls",
      "_model_module_version": "1.5.0",
      "_model_name": "HBoxModel",
      "_view_count": null,
      "_view_module": "@jupyter-widgets/controls",
      "_view_module_version": "1.5.0",
      "_view_name": "HBoxView",
      "box_style": "",
      "children": [
       "IPY_MODEL_74b87bf341654b0ba11530f2d807ee4c",
       "IPY_MODEL_57d723588cdd4ffeb2f97587a6b4b5f5",
       "IPY_MODEL_197c73ef0bfa48919be6d65bd36c851c"
      ],
      "layout": "IPY_MODEL_9ac44d309352427fb6b825f994df270e"
     }
    },
    "17f15bdcdcc4449387c9d008ebf18e38": {
     "model_module": "@jupyter-widgets/base",
     "model_module_version": "1.2.0",
     "model_name": "LayoutModel",
     "state": {
      "_model_module": "@jupyter-widgets/base",
      "_model_module_version": "1.2.0",
      "_model_name": "LayoutModel",
      "_view_count": null,
      "_view_module": "@jupyter-widgets/base",
      "_view_module_version": "1.2.0",
      "_view_name": "LayoutView",
      "align_content": null,
      "align_items": null,
      "align_self": null,
      "border": null,
      "bottom": null,
      "display": null,
      "flex": null,
      "flex_flow": null,
      "grid_area": null,
      "grid_auto_columns": null,
      "grid_auto_flow": null,
      "grid_auto_rows": null,
      "grid_column": null,
      "grid_gap": null,
      "grid_row": null,
      "grid_template_areas": null,
      "grid_template_columns": null,
      "grid_template_rows": null,
      "height": null,
      "justify_content": null,
      "justify_items": null,
      "left": null,
      "margin": null,
      "max_height": null,
      "max_width": null,
      "min_height": null,
      "min_width": null,
      "object_fit": null,
      "object_position": null,
      "order": null,
      "overflow": null,
      "overflow_x": null,
      "overflow_y": null,
      "padding": null,
      "right": null,
      "top": null,
      "visibility": null,
      "width": null
     }
    },
    "18b2304f69d74cebba490b5cb7d8bcd6": {
     "model_module": "@jupyter-widgets/controls",
     "model_module_version": "1.5.0",
     "model_name": "FloatProgressModel",
     "state": {
      "_dom_classes": [],
      "_model_module": "@jupyter-widgets/controls",
      "_model_module_version": "1.5.0",
      "_model_name": "FloatProgressModel",
      "_view_count": null,
      "_view_module": "@jupyter-widgets/controls",
      "_view_module_version": "1.5.0",
      "_view_name": "ProgressView",
      "bar_style": "success",
      "description": "",
      "description_tooltip": null,
      "layout": "IPY_MODEL_a328ae5d96e14d1b9b0d83c3deff672b",
      "max": 466062,
      "min": 0,
      "orientation": "horizontal",
      "style": "IPY_MODEL_f853db2de468406594d360c7f8ac4458",
      "value": 466062
     }
    },
    "197c73ef0bfa48919be6d65bd36c851c": {
     "model_module": "@jupyter-widgets/controls",
     "model_module_version": "1.5.0",
     "model_name": "HTMLModel",
     "state": {
      "_dom_classes": [],
      "_model_module": "@jupyter-widgets/controls",
      "_model_module_version": "1.5.0",
      "_model_name": "HTMLModel",
      "_view_count": null,
      "_view_module": "@jupyter-widgets/controls",
      "_view_module_version": "1.5.0",
      "_view_name": "HTMLView",
      "description": "",
      "description_tooltip": null,
      "layout": "IPY_MODEL_469ae7ef0aa642a68e3b268e0e98bc36",
      "placeholder": "​",
      "style": "IPY_MODEL_b4f12b05111346af88cdc88eb76f294d",
      "value": " 63978/63978 [00:34&lt;00:00, 1774.75 examples/s]"
     }
    },
    "229d735cc671424ca9b9e3caa499c47a": {
     "model_module": "@jupyter-widgets/controls",
     "model_module_version": "1.5.0",
     "model_name": "ProgressStyleModel",
     "state": {
      "_model_module": "@jupyter-widgets/controls",
      "_model_module_version": "1.5.0",
      "_model_name": "ProgressStyleModel",
      "_view_count": null,
      "_view_module": "@jupyter-widgets/base",
      "_view_module_version": "1.2.0",
      "_view_name": "StyleView",
      "bar_color": null,
      "description_width": ""
     }
    },
    "2458111be09842ecb49490af888292fb": {
     "model_module": "@jupyter-widgets/controls",
     "model_module_version": "1.5.0",
     "model_name": "ProgressStyleModel",
     "state": {
      "_model_module": "@jupyter-widgets/controls",
      "_model_module_version": "1.5.0",
      "_model_name": "ProgressStyleModel",
      "_view_count": null,
      "_view_module": "@jupyter-widgets/base",
      "_view_module_version": "1.2.0",
      "_view_name": "StyleView",
      "bar_color": null,
      "description_width": ""
     }
    },
    "2603b85a85b047ff8dbdfa7aa3afaa67": {
     "model_module": "@jupyter-widgets/base",
     "model_module_version": "1.2.0",
     "model_name": "LayoutModel",
     "state": {
      "_model_module": "@jupyter-widgets/base",
      "_model_module_version": "1.2.0",
      "_model_name": "LayoutModel",
      "_view_count": null,
      "_view_module": "@jupyter-widgets/base",
      "_view_module_version": "1.2.0",
      "_view_name": "LayoutView",
      "align_content": null,
      "align_items": null,
      "align_self": null,
      "border": null,
      "bottom": null,
      "display": null,
      "flex": null,
      "flex_flow": null,
      "grid_area": null,
      "grid_auto_columns": null,
      "grid_auto_flow": null,
      "grid_auto_rows": null,
      "grid_column": null,
      "grid_gap": null,
      "grid_row": null,
      "grid_template_areas": null,
      "grid_template_columns": null,
      "grid_template_rows": null,
      "height": null,
      "justify_content": null,
      "justify_items": null,
      "left": null,
      "margin": null,
      "max_height": null,
      "max_width": null,
      "min_height": null,
      "min_width": null,
      "object_fit": null,
      "object_position": null,
      "order": null,
      "overflow": null,
      "overflow_x": null,
      "overflow_y": null,
      "padding": null,
      "right": null,
      "top": null,
      "visibility": null,
      "width": null
     }
    },
    "263cd06880124e9eada360de514a51ca": {
     "model_module": "@jupyter-widgets/base",
     "model_module_version": "1.2.0",
     "model_name": "LayoutModel",
     "state": {
      "_model_module": "@jupyter-widgets/base",
      "_model_module_version": "1.2.0",
      "_model_name": "LayoutModel",
      "_view_count": null,
      "_view_module": "@jupyter-widgets/base",
      "_view_module_version": "1.2.0",
      "_view_name": "LayoutView",
      "align_content": null,
      "align_items": null,
      "align_self": null,
      "border": null,
      "bottom": null,
      "display": null,
      "flex": null,
      "flex_flow": null,
      "grid_area": null,
      "grid_auto_columns": null,
      "grid_auto_flow": null,
      "grid_auto_rows": null,
      "grid_column": null,
      "grid_gap": null,
      "grid_row": null,
      "grid_template_areas": null,
      "grid_template_columns": null,
      "grid_template_rows": null,
      "height": null,
      "justify_content": null,
      "justify_items": null,
      "left": null,
      "margin": null,
      "max_height": null,
      "max_width": null,
      "min_height": null,
      "min_width": null,
      "object_fit": null,
      "object_position": null,
      "order": null,
      "overflow": null,
      "overflow_x": null,
      "overflow_y": null,
      "padding": null,
      "right": null,
      "top": null,
      "visibility": null,
      "width": null
     }
    },
    "26b57230caee439d9c293a06fe310d3a": {
     "model_module": "@jupyter-widgets/controls",
     "model_module_version": "1.5.0",
     "model_name": "FloatProgressModel",
     "state": {
      "_dom_classes": [],
      "_model_module": "@jupyter-widgets/controls",
      "_model_module_version": "1.5.0",
      "_model_name": "FloatProgressModel",
      "_view_count": null,
      "_view_module": "@jupyter-widgets/controls",
      "_view_module_version": "1.5.0",
      "_view_name": "ProgressView",
      "bar_style": "success",
      "description": "",
      "description_tooltip": null,
      "layout": "IPY_MODEL_ceb184cdb6f44fb8a209523ddbc45d7d",
      "max": 48,
      "min": 0,
      "orientation": "horizontal",
      "style": "IPY_MODEL_f31aa9c1965144beb68eae707469a2b3",
      "value": 48
     }
    },
    "28b73504ff104dce99146ad75df96bc6": {
     "model_module": "@jupyter-widgets/controls",
     "model_module_version": "1.5.0",
     "model_name": "DescriptionStyleModel",
     "state": {
      "_model_module": "@jupyter-widgets/controls",
      "_model_module_version": "1.5.0",
      "_model_name": "DescriptionStyleModel",
      "_view_count": null,
      "_view_module": "@jupyter-widgets/base",
      "_view_module_version": "1.2.0",
      "_view_name": "StyleView",
      "description_width": ""
     }
    },
    "2aa1fb72e93145a0accf5f175b8e6d28": {
     "model_module": "@jupyter-widgets/controls",
     "model_module_version": "1.5.0",
     "model_name": "HBoxModel",
     "state": {
      "_dom_classes": [],
      "_model_module": "@jupyter-widgets/controls",
      "_model_module_version": "1.5.0",
      "_model_name": "HBoxModel",
      "_view_count": null,
      "_view_module": "@jupyter-widgets/controls",
      "_view_module_version": "1.5.0",
      "_view_name": "HBoxView",
      "box_style": "",
      "children": [
       "IPY_MODEL_c029b51f17344c46a68037707d52ea74",
       "IPY_MODEL_c5c6e3ba1f034cbf9bf527e64bdc413d",
       "IPY_MODEL_6277055a5b7f47998e6939f98116a724"
      ],
      "layout": "IPY_MODEL_94802449fca84bf28da74d2ec5c6f3de"
     }
    },
    "2ee30951325a4588b8360f56bf975b39": {
     "model_module": "@jupyter-widgets/controls",
     "model_module_version": "1.5.0",
     "model_name": "HBoxModel",
     "state": {
      "_dom_classes": [],
      "_model_module": "@jupyter-widgets/controls",
      "_model_module_version": "1.5.0",
      "_model_name": "HBoxModel",
      "_view_count": null,
      "_view_module": "@jupyter-widgets/controls",
      "_view_module_version": "1.5.0",
      "_view_name": "HBoxView",
      "box_style": "",
      "children": [
       "IPY_MODEL_b97a6ecf44394877931636af3ceb07b3",
       "IPY_MODEL_49c943bc5b1749f4b2ef9bc3cf4ee95a",
       "IPY_MODEL_029246fa42ed498a94c6524783d5ea3d"
      ],
      "layout": "IPY_MODEL_263cd06880124e9eada360de514a51ca"
     }
    },
    "309056cc55f14ef289cd9432d0751869": {
     "model_module": "@jupyter-widgets/base",
     "model_module_version": "1.2.0",
     "model_name": "LayoutModel",
     "state": {
      "_model_module": "@jupyter-widgets/base",
      "_model_module_version": "1.2.0",
      "_model_name": "LayoutModel",
      "_view_count": null,
      "_view_module": "@jupyter-widgets/base",
      "_view_module_version": "1.2.0",
      "_view_name": "LayoutView",
      "align_content": null,
      "align_items": null,
      "align_self": null,
      "border": null,
      "bottom": null,
      "display": null,
      "flex": null,
      "flex_flow": null,
      "grid_area": null,
      "grid_auto_columns": null,
      "grid_auto_flow": null,
      "grid_auto_rows": null,
      "grid_column": null,
      "grid_gap": null,
      "grid_row": null,
      "grid_template_areas": null,
      "grid_template_columns": null,
      "grid_template_rows": null,
      "height": null,
      "justify_content": null,
      "justify_items": null,
      "left": null,
      "margin": null,
      "max_height": null,
      "max_width": null,
      "min_height": null,
      "min_width": null,
      "object_fit": null,
      "object_position": null,
      "order": null,
      "overflow": null,
      "overflow_x": null,
      "overflow_y": null,
      "padding": null,
      "right": null,
      "top": null,
      "visibility": null,
      "width": null
     }
    },
    "342a96ff787c4398ab907736552a4867": {
     "model_module": "@jupyter-widgets/controls",
     "model_module_version": "1.5.0",
     "model_name": "DescriptionStyleModel",
     "state": {
      "_model_module": "@jupyter-widgets/controls",
      "_model_module_version": "1.5.0",
      "_model_name": "DescriptionStyleModel",
      "_view_count": null,
      "_view_module": "@jupyter-widgets/base",
      "_view_module_version": "1.2.0",
      "_view_name": "StyleView",
      "description_width": ""
     }
    },
    "3624ce644f124b209ee8ef41332d65f3": {
     "model_module": "@jupyter-widgets/base",
     "model_module_version": "1.2.0",
     "model_name": "LayoutModel",
     "state": {
      "_model_module": "@jupyter-widgets/base",
      "_model_module_version": "1.2.0",
      "_model_name": "LayoutModel",
      "_view_count": null,
      "_view_module": "@jupyter-widgets/base",
      "_view_module_version": "1.2.0",
      "_view_name": "LayoutView",
      "align_content": null,
      "align_items": null,
      "align_self": null,
      "border": null,
      "bottom": null,
      "display": null,
      "flex": null,
      "flex_flow": null,
      "grid_area": null,
      "grid_auto_columns": null,
      "grid_auto_flow": null,
      "grid_auto_rows": null,
      "grid_column": null,
      "grid_gap": null,
      "grid_row": null,
      "grid_template_areas": null,
      "grid_template_columns": null,
      "grid_template_rows": null,
      "height": null,
      "justify_content": null,
      "justify_items": null,
      "left": null,
      "margin": null,
      "max_height": null,
      "max_width": null,
      "min_height": null,
      "min_width": null,
      "object_fit": null,
      "object_position": null,
      "order": null,
      "overflow": null,
      "overflow_x": null,
      "overflow_y": null,
      "padding": null,
      "right": null,
      "top": null,
      "visibility": null,
      "width": null
     }
    },
    "37f27a02464e484abccbb7a82ba6a891": {
     "model_module": "@jupyter-widgets/controls",
     "model_module_version": "1.5.0",
     "model_name": "DescriptionStyleModel",
     "state": {
      "_model_module": "@jupyter-widgets/controls",
      "_model_module_version": "1.5.0",
      "_model_name": "DescriptionStyleModel",
      "_view_count": null,
      "_view_module": "@jupyter-widgets/base",
      "_view_module_version": "1.2.0",
      "_view_name": "StyleView",
      "description_width": ""
     }
    },
    "38fb9d662f114db5a1844ac6fd71c61e": {
     "model_module": "@jupyter-widgets/controls",
     "model_module_version": "1.5.0",
     "model_name": "HTMLModel",
     "state": {
      "_dom_classes": [],
      "_model_module": "@jupyter-widgets/controls",
      "_model_module_version": "1.5.0",
      "_model_name": "HTMLModel",
      "_view_count": null,
      "_view_module": "@jupyter-widgets/controls",
      "_view_module_version": "1.5.0",
      "_view_name": "HTMLView",
      "description": "",
      "description_tooltip": null,
      "layout": "IPY_MODEL_60c9702c1f2b4e7d9e983b406b28d925",
      "placeholder": "​",
      "style": "IPY_MODEL_65e59657d8df466484ebab24295e707d",
      "value": "config.json: 100%"
     }
    },
    "39df13ce894b4e568bc9e7e53e82ca94": {
     "model_module": "@jupyter-widgets/controls",
     "model_module_version": "1.5.0",
     "model_name": "DescriptionStyleModel",
     "state": {
      "_model_module": "@jupyter-widgets/controls",
      "_model_module_version": "1.5.0",
      "_model_name": "DescriptionStyleModel",
      "_view_count": null,
      "_view_module": "@jupyter-widgets/base",
      "_view_module_version": "1.2.0",
      "_view_name": "StyleView",
      "description_width": ""
     }
    },
    "3c868069bdf54095896fdb994ea28069": {
     "model_module": "@jupyter-widgets/base",
     "model_module_version": "1.2.0",
     "model_name": "LayoutModel",
     "state": {
      "_model_module": "@jupyter-widgets/base",
      "_model_module_version": "1.2.0",
      "_model_name": "LayoutModel",
      "_view_count": null,
      "_view_module": "@jupyter-widgets/base",
      "_view_module_version": "1.2.0",
      "_view_name": "LayoutView",
      "align_content": null,
      "align_items": null,
      "align_self": null,
      "border": null,
      "bottom": null,
      "display": null,
      "flex": null,
      "flex_flow": null,
      "grid_area": null,
      "grid_auto_columns": null,
      "grid_auto_flow": null,
      "grid_auto_rows": null,
      "grid_column": null,
      "grid_gap": null,
      "grid_row": null,
      "grid_template_areas": null,
      "grid_template_columns": null,
      "grid_template_rows": null,
      "height": null,
      "justify_content": null,
      "justify_items": null,
      "left": null,
      "margin": null,
      "max_height": null,
      "max_width": null,
      "min_height": null,
      "min_width": null,
      "object_fit": null,
      "object_position": null,
      "order": null,
      "overflow": null,
      "overflow_x": null,
      "overflow_y": null,
      "padding": null,
      "right": null,
      "top": null,
      "visibility": null,
      "width": null
     }
    },
    "3ce7e02c5a264f36bf68fcc97e0f92d3": {
     "model_module": "@jupyter-widgets/controls",
     "model_module_version": "1.5.0",
     "model_name": "HTMLModel",
     "state": {
      "_dom_classes": [],
      "_model_module": "@jupyter-widgets/controls",
      "_model_module_version": "1.5.0",
      "_model_name": "HTMLModel",
      "_view_count": null,
      "_view_module": "@jupyter-widgets/controls",
      "_view_module_version": "1.5.0",
      "_view_name": "HTMLView",
      "description": "",
      "description_tooltip": null,
      "layout": "IPY_MODEL_0171955bc45e43a39650747bd85a3008",
      "placeholder": "​",
      "style": "IPY_MODEL_e53c2cd0f9aa43ca90a629d4693a37d6",
      "value": "tokenizer.json: 100%"
     }
    },
    "3ebc76962bf34f1aaaaa75e91a9890b3": {
     "model_module": "@jupyter-widgets/base",
     "model_module_version": "1.2.0",
     "model_name": "LayoutModel",
     "state": {
      "_model_module": "@jupyter-widgets/base",
      "_model_module_version": "1.2.0",
      "_model_name": "LayoutModel",
      "_view_count": null,
      "_view_module": "@jupyter-widgets/base",
      "_view_module_version": "1.2.0",
      "_view_name": "LayoutView",
      "align_content": null,
      "align_items": null,
      "align_self": null,
      "border": null,
      "bottom": null,
      "display": null,
      "flex": null,
      "flex_flow": null,
      "grid_area": null,
      "grid_auto_columns": null,
      "grid_auto_flow": null,
      "grid_auto_rows": null,
      "grid_column": null,
      "grid_gap": null,
      "grid_row": null,
      "grid_template_areas": null,
      "grid_template_columns": null,
      "grid_template_rows": null,
      "height": null,
      "justify_content": null,
      "justify_items": null,
      "left": null,
      "margin": null,
      "max_height": null,
      "max_width": null,
      "min_height": null,
      "min_width": null,
      "object_fit": null,
      "object_position": null,
      "order": null,
      "overflow": null,
      "overflow_x": null,
      "overflow_y": null,
      "padding": null,
      "right": null,
      "top": null,
      "visibility": null,
      "width": null
     }
    },
    "410930a13a2545a3bc871fd1d7eeab4d": {
     "model_module": "@jupyter-widgets/controls",
     "model_module_version": "1.5.0",
     "model_name": "DescriptionStyleModel",
     "state": {
      "_model_module": "@jupyter-widgets/controls",
      "_model_module_version": "1.5.0",
      "_model_name": "DescriptionStyleModel",
      "_view_count": null,
      "_view_module": "@jupyter-widgets/base",
      "_view_module_version": "1.2.0",
      "_view_name": "StyleView",
      "description_width": ""
     }
    },
    "4207c32ca7fb4f2cb814dffc3427ee93": {
     "model_module": "@jupyter-widgets/base",
     "model_module_version": "1.2.0",
     "model_name": "LayoutModel",
     "state": {
      "_model_module": "@jupyter-widgets/base",
      "_model_module_version": "1.2.0",
      "_model_name": "LayoutModel",
      "_view_count": null,
      "_view_module": "@jupyter-widgets/base",
      "_view_module_version": "1.2.0",
      "_view_name": "LayoutView",
      "align_content": null,
      "align_items": null,
      "align_self": null,
      "border": null,
      "bottom": null,
      "display": null,
      "flex": null,
      "flex_flow": null,
      "grid_area": null,
      "grid_auto_columns": null,
      "grid_auto_flow": null,
      "grid_auto_rows": null,
      "grid_column": null,
      "grid_gap": null,
      "grid_row": null,
      "grid_template_areas": null,
      "grid_template_columns": null,
      "grid_template_rows": null,
      "height": null,
      "justify_content": null,
      "justify_items": null,
      "left": null,
      "margin": null,
      "max_height": null,
      "max_width": null,
      "min_height": null,
      "min_width": null,
      "object_fit": null,
      "object_position": null,
      "order": null,
      "overflow": null,
      "overflow_x": null,
      "overflow_y": null,
      "padding": null,
      "right": null,
      "top": null,
      "visibility": null,
      "width": null
     }
    },
    "469ae7ef0aa642a68e3b268e0e98bc36": {
     "model_module": "@jupyter-widgets/base",
     "model_module_version": "1.2.0",
     "model_name": "LayoutModel",
     "state": {
      "_model_module": "@jupyter-widgets/base",
      "_model_module_version": "1.2.0",
      "_model_name": "LayoutModel",
      "_view_count": null,
      "_view_module": "@jupyter-widgets/base",
      "_view_module_version": "1.2.0",
      "_view_name": "LayoutView",
      "align_content": null,
      "align_items": null,
      "align_self": null,
      "border": null,
      "bottom": null,
      "display": null,
      "flex": null,
      "flex_flow": null,
      "grid_area": null,
      "grid_auto_columns": null,
      "grid_auto_flow": null,
      "grid_auto_rows": null,
      "grid_column": null,
      "grid_gap": null,
      "grid_row": null,
      "grid_template_areas": null,
      "grid_template_columns": null,
      "grid_template_rows": null,
      "height": null,
      "justify_content": null,
      "justify_items": null,
      "left": null,
      "margin": null,
      "max_height": null,
      "max_width": null,
      "min_height": null,
      "min_width": null,
      "object_fit": null,
      "object_position": null,
      "order": null,
      "overflow": null,
      "overflow_x": null,
      "overflow_y": null,
      "padding": null,
      "right": null,
      "top": null,
      "visibility": null,
      "width": null
     }
    },
    "49c943bc5b1749f4b2ef9bc3cf4ee95a": {
     "model_module": "@jupyter-widgets/controls",
     "model_module_version": "1.5.0",
     "model_name": "FloatProgressModel",
     "state": {
      "_dom_classes": [],
      "_model_module": "@jupyter-widgets/controls",
      "_model_module_version": "1.5.0",
      "_model_name": "FloatProgressModel",
      "_view_count": null,
      "_view_module": "@jupyter-widgets/controls",
      "_view_module_version": "1.5.0",
      "_view_name": "ProgressView",
      "bar_style": "success",
      "description": "",
      "description_tooltip": null,
      "layout": "IPY_MODEL_fdd9261a353c4f71b777f895ae9a31db",
      "max": 440449768,
      "min": 0,
      "orientation": "horizontal",
      "style": "IPY_MODEL_2458111be09842ecb49490af888292fb",
      "value": 440449768
     }
    },
    "4c4132ddf56f47578138cfbee5e2bcc6": {
     "model_module": "@jupyter-widgets/controls",
     "model_module_version": "1.5.0",
     "model_name": "DescriptionStyleModel",
     "state": {
      "_model_module": "@jupyter-widgets/controls",
      "_model_module_version": "1.5.0",
      "_model_name": "DescriptionStyleModel",
      "_view_count": null,
      "_view_module": "@jupyter-widgets/base",
      "_view_module_version": "1.2.0",
      "_view_name": "StyleView",
      "description_width": ""
     }
    },
    "4e9fcafedc77409eaa529f72af613ff0": {
     "model_module": "@jupyter-widgets/base",
     "model_module_version": "1.2.0",
     "model_name": "LayoutModel",
     "state": {
      "_model_module": "@jupyter-widgets/base",
      "_model_module_version": "1.2.0",
      "_model_name": "LayoutModel",
      "_view_count": null,
      "_view_module": "@jupyter-widgets/base",
      "_view_module_version": "1.2.0",
      "_view_name": "LayoutView",
      "align_content": null,
      "align_items": null,
      "align_self": null,
      "border": null,
      "bottom": null,
      "display": null,
      "flex": null,
      "flex_flow": null,
      "grid_area": null,
      "grid_auto_columns": null,
      "grid_auto_flow": null,
      "grid_auto_rows": null,
      "grid_column": null,
      "grid_gap": null,
      "grid_row": null,
      "grid_template_areas": null,
      "grid_template_columns": null,
      "grid_template_rows": null,
      "height": null,
      "justify_content": null,
      "justify_items": null,
      "left": null,
      "margin": null,
      "max_height": null,
      "max_width": null,
      "min_height": null,
      "min_width": null,
      "object_fit": null,
      "object_position": null,
      "order": null,
      "overflow": null,
      "overflow_x": null,
      "overflow_y": null,
      "padding": null,
      "right": null,
      "top": null,
      "visibility": null,
      "width": null
     }
    },
    "50683b12771f443a9ecde371bd27b110": {
     "model_module": "@jupyter-widgets/controls",
     "model_module_version": "1.5.0",
     "model_name": "DescriptionStyleModel",
     "state": {
      "_model_module": "@jupyter-widgets/controls",
      "_model_module_version": "1.5.0",
      "_model_name": "DescriptionStyleModel",
      "_view_count": null,
      "_view_module": "@jupyter-widgets/base",
      "_view_module_version": "1.2.0",
      "_view_name": "StyleView",
      "description_width": ""
     }
    },
    "57d723588cdd4ffeb2f97587a6b4b5f5": {
     "model_module": "@jupyter-widgets/controls",
     "model_module_version": "1.5.0",
     "model_name": "FloatProgressModel",
     "state": {
      "_dom_classes": [],
      "_model_module": "@jupyter-widgets/controls",
      "_model_module_version": "1.5.0",
      "_model_name": "FloatProgressModel",
      "_view_count": null,
      "_view_module": "@jupyter-widgets/controls",
      "_view_module_version": "1.5.0",
      "_view_name": "ProgressView",
      "bar_style": "success",
      "description": "",
      "description_tooltip": null,
      "layout": "IPY_MODEL_ea37c8809cf34bca902ac85e88d879f2",
      "max": 63978,
      "min": 0,
      "orientation": "horizontal",
      "style": "IPY_MODEL_5b7bfcd8f94545748bbab39b0710fa7f",
      "value": 63978
     }
    },
    "5b7bfcd8f94545748bbab39b0710fa7f": {
     "model_module": "@jupyter-widgets/controls",
     "model_module_version": "1.5.0",
     "model_name": "ProgressStyleModel",
     "state": {
      "_model_module": "@jupyter-widgets/controls",
      "_model_module_version": "1.5.0",
      "_model_name": "ProgressStyleModel",
      "_view_count": null,
      "_view_module": "@jupyter-widgets/base",
      "_view_module_version": "1.2.0",
      "_view_name": "StyleView",
      "bar_color": null,
      "description_width": ""
     }
    },
    "5bb71bf0c5494b3d968960bd3238e1f2": {
     "model_module": "@jupyter-widgets/base",
     "model_module_version": "1.2.0",
     "model_name": "LayoutModel",
     "state": {
      "_model_module": "@jupyter-widgets/base",
      "_model_module_version": "1.2.0",
      "_model_name": "LayoutModel",
      "_view_count": null,
      "_view_module": "@jupyter-widgets/base",
      "_view_module_version": "1.2.0",
      "_view_name": "LayoutView",
      "align_content": null,
      "align_items": null,
      "align_self": null,
      "border": null,
      "bottom": null,
      "display": null,
      "flex": null,
      "flex_flow": null,
      "grid_area": null,
      "grid_auto_columns": null,
      "grid_auto_flow": null,
      "grid_auto_rows": null,
      "grid_column": null,
      "grid_gap": null,
      "grid_row": null,
      "grid_template_areas": null,
      "grid_template_columns": null,
      "grid_template_rows": null,
      "height": null,
      "justify_content": null,
      "justify_items": null,
      "left": null,
      "margin": null,
      "max_height": null,
      "max_width": null,
      "min_height": null,
      "min_width": null,
      "object_fit": null,
      "object_position": null,
      "order": null,
      "overflow": null,
      "overflow_x": null,
      "overflow_y": null,
      "padding": null,
      "right": null,
      "top": null,
      "visibility": null,
      "width": null
     }
    },
    "5d11b9e514f245d68f6e7d3a733780fe": {
     "model_module": "@jupyter-widgets/controls",
     "model_module_version": "1.5.0",
     "model_name": "FloatProgressModel",
     "state": {
      "_dom_classes": [],
      "_model_module": "@jupyter-widgets/controls",
      "_model_module_version": "1.5.0",
      "_model_name": "FloatProgressModel",
      "_view_count": null,
      "_view_module": "@jupyter-widgets/controls",
      "_view_module_version": "1.5.0",
      "_view_name": "ProgressView",
      "bar_style": "success",
      "description": "",
      "description_tooltip": null,
      "layout": "IPY_MODEL_0b3e2961484c4db58fcd7659d56d79f6",
      "max": 159571,
      "min": 0,
      "orientation": "horizontal",
      "style": "IPY_MODEL_6ba3414c69e4492d9cddcd89e837bfa6",
      "value": 159571
     }
    },
    "5de29c4bb4444f66bdc7e434d06cea65": {
     "model_module": "@jupyter-widgets/controls",
     "model_module_version": "1.5.0",
     "model_name": "ProgressStyleModel",
     "state": {
      "_model_module": "@jupyter-widgets/controls",
      "_model_module_version": "1.5.0",
      "_model_name": "ProgressStyleModel",
      "_view_count": null,
      "_view_module": "@jupyter-widgets/base",
      "_view_module_version": "1.2.0",
      "_view_name": "StyleView",
      "bar_color": null,
      "description_width": ""
     }
    },
    "60c9702c1f2b4e7d9e983b406b28d925": {
     "model_module": "@jupyter-widgets/base",
     "model_module_version": "1.2.0",
     "model_name": "LayoutModel",
     "state": {
      "_model_module": "@jupyter-widgets/base",
      "_model_module_version": "1.2.0",
      "_model_name": "LayoutModel",
      "_view_count": null,
      "_view_module": "@jupyter-widgets/base",
      "_view_module_version": "1.2.0",
      "_view_name": "LayoutView",
      "align_content": null,
      "align_items": null,
      "align_self": null,
      "border": null,
      "bottom": null,
      "display": null,
      "flex": null,
      "flex_flow": null,
      "grid_area": null,
      "grid_auto_columns": null,
      "grid_auto_flow": null,
      "grid_auto_rows": null,
      "grid_column": null,
      "grid_gap": null,
      "grid_row": null,
      "grid_template_areas": null,
      "grid_template_columns": null,
      "grid_template_rows": null,
      "height": null,
      "justify_content": null,
      "justify_items": null,
      "left": null,
      "margin": null,
      "max_height": null,
      "max_width": null,
      "min_height": null,
      "min_width": null,
      "object_fit": null,
      "object_position": null,
      "order": null,
      "overflow": null,
      "overflow_x": null,
      "overflow_y": null,
      "padding": null,
      "right": null,
      "top": null,
      "visibility": null,
      "width": null
     }
    },
    "6277055a5b7f47998e6939f98116a724": {
     "model_module": "@jupyter-widgets/controls",
     "model_module_version": "1.5.0",
     "model_name": "HTMLModel",
     "state": {
      "_dom_classes": [],
      "_model_module": "@jupyter-widgets/controls",
      "_model_module_version": "1.5.0",
      "_model_name": "HTMLModel",
      "_view_count": null,
      "_view_module": "@jupyter-widgets/controls",
      "_view_module_version": "1.5.0",
      "_view_name": "HTMLView",
      "description": "",
      "description_tooltip": null,
      "layout": "IPY_MODEL_62b20ea16bce4c97984157f302f802da",
      "placeholder": "​",
      "style": "IPY_MODEL_95fcd1b463cb480192113de9de03d92d",
      "value": " 159571/159571 [00:29&lt;00:00, 6167.90 examples/s]"
     }
    },
    "62b20ea16bce4c97984157f302f802da": {
     "model_module": "@jupyter-widgets/base",
     "model_module_version": "1.2.0",
     "model_name": "LayoutModel",
     "state": {
      "_model_module": "@jupyter-widgets/base",
      "_model_module_version": "1.2.0",
      "_model_name": "LayoutModel",
      "_view_count": null,
      "_view_module": "@jupyter-widgets/base",
      "_view_module_version": "1.2.0",
      "_view_name": "LayoutView",
      "align_content": null,
      "align_items": null,
      "align_self": null,
      "border": null,
      "bottom": null,
      "display": null,
      "flex": null,
      "flex_flow": null,
      "grid_area": null,
      "grid_auto_columns": null,
      "grid_auto_flow": null,
      "grid_auto_rows": null,
      "grid_column": null,
      "grid_gap": null,
      "grid_row": null,
      "grid_template_areas": null,
      "grid_template_columns": null,
      "grid_template_rows": null,
      "height": null,
      "justify_content": null,
      "justify_items": null,
      "left": null,
      "margin": null,
      "max_height": null,
      "max_width": null,
      "min_height": null,
      "min_width": null,
      "object_fit": null,
      "object_position": null,
      "order": null,
      "overflow": null,
      "overflow_x": null,
      "overflow_y": null,
      "padding": null,
      "right": null,
      "top": null,
      "visibility": null,
      "width": null
     }
    },
    "6580bb7ddec24d74894aaff0e052e11f": {
     "model_module": "@jupyter-widgets/base",
     "model_module_version": "1.2.0",
     "model_name": "LayoutModel",
     "state": {
      "_model_module": "@jupyter-widgets/base",
      "_model_module_version": "1.2.0",
      "_model_name": "LayoutModel",
      "_view_count": null,
      "_view_module": "@jupyter-widgets/base",
      "_view_module_version": "1.2.0",
      "_view_name": "LayoutView",
      "align_content": null,
      "align_items": null,
      "align_self": null,
      "border": null,
      "bottom": null,
      "display": null,
      "flex": null,
      "flex_flow": null,
      "grid_area": null,
      "grid_auto_columns": null,
      "grid_auto_flow": null,
      "grid_auto_rows": null,
      "grid_column": null,
      "grid_gap": null,
      "grid_row": null,
      "grid_template_areas": null,
      "grid_template_columns": null,
      "grid_template_rows": null,
      "height": null,
      "justify_content": null,
      "justify_items": null,
      "left": null,
      "margin": null,
      "max_height": null,
      "max_width": null,
      "min_height": null,
      "min_width": null,
      "object_fit": null,
      "object_position": null,
      "order": null,
      "overflow": null,
      "overflow_x": null,
      "overflow_y": null,
      "padding": null,
      "right": null,
      "top": null,
      "visibility": null,
      "width": null
     }
    },
    "65e59657d8df466484ebab24295e707d": {
     "model_module": "@jupyter-widgets/controls",
     "model_module_version": "1.5.0",
     "model_name": "DescriptionStyleModel",
     "state": {
      "_model_module": "@jupyter-widgets/controls",
      "_model_module_version": "1.5.0",
      "_model_name": "DescriptionStyleModel",
      "_view_count": null,
      "_view_module": "@jupyter-widgets/base",
      "_view_module_version": "1.2.0",
      "_view_name": "StyleView",
      "description_width": ""
     }
    },
    "6ba3414c69e4492d9cddcd89e837bfa6": {
     "model_module": "@jupyter-widgets/controls",
     "model_module_version": "1.5.0",
     "model_name": "ProgressStyleModel",
     "state": {
      "_model_module": "@jupyter-widgets/controls",
      "_model_module_version": "1.5.0",
      "_model_name": "ProgressStyleModel",
      "_view_count": null,
      "_view_module": "@jupyter-widgets/base",
      "_view_module_version": "1.2.0",
      "_view_name": "StyleView",
      "bar_color": null,
      "description_width": ""
     }
    },
    "6eff947e24f84603ba824135fe4d1a5f": {
     "model_module": "@jupyter-widgets/controls",
     "model_module_version": "1.5.0",
     "model_name": "HTMLModel",
     "state": {
      "_dom_classes": [],
      "_model_module": "@jupyter-widgets/controls",
      "_model_module_version": "1.5.0",
      "_model_name": "HTMLModel",
      "_view_count": null,
      "_view_module": "@jupyter-widgets/controls",
      "_view_module_version": "1.5.0",
      "_view_name": "HTMLView",
      "description": "",
      "description_tooltip": null,
      "layout": "IPY_MODEL_7c387b1cc12a4feeb5876fe7cd2ccc1e",
      "placeholder": "​",
      "style": "IPY_MODEL_dd99db62325d418b8be2bfaa9d7fc3d2",
      "value": " 63978/63978 [00:13&lt;00:00, 6283.99 examples/s]"
     }
    },
    "746d6b0facb64872a33a550c9c5ade26": {
     "model_module": "@jupyter-widgets/controls",
     "model_module_version": "1.5.0",
     "model_name": "HTMLModel",
     "state": {
      "_dom_classes": [],
      "_model_module": "@jupyter-widgets/controls",
      "_model_module_version": "1.5.0",
      "_model_name": "HTMLModel",
      "_view_count": null,
      "_view_module": "@jupyter-widgets/controls",
      "_view_module_version": "1.5.0",
      "_view_name": "HTMLView",
      "description": "",
      "description_tooltip": null,
      "layout": "IPY_MODEL_923f32e22a31474ab06dbf575b5ad35d",
      "placeholder": "​",
      "style": "IPY_MODEL_39df13ce894b4e568bc9e7e53e82ca94",
      "value": " 232k/232k [00:00&lt;00:00, 3.58MB/s]"
     }
    },
    "74b87bf341654b0ba11530f2d807ee4c": {
     "model_module": "@jupyter-widgets/controls",
     "model_module_version": "1.5.0",
     "model_name": "HTMLModel",
     "state": {
      "_dom_classes": [],
      "_model_module": "@jupyter-widgets/controls",
      "_model_module_version": "1.5.0",
      "_model_name": "HTMLModel",
      "_view_count": null,
      "_view_module": "@jupyter-widgets/controls",
      "_view_module_version": "1.5.0",
      "_view_name": "HTMLView",
      "description": "",
      "description_tooltip": null,
      "layout": "IPY_MODEL_a4d19f8fbbf94c0a8c3da36c7c259601",
      "placeholder": "​",
      "style": "IPY_MODEL_cdf1cb1f9f554f60a20225ede5373c8e",
      "value": "Map: 100%"
     }
    },
    "7573aff1b00b4ecf9b5e8ca47f571979": {
     "model_module": "@jupyter-widgets/base",
     "model_module_version": "1.2.0",
     "model_name": "LayoutModel",
     "state": {
      "_model_module": "@jupyter-widgets/base",
      "_model_module_version": "1.2.0",
      "_model_name": "LayoutModel",
      "_view_count": null,
      "_view_module": "@jupyter-widgets/base",
      "_view_module_version": "1.2.0",
      "_view_name": "LayoutView",
      "align_content": null,
      "align_items": null,
      "align_self": null,
      "border": null,
      "bottom": null,
      "display": null,
      "flex": null,
      "flex_flow": null,
      "grid_area": null,
      "grid_auto_columns": null,
      "grid_auto_flow": null,
      "grid_auto_rows": null,
      "grid_column": null,
      "grid_gap": null,
      "grid_row": null,
      "grid_template_areas": null,
      "grid_template_columns": null,
      "grid_template_rows": null,
      "height": null,
      "justify_content": null,
      "justify_items": null,
      "left": null,
      "margin": null,
      "max_height": null,
      "max_width": null,
      "min_height": null,
      "min_width": null,
      "object_fit": null,
      "object_position": null,
      "order": null,
      "overflow": null,
      "overflow_x": null,
      "overflow_y": null,
      "padding": null,
      "right": null,
      "top": null,
      "visibility": null,
      "width": null
     }
    },
    "781dfee10e6f4be2ac7f1e4b76f1aaa8": {
     "model_module": "@jupyter-widgets/base",
     "model_module_version": "1.2.0",
     "model_name": "LayoutModel",
     "state": {
      "_model_module": "@jupyter-widgets/base",
      "_model_module_version": "1.2.0",
      "_model_name": "LayoutModel",
      "_view_count": null,
      "_view_module": "@jupyter-widgets/base",
      "_view_module_version": "1.2.0",
      "_view_name": "LayoutView",
      "align_content": null,
      "align_items": null,
      "align_self": null,
      "border": null,
      "bottom": null,
      "display": null,
      "flex": null,
      "flex_flow": null,
      "grid_area": null,
      "grid_auto_columns": null,
      "grid_auto_flow": null,
      "grid_auto_rows": null,
      "grid_column": null,
      "grid_gap": null,
      "grid_row": null,
      "grid_template_areas": null,
      "grid_template_columns": null,
      "grid_template_rows": null,
      "height": null,
      "justify_content": null,
      "justify_items": null,
      "left": null,
      "margin": null,
      "max_height": null,
      "max_width": null,
      "min_height": null,
      "min_width": null,
      "object_fit": null,
      "object_position": null,
      "order": null,
      "overflow": null,
      "overflow_x": null,
      "overflow_y": null,
      "padding": null,
      "right": null,
      "top": null,
      "visibility": null,
      "width": null
     }
    },
    "796b1d6f41474c269aec017094267776": {
     "model_module": "@jupyter-widgets/controls",
     "model_module_version": "1.5.0",
     "model_name": "HTMLModel",
     "state": {
      "_dom_classes": [],
      "_model_module": "@jupyter-widgets/controls",
      "_model_module_version": "1.5.0",
      "_model_name": "HTMLModel",
      "_view_count": null,
      "_view_module": "@jupyter-widgets/controls",
      "_view_module_version": "1.5.0",
      "_view_name": "HTMLView",
      "description": "",
      "description_tooltip": null,
      "layout": "IPY_MODEL_781dfee10e6f4be2ac7f1e4b76f1aaa8",
      "placeholder": "​",
      "style": "IPY_MODEL_342a96ff787c4398ab907736552a4867",
      "value": "tokenizer_config.json: 100%"
     }
    },
    "7c387b1cc12a4feeb5876fe7cd2ccc1e": {
     "model_module": "@jupyter-widgets/base",
     "model_module_version": "1.2.0",
     "model_name": "LayoutModel",
     "state": {
      "_model_module": "@jupyter-widgets/base",
      "_model_module_version": "1.2.0",
      "_model_name": "LayoutModel",
      "_view_count": null,
      "_view_module": "@jupyter-widgets/base",
      "_view_module_version": "1.2.0",
      "_view_name": "LayoutView",
      "align_content": null,
      "align_items": null,
      "align_self": null,
      "border": null,
      "bottom": null,
      "display": null,
      "flex": null,
      "flex_flow": null,
      "grid_area": null,
      "grid_auto_columns": null,
      "grid_auto_flow": null,
      "grid_auto_rows": null,
      "grid_column": null,
      "grid_gap": null,
      "grid_row": null,
      "grid_template_areas": null,
      "grid_template_columns": null,
      "grid_template_rows": null,
      "height": null,
      "justify_content": null,
      "justify_items": null,
      "left": null,
      "margin": null,
      "max_height": null,
      "max_width": null,
      "min_height": null,
      "min_width": null,
      "object_fit": null,
      "object_position": null,
      "order": null,
      "overflow": null,
      "overflow_x": null,
      "overflow_y": null,
      "padding": null,
      "right": null,
      "top": null,
      "visibility": null,
      "width": null
     }
    },
    "7c4b2fad950a4f8b8b24b6c83856cb09": {
     "model_module": "@jupyter-widgets/controls",
     "model_module_version": "1.5.0",
     "model_name": "ProgressStyleModel",
     "state": {
      "_model_module": "@jupyter-widgets/controls",
      "_model_module_version": "1.5.0",
      "_model_name": "ProgressStyleModel",
      "_view_count": null,
      "_view_module": "@jupyter-widgets/base",
      "_view_module_version": "1.2.0",
      "_view_name": "StyleView",
      "bar_color": null,
      "description_width": ""
     }
    },
    "7c65b5b06df04d6fa399124b640e7a6b": {
     "model_module": "@jupyter-widgets/controls",
     "model_module_version": "1.5.0",
     "model_name": "FloatProgressModel",
     "state": {
      "_dom_classes": [],
      "_model_module": "@jupyter-widgets/controls",
      "_model_module_version": "1.5.0",
      "_model_name": "FloatProgressModel",
      "_view_count": null,
      "_view_module": "@jupyter-widgets/controls",
      "_view_module_version": "1.5.0",
      "_view_name": "ProgressView",
      "bar_style": "success",
      "description": "",
      "description_tooltip": null,
      "layout": "IPY_MODEL_a50865b819ff4613a255116f7c9a44a0",
      "max": 231508,
      "min": 0,
      "orientation": "horizontal",
      "style": "IPY_MODEL_5de29c4bb4444f66bdc7e434d06cea65",
      "value": 231508
     }
    },
    "83960f7e05414a1281ca8c2ec89078ee": {
     "model_module": "@jupyter-widgets/base",
     "model_module_version": "1.2.0",
     "model_name": "LayoutModel",
     "state": {
      "_model_module": "@jupyter-widgets/base",
      "_model_module_version": "1.2.0",
      "_model_name": "LayoutModel",
      "_view_count": null,
      "_view_module": "@jupyter-widgets/base",
      "_view_module_version": "1.2.0",
      "_view_name": "LayoutView",
      "align_content": null,
      "align_items": null,
      "align_self": null,
      "border": null,
      "bottom": null,
      "display": null,
      "flex": null,
      "flex_flow": null,
      "grid_area": null,
      "grid_auto_columns": null,
      "grid_auto_flow": null,
      "grid_auto_rows": null,
      "grid_column": null,
      "grid_gap": null,
      "grid_row": null,
      "grid_template_areas": null,
      "grid_template_columns": null,
      "grid_template_rows": null,
      "height": null,
      "justify_content": null,
      "justify_items": null,
      "left": null,
      "margin": null,
      "max_height": null,
      "max_width": null,
      "min_height": null,
      "min_width": null,
      "object_fit": null,
      "object_position": null,
      "order": null,
      "overflow": null,
      "overflow_x": null,
      "overflow_y": null,
      "padding": null,
      "right": null,
      "top": null,
      "visibility": null,
      "width": null
     }
    },
    "870a6c2698c2451b9b42e4678601aff9": {
     "model_module": "@jupyter-widgets/controls",
     "model_module_version": "1.5.0",
     "model_name": "HTMLModel",
     "state": {
      "_dom_classes": [],
      "_model_module": "@jupyter-widgets/controls",
      "_model_module_version": "1.5.0",
      "_model_name": "HTMLModel",
      "_view_count": null,
      "_view_module": "@jupyter-widgets/controls",
      "_view_module_version": "1.5.0",
      "_view_name": "HTMLView",
      "description": "",
      "description_tooltip": null,
      "layout": "IPY_MODEL_3624ce644f124b209ee8ef41332d65f3",
      "placeholder": "​",
      "style": "IPY_MODEL_9048e958887343979cbff0084388ef60",
      "value": " 466k/466k [00:00&lt;00:00, 17.6MB/s]"
     }
    },
    "898baddbd5f44e4b86668036b29e03d8": {
     "model_module": "@jupyter-widgets/controls",
     "model_module_version": "1.5.0",
     "model_name": "HBoxModel",
     "state": {
      "_dom_classes": [],
      "_model_module": "@jupyter-widgets/controls",
      "_model_module_version": "1.5.0",
      "_model_name": "HBoxModel",
      "_view_count": null,
      "_view_module": "@jupyter-widgets/controls",
      "_view_module_version": "1.5.0",
      "_view_name": "HBoxView",
      "box_style": "",
      "children": [
       "IPY_MODEL_3ce7e02c5a264f36bf68fcc97e0f92d3",
       "IPY_MODEL_18b2304f69d74cebba490b5cb7d8bcd6",
       "IPY_MODEL_870a6c2698c2451b9b42e4678601aff9"
      ],
      "layout": "IPY_MODEL_108671c92a2644b7a335a3dafbc64a78"
     }
    },
    "8b33996146d3443e9e06324f31608d8e": {
     "model_module": "@jupyter-widgets/controls",
     "model_module_version": "1.5.0",
     "model_name": "HBoxModel",
     "state": {
      "_dom_classes": [],
      "_model_module": "@jupyter-widgets/controls",
      "_model_module_version": "1.5.0",
      "_model_name": "HBoxModel",
      "_view_count": null,
      "_view_module": "@jupyter-widgets/controls",
      "_view_module_version": "1.5.0",
      "_view_name": "HBoxView",
      "box_style": "",
      "children": [
       "IPY_MODEL_38fb9d662f114db5a1844ac6fd71c61e",
       "IPY_MODEL_b71437d312e748da9cd2fb99b3de1e55",
       "IPY_MODEL_f6ff50ca851646a1bd264cb164a5a634"
      ],
      "layout": "IPY_MODEL_309056cc55f14ef289cd9432d0751869"
     }
    },
    "9048e958887343979cbff0084388ef60": {
     "model_module": "@jupyter-widgets/controls",
     "model_module_version": "1.5.0",
     "model_name": "DescriptionStyleModel",
     "state": {
      "_model_module": "@jupyter-widgets/controls",
      "_model_module_version": "1.5.0",
      "_model_name": "DescriptionStyleModel",
      "_view_count": null,
      "_view_module": "@jupyter-widgets/base",
      "_view_module_version": "1.2.0",
      "_view_name": "StyleView",
      "description_width": ""
     }
    },
    "90dc3aaa68b2419e85e6699e70ee45b1": {
     "model_module": "@jupyter-widgets/controls",
     "model_module_version": "1.5.0",
     "model_name": "HTMLModel",
     "state": {
      "_dom_classes": [],
      "_model_module": "@jupyter-widgets/controls",
      "_model_module_version": "1.5.0",
      "_model_name": "HTMLModel",
      "_view_count": null,
      "_view_module": "@jupyter-widgets/controls",
      "_view_module_version": "1.5.0",
      "_view_name": "HTMLView",
      "description": "",
      "description_tooltip": null,
      "layout": "IPY_MODEL_cf6d9980d1234bdf87f88d1f11c4e94d",
      "placeholder": "​",
      "style": "IPY_MODEL_a2013a80adb44150b0182ab7c8c3c8d2",
      "value": " 159571/159571 [01:38&lt;00:00, 2024.50 examples/s]"
     }
    },
    "923f32e22a31474ab06dbf575b5ad35d": {
     "model_module": "@jupyter-widgets/base",
     "model_module_version": "1.2.0",
     "model_name": "LayoutModel",
     "state": {
      "_model_module": "@jupyter-widgets/base",
      "_model_module_version": "1.2.0",
      "_model_name": "LayoutModel",
      "_view_count": null,
      "_view_module": "@jupyter-widgets/base",
      "_view_module_version": "1.2.0",
      "_view_name": "LayoutView",
      "align_content": null,
      "align_items": null,
      "align_self": null,
      "border": null,
      "bottom": null,
      "display": null,
      "flex": null,
      "flex_flow": null,
      "grid_area": null,
      "grid_auto_columns": null,
      "grid_auto_flow": null,
      "grid_auto_rows": null,
      "grid_column": null,
      "grid_gap": null,
      "grid_row": null,
      "grid_template_areas": null,
      "grid_template_columns": null,
      "grid_template_rows": null,
      "height": null,
      "justify_content": null,
      "justify_items": null,
      "left": null,
      "margin": null,
      "max_height": null,
      "max_width": null,
      "min_height": null,
      "min_width": null,
      "object_fit": null,
      "object_position": null,
      "order": null,
      "overflow": null,
      "overflow_x": null,
      "overflow_y": null,
      "padding": null,
      "right": null,
      "top": null,
      "visibility": null,
      "width": null
     }
    },
    "94802449fca84bf28da74d2ec5c6f3de": {
     "model_module": "@jupyter-widgets/base",
     "model_module_version": "1.2.0",
     "model_name": "LayoutModel",
     "state": {
      "_model_module": "@jupyter-widgets/base",
      "_model_module_version": "1.2.0",
      "_model_name": "LayoutModel",
      "_view_count": null,
      "_view_module": "@jupyter-widgets/base",
      "_view_module_version": "1.2.0",
      "_view_name": "LayoutView",
      "align_content": null,
      "align_items": null,
      "align_self": null,
      "border": null,
      "bottom": null,
      "display": null,
      "flex": null,
      "flex_flow": null,
      "grid_area": null,
      "grid_auto_columns": null,
      "grid_auto_flow": null,
      "grid_auto_rows": null,
      "grid_column": null,
      "grid_gap": null,
      "grid_row": null,
      "grid_template_areas": null,
      "grid_template_columns": null,
      "grid_template_rows": null,
      "height": null,
      "justify_content": null,
      "justify_items": null,
      "left": null,
      "margin": null,
      "max_height": null,
      "max_width": null,
      "min_height": null,
      "min_width": null,
      "object_fit": null,
      "object_position": null,
      "order": null,
      "overflow": null,
      "overflow_x": null,
      "overflow_y": null,
      "padding": null,
      "right": null,
      "top": null,
      "visibility": null,
      "width": null
     }
    },
    "95fcd1b463cb480192113de9de03d92d": {
     "model_module": "@jupyter-widgets/controls",
     "model_module_version": "1.5.0",
     "model_name": "DescriptionStyleModel",
     "state": {
      "_model_module": "@jupyter-widgets/controls",
      "_model_module_version": "1.5.0",
      "_model_name": "DescriptionStyleModel",
      "_view_count": null,
      "_view_module": "@jupyter-widgets/base",
      "_view_module_version": "1.2.0",
      "_view_name": "StyleView",
      "description_width": ""
     }
    },
    "969cb0e8b7004e21abdf656c62bdfa97": {
     "model_module": "@jupyter-widgets/controls",
     "model_module_version": "1.5.0",
     "model_name": "HBoxModel",
     "state": {
      "_dom_classes": [],
      "_model_module": "@jupyter-widgets/controls",
      "_model_module_version": "1.5.0",
      "_model_name": "HBoxModel",
      "_view_count": null,
      "_view_module": "@jupyter-widgets/controls",
      "_view_module_version": "1.5.0",
      "_view_name": "HBoxView",
      "box_style": "",
      "children": [
       "IPY_MODEL_0ad3611dbb1245eea1705d4030e86745",
       "IPY_MODEL_7c65b5b06df04d6fa399124b640e7a6b",
       "IPY_MODEL_746d6b0facb64872a33a550c9c5ade26"
      ],
      "layout": "IPY_MODEL_5bb71bf0c5494b3d968960bd3238e1f2"
     }
    },
    "97eac57a986b45138bc21d518ade83ca": {
     "model_module": "@jupyter-widgets/controls",
     "model_module_version": "1.5.0",
     "model_name": "HTMLModel",
     "state": {
      "_dom_classes": [],
      "_model_module": "@jupyter-widgets/controls",
      "_model_module_version": "1.5.0",
      "_model_name": "HTMLModel",
      "_view_count": null,
      "_view_module": "@jupyter-widgets/controls",
      "_view_module_version": "1.5.0",
      "_view_name": "HTMLView",
      "description": "",
      "description_tooltip": null,
      "layout": "IPY_MODEL_f9979a6f69b84cd48a12107863a964f8",
      "placeholder": "​",
      "style": "IPY_MODEL_f88624fbe7d240b0ada0a1185bc4addf",
      "value": " 48.0/48.0 [00:00&lt;00:00, 1.54kB/s]"
     }
    },
    "9ac44d309352427fb6b825f994df270e": {
     "model_module": "@jupyter-widgets/base",
     "model_module_version": "1.2.0",
     "model_name": "LayoutModel",
     "state": {
      "_model_module": "@jupyter-widgets/base",
      "_model_module_version": "1.2.0",
      "_model_name": "LayoutModel",
      "_view_count": null,
      "_view_module": "@jupyter-widgets/base",
      "_view_module_version": "1.2.0",
      "_view_name": "LayoutView",
      "align_content": null,
      "align_items": null,
      "align_self": null,
      "border": null,
      "bottom": null,
      "display": null,
      "flex": null,
      "flex_flow": null,
      "grid_area": null,
      "grid_auto_columns": null,
      "grid_auto_flow": null,
      "grid_auto_rows": null,
      "grid_column": null,
      "grid_gap": null,
      "grid_row": null,
      "grid_template_areas": null,
      "grid_template_columns": null,
      "grid_template_rows": null,
      "height": null,
      "justify_content": null,
      "justify_items": null,
      "left": null,
      "margin": null,
      "max_height": null,
      "max_width": null,
      "min_height": null,
      "min_width": null,
      "object_fit": null,
      "object_position": null,
      "order": null,
      "overflow": null,
      "overflow_x": null,
      "overflow_y": null,
      "padding": null,
      "right": null,
      "top": null,
      "visibility": null,
      "width": null
     }
    },
    "a2013a80adb44150b0182ab7c8c3c8d2": {
     "model_module": "@jupyter-widgets/controls",
     "model_module_version": "1.5.0",
     "model_name": "DescriptionStyleModel",
     "state": {
      "_model_module": "@jupyter-widgets/controls",
      "_model_module_version": "1.5.0",
      "_model_name": "DescriptionStyleModel",
      "_view_count": null,
      "_view_module": "@jupyter-widgets/base",
      "_view_module_version": "1.2.0",
      "_view_name": "StyleView",
      "description_width": ""
     }
    },
    "a328ae5d96e14d1b9b0d83c3deff672b": {
     "model_module": "@jupyter-widgets/base",
     "model_module_version": "1.2.0",
     "model_name": "LayoutModel",
     "state": {
      "_model_module": "@jupyter-widgets/base",
      "_model_module_version": "1.2.0",
      "_model_name": "LayoutModel",
      "_view_count": null,
      "_view_module": "@jupyter-widgets/base",
      "_view_module_version": "1.2.0",
      "_view_name": "LayoutView",
      "align_content": null,
      "align_items": null,
      "align_self": null,
      "border": null,
      "bottom": null,
      "display": null,
      "flex": null,
      "flex_flow": null,
      "grid_area": null,
      "grid_auto_columns": null,
      "grid_auto_flow": null,
      "grid_auto_rows": null,
      "grid_column": null,
      "grid_gap": null,
      "grid_row": null,
      "grid_template_areas": null,
      "grid_template_columns": null,
      "grid_template_rows": null,
      "height": null,
      "justify_content": null,
      "justify_items": null,
      "left": null,
      "margin": null,
      "max_height": null,
      "max_width": null,
      "min_height": null,
      "min_width": null,
      "object_fit": null,
      "object_position": null,
      "order": null,
      "overflow": null,
      "overflow_x": null,
      "overflow_y": null,
      "padding": null,
      "right": null,
      "top": null,
      "visibility": null,
      "width": null
     }
    },
    "a4d19f8fbbf94c0a8c3da36c7c259601": {
     "model_module": "@jupyter-widgets/base",
     "model_module_version": "1.2.0",
     "model_name": "LayoutModel",
     "state": {
      "_model_module": "@jupyter-widgets/base",
      "_model_module_version": "1.2.0",
      "_model_name": "LayoutModel",
      "_view_count": null,
      "_view_module": "@jupyter-widgets/base",
      "_view_module_version": "1.2.0",
      "_view_name": "LayoutView",
      "align_content": null,
      "align_items": null,
      "align_self": null,
      "border": null,
      "bottom": null,
      "display": null,
      "flex": null,
      "flex_flow": null,
      "grid_area": null,
      "grid_auto_columns": null,
      "grid_auto_flow": null,
      "grid_auto_rows": null,
      "grid_column": null,
      "grid_gap": null,
      "grid_row": null,
      "grid_template_areas": null,
      "grid_template_columns": null,
      "grid_template_rows": null,
      "height": null,
      "justify_content": null,
      "justify_items": null,
      "left": null,
      "margin": null,
      "max_height": null,
      "max_width": null,
      "min_height": null,
      "min_width": null,
      "object_fit": null,
      "object_position": null,
      "order": null,
      "overflow": null,
      "overflow_x": null,
      "overflow_y": null,
      "padding": null,
      "right": null,
      "top": null,
      "visibility": null,
      "width": null
     }
    },
    "a50865b819ff4613a255116f7c9a44a0": {
     "model_module": "@jupyter-widgets/base",
     "model_module_version": "1.2.0",
     "model_name": "LayoutModel",
     "state": {
      "_model_module": "@jupyter-widgets/base",
      "_model_module_version": "1.2.0",
      "_model_name": "LayoutModel",
      "_view_count": null,
      "_view_module": "@jupyter-widgets/base",
      "_view_module_version": "1.2.0",
      "_view_name": "LayoutView",
      "align_content": null,
      "align_items": null,
      "align_self": null,
      "border": null,
      "bottom": null,
      "display": null,
      "flex": null,
      "flex_flow": null,
      "grid_area": null,
      "grid_auto_columns": null,
      "grid_auto_flow": null,
      "grid_auto_rows": null,
      "grid_column": null,
      "grid_gap": null,
      "grid_row": null,
      "grid_template_areas": null,
      "grid_template_columns": null,
      "grid_template_rows": null,
      "height": null,
      "justify_content": null,
      "justify_items": null,
      "left": null,
      "margin": null,
      "max_height": null,
      "max_width": null,
      "min_height": null,
      "min_width": null,
      "object_fit": null,
      "object_position": null,
      "order": null,
      "overflow": null,
      "overflow_x": null,
      "overflow_y": null,
      "padding": null,
      "right": null,
      "top": null,
      "visibility": null,
      "width": null
     }
    },
    "a640b512021747e8878c7f51ed145e92": {
     "model_module": "@jupyter-widgets/controls",
     "model_module_version": "1.5.0",
     "model_name": "HBoxModel",
     "state": {
      "_dom_classes": [],
      "_model_module": "@jupyter-widgets/controls",
      "_model_module_version": "1.5.0",
      "_model_name": "HBoxModel",
      "_view_count": null,
      "_view_module": "@jupyter-widgets/controls",
      "_view_module_version": "1.5.0",
      "_view_name": "HBoxView",
      "box_style": "",
      "children": [
       "IPY_MODEL_05392daed86b42249ad1971674675895",
       "IPY_MODEL_da3c902abcab451a9661b9ebca7f6339",
       "IPY_MODEL_6eff947e24f84603ba824135fe4d1a5f"
      ],
      "layout": "IPY_MODEL_c1a902d72027495788764ba3d490be46"
     }
    },
    "b4f12b05111346af88cdc88eb76f294d": {
     "model_module": "@jupyter-widgets/controls",
     "model_module_version": "1.5.0",
     "model_name": "DescriptionStyleModel",
     "state": {
      "_model_module": "@jupyter-widgets/controls",
      "_model_module_version": "1.5.0",
      "_model_name": "DescriptionStyleModel",
      "_view_count": null,
      "_view_module": "@jupyter-widgets/base",
      "_view_module_version": "1.2.0",
      "_view_name": "StyleView",
      "description_width": ""
     }
    },
    "b71437d312e748da9cd2fb99b3de1e55": {
     "model_module": "@jupyter-widgets/controls",
     "model_module_version": "1.5.0",
     "model_name": "FloatProgressModel",
     "state": {
      "_dom_classes": [],
      "_model_module": "@jupyter-widgets/controls",
      "_model_module_version": "1.5.0",
      "_model_name": "FloatProgressModel",
      "_view_count": null,
      "_view_module": "@jupyter-widgets/controls",
      "_view_module_version": "1.5.0",
      "_view_name": "ProgressView",
      "bar_style": "success",
      "description": "",
      "description_tooltip": null,
      "layout": "IPY_MODEL_17f15bdcdcc4449387c9d008ebf18e38",
      "max": 570,
      "min": 0,
      "orientation": "horizontal",
      "style": "IPY_MODEL_229d735cc671424ca9b9e3caa499c47a",
      "value": 570
     }
    },
    "b97a6ecf44394877931636af3ceb07b3": {
     "model_module": "@jupyter-widgets/controls",
     "model_module_version": "1.5.0",
     "model_name": "HTMLModel",
     "state": {
      "_dom_classes": [],
      "_model_module": "@jupyter-widgets/controls",
      "_model_module_version": "1.5.0",
      "_model_name": "HTMLModel",
      "_view_count": null,
      "_view_module": "@jupyter-widgets/controls",
      "_view_module_version": "1.5.0",
      "_view_name": "HTMLView",
      "description": "",
      "description_tooltip": null,
      "layout": "IPY_MODEL_7573aff1b00b4ecf9b5e8ca47f571979",
      "placeholder": "​",
      "style": "IPY_MODEL_28b73504ff104dce99146ad75df96bc6",
      "value": "model.safetensors: 100%"
     }
    },
    "c029b51f17344c46a68037707d52ea74": {
     "model_module": "@jupyter-widgets/controls",
     "model_module_version": "1.5.0",
     "model_name": "HTMLModel",
     "state": {
      "_dom_classes": [],
      "_model_module": "@jupyter-widgets/controls",
      "_model_module_version": "1.5.0",
      "_model_name": "HTMLModel",
      "_view_count": null,
      "_view_module": "@jupyter-widgets/controls",
      "_view_module_version": "1.5.0",
      "_view_name": "HTMLView",
      "description": "",
      "description_tooltip": null,
      "layout": "IPY_MODEL_4e9fcafedc77409eaa529f72af613ff0",
      "placeholder": "​",
      "style": "IPY_MODEL_37f27a02464e484abccbb7a82ba6a891",
      "value": "Generating train split: 100%"
     }
    },
    "c1a902d72027495788764ba3d490be46": {
     "model_module": "@jupyter-widgets/base",
     "model_module_version": "1.2.0",
     "model_name": "LayoutModel",
     "state": {
      "_model_module": "@jupyter-widgets/base",
      "_model_module_version": "1.2.0",
      "_model_name": "LayoutModel",
      "_view_count": null,
      "_view_module": "@jupyter-widgets/base",
      "_view_module_version": "1.2.0",
      "_view_name": "LayoutView",
      "align_content": null,
      "align_items": null,
      "align_self": null,
      "border": null,
      "bottom": null,
      "display": null,
      "flex": null,
      "flex_flow": null,
      "grid_area": null,
      "grid_auto_columns": null,
      "grid_auto_flow": null,
      "grid_auto_rows": null,
      "grid_column": null,
      "grid_gap": null,
      "grid_row": null,
      "grid_template_areas": null,
      "grid_template_columns": null,
      "grid_template_rows": null,
      "height": null,
      "justify_content": null,
      "justify_items": null,
      "left": null,
      "margin": null,
      "max_height": null,
      "max_width": null,
      "min_height": null,
      "min_width": null,
      "object_fit": null,
      "object_position": null,
      "order": null,
      "overflow": null,
      "overflow_x": null,
      "overflow_y": null,
      "padding": null,
      "right": null,
      "top": null,
      "visibility": null,
      "width": null
     }
    },
    "c5c6e3ba1f034cbf9bf527e64bdc413d": {
     "model_module": "@jupyter-widgets/controls",
     "model_module_version": "1.5.0",
     "model_name": "FloatProgressModel",
     "state": {
      "_dom_classes": [],
      "_model_module": "@jupyter-widgets/controls",
      "_model_module_version": "1.5.0",
      "_model_name": "FloatProgressModel",
      "_view_count": null,
      "_view_module": "@jupyter-widgets/controls",
      "_view_module_version": "1.5.0",
      "_view_name": "ProgressView",
      "bar_style": "success",
      "description": "",
      "description_tooltip": null,
      "layout": "IPY_MODEL_2603b85a85b047ff8dbdfa7aa3afaa67",
      "max": 159571,
      "min": 0,
      "orientation": "horizontal",
      "style": "IPY_MODEL_7c4b2fad950a4f8b8b24b6c83856cb09",
      "value": 159571
     }
    },
    "ccbe0af7bb2b44519c7d65e177626370": {
     "model_module": "@jupyter-widgets/base",
     "model_module_version": "1.2.0",
     "model_name": "LayoutModel",
     "state": {
      "_model_module": "@jupyter-widgets/base",
      "_model_module_version": "1.2.0",
      "_model_name": "LayoutModel",
      "_view_count": null,
      "_view_module": "@jupyter-widgets/base",
      "_view_module_version": "1.2.0",
      "_view_name": "LayoutView",
      "align_content": null,
      "align_items": null,
      "align_self": null,
      "border": null,
      "bottom": null,
      "display": null,
      "flex": null,
      "flex_flow": null,
      "grid_area": null,
      "grid_auto_columns": null,
      "grid_auto_flow": null,
      "grid_auto_rows": null,
      "grid_column": null,
      "grid_gap": null,
      "grid_row": null,
      "grid_template_areas": null,
      "grid_template_columns": null,
      "grid_template_rows": null,
      "height": null,
      "justify_content": null,
      "justify_items": null,
      "left": null,
      "margin": null,
      "max_height": null,
      "max_width": null,
      "min_height": null,
      "min_width": null,
      "object_fit": null,
      "object_position": null,
      "order": null,
      "overflow": null,
      "overflow_x": null,
      "overflow_y": null,
      "padding": null,
      "right": null,
      "top": null,
      "visibility": null,
      "width": null
     }
    },
    "cdf1cb1f9f554f60a20225ede5373c8e": {
     "model_module": "@jupyter-widgets/controls",
     "model_module_version": "1.5.0",
     "model_name": "DescriptionStyleModel",
     "state": {
      "_model_module": "@jupyter-widgets/controls",
      "_model_module_version": "1.5.0",
      "_model_name": "DescriptionStyleModel",
      "_view_count": null,
      "_view_module": "@jupyter-widgets/base",
      "_view_module_version": "1.2.0",
      "_view_name": "StyleView",
      "description_width": ""
     }
    },
    "ceb184cdb6f44fb8a209523ddbc45d7d": {
     "model_module": "@jupyter-widgets/base",
     "model_module_version": "1.2.0",
     "model_name": "LayoutModel",
     "state": {
      "_model_module": "@jupyter-widgets/base",
      "_model_module_version": "1.2.0",
      "_model_name": "LayoutModel",
      "_view_count": null,
      "_view_module": "@jupyter-widgets/base",
      "_view_module_version": "1.2.0",
      "_view_name": "LayoutView",
      "align_content": null,
      "align_items": null,
      "align_self": null,
      "border": null,
      "bottom": null,
      "display": null,
      "flex": null,
      "flex_flow": null,
      "grid_area": null,
      "grid_auto_columns": null,
      "grid_auto_flow": null,
      "grid_auto_rows": null,
      "grid_column": null,
      "grid_gap": null,
      "grid_row": null,
      "grid_template_areas": null,
      "grid_template_columns": null,
      "grid_template_rows": null,
      "height": null,
      "justify_content": null,
      "justify_items": null,
      "left": null,
      "margin": null,
      "max_height": null,
      "max_width": null,
      "min_height": null,
      "min_width": null,
      "object_fit": null,
      "object_position": null,
      "order": null,
      "overflow": null,
      "overflow_x": null,
      "overflow_y": null,
      "padding": null,
      "right": null,
      "top": null,
      "visibility": null,
      "width": null
     }
    },
    "cf6d9980d1234bdf87f88d1f11c4e94d": {
     "model_module": "@jupyter-widgets/base",
     "model_module_version": "1.2.0",
     "model_name": "LayoutModel",
     "state": {
      "_model_module": "@jupyter-widgets/base",
      "_model_module_version": "1.2.0",
      "_model_name": "LayoutModel",
      "_view_count": null,
      "_view_module": "@jupyter-widgets/base",
      "_view_module_version": "1.2.0",
      "_view_name": "LayoutView",
      "align_content": null,
      "align_items": null,
      "align_self": null,
      "border": null,
      "bottom": null,
      "display": null,
      "flex": null,
      "flex_flow": null,
      "grid_area": null,
      "grid_auto_columns": null,
      "grid_auto_flow": null,
      "grid_auto_rows": null,
      "grid_column": null,
      "grid_gap": null,
      "grid_row": null,
      "grid_template_areas": null,
      "grid_template_columns": null,
      "grid_template_rows": null,
      "height": null,
      "justify_content": null,
      "justify_items": null,
      "left": null,
      "margin": null,
      "max_height": null,
      "max_width": null,
      "min_height": null,
      "min_width": null,
      "object_fit": null,
      "object_position": null,
      "order": null,
      "overflow": null,
      "overflow_x": null,
      "overflow_y": null,
      "padding": null,
      "right": null,
      "top": null,
      "visibility": null,
      "width": null
     }
    },
    "da3c902abcab451a9661b9ebca7f6339": {
     "model_module": "@jupyter-widgets/controls",
     "model_module_version": "1.5.0",
     "model_name": "FloatProgressModel",
     "state": {
      "_dom_classes": [],
      "_model_module": "@jupyter-widgets/controls",
      "_model_module_version": "1.5.0",
      "_model_name": "FloatProgressModel",
      "_view_count": null,
      "_view_module": "@jupyter-widgets/controls",
      "_view_module_version": "1.5.0",
      "_view_name": "ProgressView",
      "bar_style": "success",
      "description": "",
      "description_tooltip": null,
      "layout": "IPY_MODEL_3ebc76962bf34f1aaaaa75e91a9890b3",
      "max": 63978,
      "min": 0,
      "orientation": "horizontal",
      "style": "IPY_MODEL_1063f5f402c6495e94d19d4ac13125bd",
      "value": 63978
     }
    },
    "db0e834c84274ca49a6b7bc60c162ebb": {
     "model_module": "@jupyter-widgets/controls",
     "model_module_version": "1.5.0",
     "model_name": "HBoxModel",
     "state": {
      "_dom_classes": [],
      "_model_module": "@jupyter-widgets/controls",
      "_model_module_version": "1.5.0",
      "_model_name": "HBoxModel",
      "_view_count": null,
      "_view_module": "@jupyter-widgets/controls",
      "_view_module_version": "1.5.0",
      "_view_name": "HBoxView",
      "box_style": "",
      "children": [
       "IPY_MODEL_796b1d6f41474c269aec017094267776",
       "IPY_MODEL_26b57230caee439d9c293a06fe310d3a",
       "IPY_MODEL_97eac57a986b45138bc21d518ade83ca"
      ],
      "layout": "IPY_MODEL_eeb8e659637c4eca9fe2b7218a09a608"
     }
    },
    "dc599386a8ce43219c6dde0f8daf893b": {
     "model_module": "@jupyter-widgets/base",
     "model_module_version": "1.2.0",
     "model_name": "LayoutModel",
     "state": {
      "_model_module": "@jupyter-widgets/base",
      "_model_module_version": "1.2.0",
      "_model_name": "LayoutModel",
      "_view_count": null,
      "_view_module": "@jupyter-widgets/base",
      "_view_module_version": "1.2.0",
      "_view_name": "LayoutView",
      "align_content": null,
      "align_items": null,
      "align_self": null,
      "border": null,
      "bottom": null,
      "display": null,
      "flex": null,
      "flex_flow": null,
      "grid_area": null,
      "grid_auto_columns": null,
      "grid_auto_flow": null,
      "grid_auto_rows": null,
      "grid_column": null,
      "grid_gap": null,
      "grid_row": null,
      "grid_template_areas": null,
      "grid_template_columns": null,
      "grid_template_rows": null,
      "height": null,
      "justify_content": null,
      "justify_items": null,
      "left": null,
      "margin": null,
      "max_height": null,
      "max_width": null,
      "min_height": null,
      "min_width": null,
      "object_fit": null,
      "object_position": null,
      "order": null,
      "overflow": null,
      "overflow_x": null,
      "overflow_y": null,
      "padding": null,
      "right": null,
      "top": null,
      "visibility": null,
      "width": null
     }
    },
    "dd99db62325d418b8be2bfaa9d7fc3d2": {
     "model_module": "@jupyter-widgets/controls",
     "model_module_version": "1.5.0",
     "model_name": "DescriptionStyleModel",
     "state": {
      "_model_module": "@jupyter-widgets/controls",
      "_model_module_version": "1.5.0",
      "_model_name": "DescriptionStyleModel",
      "_view_count": null,
      "_view_module": "@jupyter-widgets/base",
      "_view_module_version": "1.2.0",
      "_view_name": "StyleView",
      "description_width": ""
     }
    },
    "e53c2cd0f9aa43ca90a629d4693a37d6": {
     "model_module": "@jupyter-widgets/controls",
     "model_module_version": "1.5.0",
     "model_name": "DescriptionStyleModel",
     "state": {
      "_model_module": "@jupyter-widgets/controls",
      "_model_module_version": "1.5.0",
      "_model_name": "DescriptionStyleModel",
      "_view_count": null,
      "_view_module": "@jupyter-widgets/base",
      "_view_module_version": "1.2.0",
      "_view_name": "StyleView",
      "description_width": ""
     }
    },
    "ea37c8809cf34bca902ac85e88d879f2": {
     "model_module": "@jupyter-widgets/base",
     "model_module_version": "1.2.0",
     "model_name": "LayoutModel",
     "state": {
      "_model_module": "@jupyter-widgets/base",
      "_model_module_version": "1.2.0",
      "_model_name": "LayoutModel",
      "_view_count": null,
      "_view_module": "@jupyter-widgets/base",
      "_view_module_version": "1.2.0",
      "_view_name": "LayoutView",
      "align_content": null,
      "align_items": null,
      "align_self": null,
      "border": null,
      "bottom": null,
      "display": null,
      "flex": null,
      "flex_flow": null,
      "grid_area": null,
      "grid_auto_columns": null,
      "grid_auto_flow": null,
      "grid_auto_rows": null,
      "grid_column": null,
      "grid_gap": null,
      "grid_row": null,
      "grid_template_areas": null,
      "grid_template_columns": null,
      "grid_template_rows": null,
      "height": null,
      "justify_content": null,
      "justify_items": null,
      "left": null,
      "margin": null,
      "max_height": null,
      "max_width": null,
      "min_height": null,
      "min_width": null,
      "object_fit": null,
      "object_position": null,
      "order": null,
      "overflow": null,
      "overflow_x": null,
      "overflow_y": null,
      "padding": null,
      "right": null,
      "top": null,
      "visibility": null,
      "width": null
     }
    },
    "eeb8e659637c4eca9fe2b7218a09a608": {
     "model_module": "@jupyter-widgets/base",
     "model_module_version": "1.2.0",
     "model_name": "LayoutModel",
     "state": {
      "_model_module": "@jupyter-widgets/base",
      "_model_module_version": "1.2.0",
      "_model_name": "LayoutModel",
      "_view_count": null,
      "_view_module": "@jupyter-widgets/base",
      "_view_module_version": "1.2.0",
      "_view_name": "LayoutView",
      "align_content": null,
      "align_items": null,
      "align_self": null,
      "border": null,
      "bottom": null,
      "display": null,
      "flex": null,
      "flex_flow": null,
      "grid_area": null,
      "grid_auto_columns": null,
      "grid_auto_flow": null,
      "grid_auto_rows": null,
      "grid_column": null,
      "grid_gap": null,
      "grid_row": null,
      "grid_template_areas": null,
      "grid_template_columns": null,
      "grid_template_rows": null,
      "height": null,
      "justify_content": null,
      "justify_items": null,
      "left": null,
      "margin": null,
      "max_height": null,
      "max_width": null,
      "min_height": null,
      "min_width": null,
      "object_fit": null,
      "object_position": null,
      "order": null,
      "overflow": null,
      "overflow_x": null,
      "overflow_y": null,
      "padding": null,
      "right": null,
      "top": null,
      "visibility": null,
      "width": null
     }
    },
    "eed0afb28504484b8e29ce367beef065": {
     "model_module": "@jupyter-widgets/controls",
     "model_module_version": "1.5.0",
     "model_name": "DescriptionStyleModel",
     "state": {
      "_model_module": "@jupyter-widgets/controls",
      "_model_module_version": "1.5.0",
      "_model_name": "DescriptionStyleModel",
      "_view_count": null,
      "_view_module": "@jupyter-widgets/base",
      "_view_module_version": "1.2.0",
      "_view_name": "StyleView",
      "description_width": ""
     }
    },
    "f31aa9c1965144beb68eae707469a2b3": {
     "model_module": "@jupyter-widgets/controls",
     "model_module_version": "1.5.0",
     "model_name": "ProgressStyleModel",
     "state": {
      "_model_module": "@jupyter-widgets/controls",
      "_model_module_version": "1.5.0",
      "_model_name": "ProgressStyleModel",
      "_view_count": null,
      "_view_module": "@jupyter-widgets/base",
      "_view_module_version": "1.2.0",
      "_view_name": "StyleView",
      "bar_color": null,
      "description_width": ""
     }
    },
    "f6ff50ca851646a1bd264cb164a5a634": {
     "model_module": "@jupyter-widgets/controls",
     "model_module_version": "1.5.0",
     "model_name": "HTMLModel",
     "state": {
      "_dom_classes": [],
      "_model_module": "@jupyter-widgets/controls",
      "_model_module_version": "1.5.0",
      "_model_name": "HTMLModel",
      "_view_count": null,
      "_view_module": "@jupyter-widgets/controls",
      "_view_module_version": "1.5.0",
      "_view_name": "HTMLView",
      "description": "",
      "description_tooltip": null,
      "layout": "IPY_MODEL_83960f7e05414a1281ca8c2ec89078ee",
      "placeholder": "​",
      "style": "IPY_MODEL_410930a13a2545a3bc871fd1d7eeab4d",
      "value": " 570/570 [00:00&lt;00:00, 12.6kB/s]"
     }
    },
    "f853db2de468406594d360c7f8ac4458": {
     "model_module": "@jupyter-widgets/controls",
     "model_module_version": "1.5.0",
     "model_name": "ProgressStyleModel",
     "state": {
      "_model_module": "@jupyter-widgets/controls",
      "_model_module_version": "1.5.0",
      "_model_name": "ProgressStyleModel",
      "_view_count": null,
      "_view_module": "@jupyter-widgets/base",
      "_view_module_version": "1.2.0",
      "_view_name": "StyleView",
      "bar_color": null,
      "description_width": ""
     }
    },
    "f88624fbe7d240b0ada0a1185bc4addf": {
     "model_module": "@jupyter-widgets/controls",
     "model_module_version": "1.5.0",
     "model_name": "DescriptionStyleModel",
     "state": {
      "_model_module": "@jupyter-widgets/controls",
      "_model_module_version": "1.5.0",
      "_model_name": "DescriptionStyleModel",
      "_view_count": null,
      "_view_module": "@jupyter-widgets/base",
      "_view_module_version": "1.2.0",
      "_view_name": "StyleView",
      "description_width": ""
     }
    },
    "f9979a6f69b84cd48a12107863a964f8": {
     "model_module": "@jupyter-widgets/base",
     "model_module_version": "1.2.0",
     "model_name": "LayoutModel",
     "state": {
      "_model_module": "@jupyter-widgets/base",
      "_model_module_version": "1.2.0",
      "_model_name": "LayoutModel",
      "_view_count": null,
      "_view_module": "@jupyter-widgets/base",
      "_view_module_version": "1.2.0",
      "_view_name": "LayoutView",
      "align_content": null,
      "align_items": null,
      "align_self": null,
      "border": null,
      "bottom": null,
      "display": null,
      "flex": null,
      "flex_flow": null,
      "grid_area": null,
      "grid_auto_columns": null,
      "grid_auto_flow": null,
      "grid_auto_rows": null,
      "grid_column": null,
      "grid_gap": null,
      "grid_row": null,
      "grid_template_areas": null,
      "grid_template_columns": null,
      "grid_template_rows": null,
      "height": null,
      "justify_content": null,
      "justify_items": null,
      "left": null,
      "margin": null,
      "max_height": null,
      "max_width": null,
      "min_height": null,
      "min_width": null,
      "object_fit": null,
      "object_position": null,
      "order": null,
      "overflow": null,
      "overflow_x": null,
      "overflow_y": null,
      "padding": null,
      "right": null,
      "top": null,
      "visibility": null,
      "width": null
     }
    },
    "fc2b88b5004b446eb07401808d2c8353": {
     "model_module": "@jupyter-widgets/controls",
     "model_module_version": "1.5.0",
     "model_name": "HTMLModel",
     "state": {
      "_dom_classes": [],
      "_model_module": "@jupyter-widgets/controls",
      "_model_module_version": "1.5.0",
      "_model_name": "HTMLModel",
      "_view_count": null,
      "_view_module": "@jupyter-widgets/controls",
      "_view_module_version": "1.5.0",
      "_view_name": "HTMLView",
      "description": "",
      "description_tooltip": null,
      "layout": "IPY_MODEL_dc599386a8ce43219c6dde0f8daf893b",
      "placeholder": "​",
      "style": "IPY_MODEL_4c4132ddf56f47578138cfbee5e2bcc6",
      "value": "Map: 100%"
     }
    },
    "fd4b92c4ac2d496a905f54a4571accaa": {
     "model_module": "@jupyter-widgets/controls",
     "model_module_version": "1.5.0",
     "model_name": "HBoxModel",
     "state": {
      "_dom_classes": [],
      "_model_module": "@jupyter-widgets/controls",
      "_model_module_version": "1.5.0",
      "_model_name": "HBoxModel",
      "_view_count": null,
      "_view_module": "@jupyter-widgets/controls",
      "_view_module_version": "1.5.0",
      "_view_name": "HBoxView",
      "box_style": "",
      "children": [
       "IPY_MODEL_fc2b88b5004b446eb07401808d2c8353",
       "IPY_MODEL_5d11b9e514f245d68f6e7d3a733780fe",
       "IPY_MODEL_90dc3aaa68b2419e85e6699e70ee45b1"
      ],
      "layout": "IPY_MODEL_4207c32ca7fb4f2cb814dffc3427ee93"
     }
    },
    "fdd9261a353c4f71b777f895ae9a31db": {
     "model_module": "@jupyter-widgets/base",
     "model_module_version": "1.2.0",
     "model_name": "LayoutModel",
     "state": {
      "_model_module": "@jupyter-widgets/base",
      "_model_module_version": "1.2.0",
      "_model_name": "LayoutModel",
      "_view_count": null,
      "_view_module": "@jupyter-widgets/base",
      "_view_module_version": "1.2.0",
      "_view_name": "LayoutView",
      "align_content": null,
      "align_items": null,
      "align_self": null,
      "border": null,
      "bottom": null,
      "display": null,
      "flex": null,
      "flex_flow": null,
      "grid_area": null,
      "grid_auto_columns": null,
      "grid_auto_flow": null,
      "grid_auto_rows": null,
      "grid_column": null,
      "grid_gap": null,
      "grid_row": null,
      "grid_template_areas": null,
      "grid_template_columns": null,
      "grid_template_rows": null,
      "height": null,
      "justify_content": null,
      "justify_items": null,
      "left": null,
      "margin": null,
      "max_height": null,
      "max_width": null,
      "min_height": null,
      "min_width": null,
      "object_fit": null,
      "object_position": null,
      "order": null,
      "overflow": null,
      "overflow_x": null,
      "overflow_y": null,
      "padding": null,
      "right": null,
      "top": null,
      "visibility": null,
      "width": null
     }
    }
   }
  }
 },
 "nbformat": 4,
 "nbformat_minor": 4
}