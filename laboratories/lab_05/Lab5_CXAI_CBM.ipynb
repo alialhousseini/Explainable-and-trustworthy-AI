{
  "cells": [
    {
      "cell_type": "markdown",
      "id": "si9Qt43r6vpR",
      "metadata": {
        "id": "si9Qt43r6vpR"
      },
      "source": [
        "# **Lab 5 Concept-based Explainable AI**\n",
        "\n",
        "\n",
        "\n",
        "---\n"
      ]
    },
    {
      "cell_type": "markdown",
      "id": "K_7eApy67PBR",
      "metadata": {
        "id": "K_7eApy67PBR"
      },
      "source": [
        "**Teaching assistant**: Gabriele Ciravegna ( gabriele.ciravegna@polito.it) , Eleonora Poeta ( eleonora.poeta@polito.it )\n",
        "\n",
        "**Lab 5**: Concept-based XAI - CBM"
      ]
    },
    {
      "cell_type": "markdown",
      "id": "g-jvxw-S7be4",
      "metadata": {
        "id": "g-jvxw-S7be4"
      },
      "source": [
        "# **CBM**"
      ]
    },
    {
      "cell_type": "markdown",
      "id": "lQ6doalsAQRN",
      "metadata": {
        "id": "lQ6doalsAQRN"
      },
      "source": [
        "\n",
        "\n",
        "---\n",
        "\n",
        "# **Exercise 1**\n",
        "\n",
        "In this exercise you have to train a [Concept Bottleneck Model](https://arxiv.org/pdf/2007.04612) (CBM) on the MNIST even/odd dataset.\n",
        "\n",
        "Specifically you will:\n",
        "\n",
        "\n",
        "\n",
        "1.   Create the **MNIST even/odd Dataset**. In this variant of MNIST the task is to predict if the digit is even or odd.\n",
        "> * In addition, you have to predict the **concepts** ( in this case the **concepts are the digits** ).\n",
        "> * Create the train and test dataset.\n",
        "\n",
        "\n",
        "2.   Create the **CBM** model.\n",
        "> * Instanciate the ResNet18 from torchvision.models\n",
        "> * Retrieve the number of features from the Fully connect of the ResNet.\n",
        "> * Create the digits (concepts) classifier. This is the concept bottleneck of the network.\n",
        "> * Create the task classifier (even/odd).\n",
        "\n",
        "3. Define the **loss** for the problem.\n",
        "> * The CrossEntropy loss for the concepts.\n",
        "> * The CrossEntropy loss for the task.\n",
        "\n",
        "4. Train and test the model.\n",
        "\n",
        "5. Visualize a few predictions.\n",
        "\n",
        "\n"
      ]
    },
    {
      "cell_type": "markdown",
      "id": "TOrIDEi8JmGA",
      "metadata": {
        "id": "TOrIDEi8JmGA"
      },
      "source": [
        "\n",
        "\n",
        "---\n",
        "\n",
        "## Solution:"
      ]
    },
    {
      "cell_type": "markdown",
      "id": "4kunJlcpJbg9",
      "metadata": {
        "id": "4kunJlcpJbg9"
      },
      "source": [
        "Imports"
      ]
    },
    {
      "cell_type": "code",
      "execution_count": 1,
      "id": "initial_id",
      "metadata": {
        "ExecuteTime": {
          "end_time": "2024-05-02T13:31:55.254829Z",
          "start_time": "2024-05-02T13:31:47.940706Z"
        },
        "collapsed": true,
        "id": "initial_id"
      },
      "outputs": [],
      "source": [
        "import torch\n",
        "import torch.nn as nn\n",
        "import torchvision\n",
        "import torchvision.transforms as transforms"
      ]
    },
    {
      "cell_type": "code",
      "execution_count": 2,
      "id": "9ea1df97484cd6d2",
      "metadata": {
        "ExecuteTime": {
          "end_time": "2024-05-02T13:44:30.139803Z",
          "start_time": "2024-05-02T13:44:30.006338Z"
        },
        "id": "9ea1df97484cd6d2"
      },
      "outputs": [
        {
          "name": "stderr",
          "output_type": "stream",
          "text": [
            "Clipping input data to the valid range for imshow with RGB data ([0..1] for floats or [0..255] for integers).\n"
          ]
        },
        {
          "data": {
            "image/png": "[encoded data removed]",
            "text/plain": [
              "<Figure size 640x480 with 1 Axes>"
            ]
          },
          "metadata": {},
          "output_type": "display_data"
        }
      ],
      "source": [
        "# Class to create the MNIST-EVENODD dataset\n",
        "class MNISTEvenOdd(torchvision.datasets.MNIST):\n",
        "\n",
        "    # Constructor for the MNISTEvenOdd class\n",
        "    def __init__(self, root, train=True, download=False):\n",
        "        transform = transforms.Compose([transforms.ToTensor(),\n",
        "                                        transforms.Normalize((0.1307,), (0.3081,)), # MNIST mean and std\n",
        "                                        transforms.Lambda(lambda x: x.repeat(3, 1, 1)) # Repeat the image in 3 channels\n",
        "                                        ])\n",
        "\n",
        "        # Call the constructor of the parent class (MNIST)\n",
        "        super(MNISTEvenOdd, self).__init__(root, train, transform, download=download)\n",
        "\n",
        "        # Reduce the size of the dataset for the exercise\n",
        "        self.data = self.data[:10000]\n",
        "        self.targets = self.targets[:10000]\n",
        "\n",
        "    # Method to get an item from the dataset\n",
        "    def __getitem__(self, index):\n",
        "        # Get the image and target at the given index from the parent class\n",
        "        img, target = super(MNISTEvenOdd, self).__getitem__(index)\n",
        "\n",
        "        # define the concept label\n",
        "        concept = target\n",
        "\n",
        "        # define the task label as even or odd\n",
        "        task = target % 2\n",
        "\n",
        "        # Return the image, concept and task labels\n",
        "        return img, concept, task\n",
        "\n",
        "# instantiate the dataset\n",
        "train_dataset = MNISTEvenOdd(root='.',\n",
        "                             train=True)\n",
        "\n",
        "test_dataset = MNISTEvenOdd(root='.',\n",
        "                            train=False)\n",
        "\n",
        "# Visualize the dataset\n",
        "import matplotlib.pyplot as plt\n",
        "\n",
        "# Get the first image and target from the training dataset\n",
        "image, target, even_odd = train_dataset[100]\n",
        "\n",
        "# Plot the image\n",
        "plt.imshow(image.squeeze().numpy().transpose(1,2,0), cmap='gray')\n",
        "plt.title(f'Digit: {target}, Even/Odd: {\"Odd\" if even_odd == 1 else \"Even\"}')\n",
        "plt.show()"
      ]
    },
    {
      "cell_type": "code",
      "execution_count": null,
      "id": "33ffa63594fc6ba2",
      "metadata": {
        "ExecuteTime": {
          "end_time": "2024-05-02T13:34:48.112606Z",
          "start_time": "2024-05-02T13:34:47.959141Z"
        },
        "id": "33ffa63594fc6ba2"
      },
      "outputs": [],
      "source": [
        "# Create the CBM model.\n",
        "\n",
        "#It should have a ResNet18 as the backbone and two classifying layers: one for the digit and one on top for the even/odd classification.\n",
        "\n",
        "class CBM(nn.Module):\n",
        "    def __init__(self, num_concepts=10, num_classes=2):\n",
        "        super(CBM, self).__init__()\n",
        "        # Load the ResNet18 model\n",
        "\n",
        "\n",
        "        # Get the number of features in the ResNet18 classifier\n",
        "\n",
        "\n",
        "\n",
        "\n",
        "        # Create the digit classifier\n",
        "\n",
        "\n",
        "        # Create the even/odd classifier on top of the digit classifier\n",
        "\n",
        "\n",
        "    def forward(self, x):\n",
        "        # Forward pass through the ResNet18\n",
        "\n",
        "\n",
        "        # Forward pass through the digit classifier\n",
        "\n",
        "\n",
        "        # Forward pass through the even/odd classifier\n",
        "\n",
        "\n",
        "        return\n",
        "\n",
        "# Create the model\n",
        "model = CBM()\n",
        "model = model.eval()\n",
        "\n",
        "# Make a forward pass with the model\n",
        "digit, even_odd = model(image.unsqueeze(0))\n",
        "\n",
        "# Print the output shapes and the associated logits with two digits precision\n",
        "print('Digit:', digit.shape, digit.detach().numpy().round(2))\n",
        "print('Even/Odd:', even_odd.shape, even_odd.detach().numpy().round(2))\n"
      ]
    },
    {
      "cell_type": "code",
      "execution_count": null,
      "id": "6e9df665e24fb22",
      "metadata": {
        "ExecuteTime": {
          "end_time": "2024-05-02T13:35:02.290562Z",
          "start_time": "2024-05-02T13:35:02.272329Z"
        },
        "id": "6e9df665e24fb22"
      },
      "outputs": [],
      "source": [
        "# train the model\n",
        "# train the model\n",
        "import torch.optim as optim\n",
        "from torch.utils.data import DataLoader\n",
        "\n",
        "# Define the batch size\n",
        "batch_size = 128\n",
        "\n",
        "# Define the number of epochs\n",
        "num_epochs = 2\n",
        "\n",
        "# Create the data loaders\n",
        "\n",
        "# Define the loss function\n",
        "\n",
        "# Define the optimizer\n"
      ]
    },
    {
      "cell_type": "code",
      "execution_count": null,
      "id": "hDa_JsQmJ7I9",
      "metadata": {
        "id": "hDa_JsQmJ7I9"
      },
      "outputs": [],
      "source": [
        "device = \"cuda\" if torch.cuda.is_available() else \"cpu\"\n",
        "print(f\"Training on {device}\")"
      ]
    },
    {
      "cell_type": "code",
      "execution_count": null,
      "id": "304ceb0bbefcb9c6",
      "metadata": {
        "ExecuteTime": {
          "end_time": "2024-05-02T13:35:50.228578Z",
          "start_time": "2024-05-02T13:35:36.939102Z"
        },
        "id": "304ceb0bbefcb9c6"
      },
      "outputs": [],
      "source": [
        "# Train the model\n",
        "# Iterate over epochs\n",
        "model = model.to(device)\n",
        "\n",
        "for epoch in range(num_epochs):\n",
        "\n",
        "    # Set the model in training mode\n",
        "\n",
        "    # Iterate over the batches\n",
        "\n",
        "        # put the image and labels on the device\n",
        "\n",
        "\n",
        "        # Zero the gradients\n",
        "\n",
        "        # Forward pass\n",
        "\n",
        "        # Compute the loss for the digit classification\n",
        "\n",
        "        # Compute the loss for the even/odd classification\n",
        "\n",
        "        # Parameter gamma\n",
        "\n",
        "        # Compute the total loss\n",
        "\n",
        "        # Backward pass\n",
        "\n",
        "        # Optimize\n",
        "\n",
        "        # Print the loss every 10 iterations\n",
        "        if (i+1) % 10 == 0:\n",
        "            print('Epoch [{}/{}], Step [{}/{}], Loss: {:.4f}'.format(epoch+1, num_epochs, i+1, len(train_loader), loss.item()))\n"
      ]
    },
    {
      "cell_type": "code",
      "execution_count": null,
      "id": "zDTtXZWIKL4W",
      "metadata": {
        "id": "zDTtXZWIKL4W"
      },
      "outputs": [],
      "source": [
        "    # Evaluate the model on the test set\n",
        "\n",
        "    # Initialize the accuracy\n",
        "\n",
        "    # Disable gradient computation\n",
        "\n",
        "        # Iterate over the test set\n",
        "\n",
        "            # put the image and labels on the device\n",
        "\n",
        "\n",
        "            # Forward pass\n",
        "\n",
        "\n",
        "            # Get the predicted digit\n",
        "\n",
        "\n",
        "            # Get the predicted even/odd\n",
        "\n",
        "            # Update the number of correct predictions\n",
        "\n",
        "\n",
        "    # Compute the accuracy\n",
        "\n",
        "\n",
        "    # Print the accuracy\n"
      ]
    },
    {
      "cell_type": "code",
      "execution_count": null,
      "id": "f165e30fc2cfb31d",
      "metadata": {
        "ExecuteTime": {
          "end_time": "2024-05-02T13:46:40.537723Z",
          "start_time": "2024-05-02T13:46:40.285235Z"
        },
        "id": "f165e30fc2cfb31d"
      },
      "outputs": [],
      "source": [
        "# Visualize a few predictions\n",
        "import numpy as np\n",
        "\n",
        "fig, axes = plt.subplots(1, 4, figsize=(20, 5))\n",
        "for i in range(4):\n",
        "    # Get the image and target from the test dataset\n",
        "    image, target, even_odd = test_dataset[i]\n",
        "\n",
        "    # Make a forward pass\n",
        "    predicted_digit, predicted_even_odd = model(image.unsqueeze(0).to(device))\n",
        "\n",
        "    # Get the predicted digit\n",
        "    _, predicted_digit = torch.max(predicted_digit, 1)\n",
        "\n",
        "    # Get the predicted even/odd\n",
        "    _, predicted_even_odd = torch.max(predicted_even_odd, 1)\n",
        "\n",
        "    # Plot the image\n",
        "    axes[i].imshow(image.squeeze().numpy().transpose(1,2,0), cmap='gray')\n",
        "    axes[i].set_title(f'Target: {target}, Even/Odd: {\"Odd\" if even_odd else \"Even\"}\\n'\n",
        "                      f'Predicted: {predicted_digit.item()}, Even/Odd: {\"Odd\" if predicted_even_odd.item() else \"Even\"}')\n",
        "    axes[i].axis('off')\n",
        "plt.show()\n"
      ]
    }
  ],
  "metadata": {
    "colab": {
      "provenance": []
    },
    "kernelspec": {
      "display_name": "Python 3",
      "language": "python",
      "name": "python3"
    },
    "language_info": {
      "codemirror_mode": {
        "name": "ipython",
        "version": 3
      },
      "file_extension": ".py",
      "mimetype": "text/x-python",
      "name": "python",
      "nbconvert_exporter": "python",
      "pygments_lexer": "ipython3",
      "version": "3.11.4"
    }
  },
  "nbformat": 4,
  "nbformat_minor": 5
}
