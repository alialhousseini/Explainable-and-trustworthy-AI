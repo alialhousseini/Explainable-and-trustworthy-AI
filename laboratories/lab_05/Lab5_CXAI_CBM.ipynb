{
  "cells": [
    {
      "cell_type": "markdown",
      "id": "si9Qt43r6vpR",
      "metadata": {
        "id": "si9Qt43r6vpR"
      },
      "source": [
        "# **Lab 5 Concept-based Explainable AI**\n",
        "\n",
        "\n",
        "\n",
        "---\n"
      ]
    },
    {
      "cell_type": "markdown",
      "id": "K_7eApy67PBR",
      "metadata": {
        "id": "K_7eApy67PBR"
      },
      "source": [
        "**Teaching assistant**: Gabriele Ciravegna ( gabriele.ciravegna@polito.it) , Eleonora Poeta ( eleonora.poeta@polito.it )\n",
        "\n",
        "**Lab 5**: Concept-based XAI - CBM"
      ]
    },
    {
      "cell_type": "markdown",
      "id": "g-jvxw-S7be4",
      "metadata": {
        "id": "g-jvxw-S7be4"
      },
      "source": [
        "# **CBM**"
      ]
    },
    {
      "cell_type": "markdown",
      "id": "lQ6doalsAQRN",
      "metadata": {
        "id": "lQ6doalsAQRN"
      },
      "source": [
        "\n",
        "\n",
        "---\n",
        "\n",
        "# **Exercise 1**\n",
        "\n",
        "In this exercise you have to train a [Concept Bottleneck Model](https://arxiv.org/pdf/2007.04612) (CBM) on the MNIST even/odd dataset.\n",
        "\n",
        "Specifically you will:\n",
        "\n",
        "\n",
        "\n",
        "1.   Create the **MNIST even/odd Dataset**. In this variant of MNIST the task is to predict if the digit is even or odd.\n",
        "> * In addition, you have to predict the **concepts** ( in this case the **concepts are the digits** ).\n",
        "> * Create the train and test dataset.\n",
        "\n",
        "\n",
        "2.   Create the **CBM** model.\n",
        "> * Instanciate the ResNet18 from torchvision.models\n",
        "> * Retrieve the number of features from the Fully connect of the ResNet.\n",
        "> * Create the digits (concepts) classifier. This is the concept bottleneck of the network.\n",
        "> * Create the task classifier (even/odd).\n",
        "\n",
        "3. Define the **loss** for the problem.\n",
        "> * The CrossEntropy loss for the concepts.\n",
        "> * The CrossEntropy loss for the task.\n",
        "\n",
        "4. Train and test the model.\n",
        "\n",
        "5. Visualize a few predictions.\n",
        "\n",
        "\n"
      ]
    },
    {
      "cell_type": "markdown",
      "id": "TOrIDEi8JmGA",
      "metadata": {
        "id": "TOrIDEi8JmGA"
      },
      "source": [
        "\n",
        "\n",
        "---\n",
        "\n",
        "## Solution:"
      ]
    },
    {
      "cell_type": "markdown",
      "id": "4kunJlcpJbg9",
      "metadata": {
        "id": "4kunJlcpJbg9"
      },
      "source": [
        "Imports"
      ]
    },
    {
      "cell_type": "code",
      "execution_count": 2,
      "id": "initial_id",
      "metadata": {
        "ExecuteTime": {
          "end_time": "2024-05-02T13:31:55.254829Z",
          "start_time": "2024-05-02T13:31:47.940706Z"
        },
        "collapsed": true,
        "id": "initial_id"
      },
      "outputs": [],
      "source": [
        "import torch\n",
        "import torch.nn as nn\n",
        "import torchvision\n",
        "import torchvision.transforms as transforms"
      ]
    },
    {
      "cell_type": "code",
      "execution_count": 3,
      "id": "9ea1df97484cd6d2",
      "metadata": {
        "ExecuteTime": {
          "end_time": "2024-05-02T13:44:30.139803Z",
          "start_time": "2024-05-02T13:44:30.006338Z"
        },
        "id": "9ea1df97484cd6d2"
      },
      "outputs": [
        {
          "name": "stderr",
          "output_type": "stream",
          "text": [
            "Clipping input data to the valid range for imshow with RGB data ([0..1] for floats or [0..255] for integers).\n"
          ]
        },
        {
          "data": {
            "image/png": "[encoded data removed]",
            "text/plain": [
              "<Figure size 640x480 with 1 Axes>"
            ]
          },
          "metadata": {},
          "output_type": "display_data"
        }
      ],
      "source": [
        "# Class to create the MNIST-EVENODD dataset\n",
        "class MNISTEvenOdd(torchvision.datasets.MNIST):\n",
        "\n",
        "    # Constructor for the MNISTEvenOdd class\n",
        "    def __init__(self, root, train=True, download=False):\n",
        "        transform = transforms.Compose([transforms.ToTensor(),\n",
        "                                        transforms.Normalize((0.1307,), (0.3081,)), # MNIST mean and std\n",
        "                                        transforms.Lambda(lambda x: x.repeat(3, 1, 1)) # Repeat the image in 3 channels\n",
        "                                        ])\n",
        "\n",
        "        # Call the constructor of the parent class (MNIST)\n",
        "        super(MNISTEvenOdd, self).__init__(root, train, transform, download=download)\n",
        "\n",
        "        # Reduce the size of the dataset for the exercise\n",
        "        self.data = self.data[:10000]\n",
        "        self.targets = self.targets[:10000]\n",
        "\n",
        "    # Method to get an item from the dataset\n",
        "    def __getitem__(self, index):\n",
        "        # Get the image and target at the given index from the parent class\n",
        "        img, target = super(MNISTEvenOdd, self).__getitem__(index)\n",
        "\n",
        "        # define the concept label\n",
        "        concept = target\n",
        "\n",
        "        # define the task label as even or odd\n",
        "        task = target % 2\n",
        "\n",
        "        # Return the image, concept and task labels\n",
        "        return img, concept, task\n",
        "\n",
        "# instantiate the dataset\n",
        "train_dataset = MNISTEvenOdd(root='.',\n",
        "                             train=True)\n",
        "\n",
        "test_dataset = MNISTEvenOdd(root='.',\n",
        "                            train=False)\n",
        "\n",
        "# Visualize the dataset\n",
        "import matplotlib.pyplot as plt\n",
        "\n",
        "# Get the first image and target from the training dataset\n",
        "image, target, even_odd = train_dataset[100]\n",
        "\n",
        "# Plot the image\n",
        "plt.imshow(image.squeeze().numpy().transpose(1,2,0), cmap='gray')\n",
        "plt.title(f'Digit: {target}, Even/Odd: {\"Odd\" if even_odd == 1 else \"Even\"}')\n",
        "plt.show()"
      ]
    },
    {
      "cell_type": "code",
      "execution_count": 4,
      "id": "15e036ee",
      "metadata": {},
      "outputs": [
        {
          "data": {
            "text/plain": [
              "torch.Size([3, 28, 28])"
            ]
          },
          "execution_count": 4,
          "metadata": {},
          "output_type": "execute_result"
        }
      ],
      "source": [
        "image.shape"
      ]
    },
    {
      "cell_type": "code",
      "execution_count": 5,
      "id": "33ffa63594fc6ba2",
      "metadata": {
        "ExecuteTime": {
          "end_time": "2024-05-02T13:34:48.112606Z",
          "start_time": "2024-05-02T13:34:47.959141Z"
        },
        "id": "33ffa63594fc6ba2"
      },
      "outputs": [
        {
          "name": "stderr",
          "output_type": "stream",
          "text": [
            "c:\\Users\\a_h9\\AppData\\Local\\Programs\\Python\\Python311\\Lib\\site-packages\\torchvision\\models\\_utils.py:208: UserWarning: The parameter 'pretrained' is deprecated since 0.13 and may be removed in the future, please use 'weights' instead.\n",
            "  warnings.warn(\n",
            "c:\\Users\\a_h9\\AppData\\Local\\Programs\\Python\\Python311\\Lib\\site-packages\\torchvision\\models\\_utils.py:223: UserWarning: Arguments other than a weight enum or `None` for 'weights' are deprecated since 0.13 and may be removed in the future. The current behavior is equivalent to passing `weights=ResNet18_Weights.IMAGENET1K_V1`. You can also use `weights=ResNet18_Weights.DEFAULT` to get the most up-to-date weights.\n",
            "  warnings.warn(msg)\n"
          ]
        },
        {
          "name": "stdout",
          "output_type": "stream",
          "text": [
            "Digit: torch.Size([1, 10]) [[ 0.04 -0.83  0.45 -0.15  0.08 -0.34 -0.23  0.04  0.28  0.17]]\n",
            "Even/Odd: torch.Size([1, 2]) [[ 0.36 -0.16]]\n"
          ]
        }
      ],
      "source": [
        "from torchvision import models\n",
        "class CBM(nn.Module):\n",
        "    def __init__(self, num_concepts=10, num_classes=2):\n",
        "        super(CBM, self).__init__()\n",
        "        # Load the ResNet18 model\n",
        "        self.resnet = models.resnet18(pretrained=True)\n",
        "\n",
        "        # Remove the final fully connected layer\n",
        "        self.resnet.fc = nn.Identity()  # Set the last fully connected layer to an identity layer\n",
        "\n",
        "        # Get the number of features in the ResNet18 classifier\n",
        "        num_ftrs = 512  # This is the size of features before the final classification layer\n",
        "\n",
        "        # Create the digit classifier\n",
        "        self.digit_classifier = nn.Linear(num_ftrs, num_concepts)\n",
        "\n",
        "        # Create the even/odd classifier on top of the digit classifier\n",
        "        self.even_odd_classifier = nn.Linear(num_concepts, num_classes)\n",
        "\n",
        "    def forward(self, x):\n",
        "        # Forward pass through the ResNet18\n",
        "        x = self.resnet(x)\n",
        "\n",
        "        # Forward pass through the digit classifier\n",
        "        digit = self.digit_classifier(x)\n",
        "\n",
        "        # Forward pass through the even/odd classifier\n",
        "        even_odd = self.even_odd_classifier(digit)\n",
        "\n",
        "        return digit, even_odd\n",
        "\n",
        "# Create the model\n",
        "model = CBM()\n",
        "model = model.eval()\n",
        "\n",
        "# Make a forward pass with the model\n",
        "digit, even_odd = model(image.unsqueeze(0))\n",
        "\n",
        "# Print the output shapes and the associated logits with two digits precision\n",
        "print('Digit:', digit.shape, digit.detach().numpy().round(2))\n",
        "print('Even/Odd:', even_odd.shape, even_odd.detach().numpy().round(2))\n"
      ]
    },
    {
      "cell_type": "code",
      "execution_count": 6,
      "id": "6e9df665e24fb22",
      "metadata": {
        "ExecuteTime": {
          "end_time": "2024-05-02T13:35:02.290562Z",
          "start_time": "2024-05-02T13:35:02.272329Z"
        },
        "id": "6e9df665e24fb22"
      },
      "outputs": [],
      "source": [
        "# train the model\n",
        "# train the model\n",
        "import torch.optim as optim\n",
        "from torch.utils.data import DataLoader\n",
        "\n",
        "# Define the batch size\n",
        "batch_size = 128\n",
        "\n",
        "# Define the number of epochs\n",
        "num_epochs = 2\n",
        "\n",
        "# Create the data loaders\n",
        "train_loader = DataLoader(train_dataset, batch_size=batch_size, shuffle=True)\n",
        "test_loader = DataLoader(test_dataset, batch_size=batch_size, shuffle=False)\n",
        "\n",
        "\n",
        "# Define the loss function\n",
        "criterion = nn.CrossEntropyLoss()\n",
        "\n",
        "# Define the optimizer\n",
        "optimizer = optim.Adam(model.parameters(), lr=0.001)"
      ]
    },
    {
      "cell_type": "code",
      "execution_count": 7,
      "id": "hDa_JsQmJ7I9",
      "metadata": {
        "id": "hDa_JsQmJ7I9"
      },
      "outputs": [
        {
          "name": "stdout",
          "output_type": "stream",
          "text": [
            "Training on cuda\n"
          ]
        }
      ],
      "source": [
        "device = \"cuda\" if torch.cuda.is_available() else \"cpu\"\n",
        "print(f\"Training on {device}\")"
      ]
    },
    {
      "cell_type": "code",
      "execution_count": 8,
      "id": "304ceb0bbefcb9c6",
      "metadata": {
        "ExecuteTime": {
          "end_time": "2024-05-02T13:35:50.228578Z",
          "start_time": "2024-05-02T13:35:36.939102Z"
        },
        "id": "304ceb0bbefcb9c6"
      },
      "outputs": [
        {
          "name": "stdout",
          "output_type": "stream",
          "text": [
            "Epoch [1/2], Step [10/79], Loss: 0.6506, Digit Accuracy: 70.39%, Even/Odd Accuracy: 81.95%\n",
            "Epoch [1/2], Step [20/79], Loss: 0.2382, Digit Accuracy: 81.84%, Even/Odd Accuracy: 89.22%\n",
            "Epoch [1/2], Step [30/79], Loss: 0.3015, Digit Accuracy: 86.02%, Even/Odd Accuracy: 91.90%\n",
            "Epoch [1/2], Step [40/79], Loss: 0.0960, Digit Accuracy: 88.20%, Even/Odd Accuracy: 93.34%\n",
            "Epoch [1/2], Step [50/79], Loss: 0.1949, Digit Accuracy: 89.95%, Even/Odd Accuracy: 94.31%\n",
            "Epoch [1/2], Step [60/79], Loss: 0.3361, Digit Accuracy: 90.89%, Even/Odd Accuracy: 94.91%\n",
            "Epoch [1/2], Step [70/79], Loss: 0.1331, Digit Accuracy: 91.66%, Even/Odd Accuracy: 95.33%\n",
            "Epoch [2/2], Step [10/79], Loss: 0.1534, Digit Accuracy: 95.62%, Even/Odd Accuracy: 98.05%\n",
            "Epoch [2/2], Step [20/79], Loss: 0.1343, Digit Accuracy: 96.02%, Even/Odd Accuracy: 98.20%\n",
            "Epoch [2/2], Step [30/79], Loss: 0.0829, Digit Accuracy: 96.64%, Even/Odd Accuracy: 98.36%\n",
            "Epoch [2/2], Step [40/79], Loss: 0.0484, Digit Accuracy: 96.82%, Even/Odd Accuracy: 98.48%\n",
            "Epoch [2/2], Step [50/79], Loss: 0.1720, Digit Accuracy: 96.91%, Even/Odd Accuracy: 98.36%\n",
            "Epoch [2/2], Step [60/79], Loss: 0.1158, Digit Accuracy: 96.95%, Even/Odd Accuracy: 98.42%\n",
            "Epoch [2/2], Step [70/79], Loss: 0.0441, Digit Accuracy: 97.10%, Even/Odd Accuracy: 98.53%\n"
          ]
        }
      ],
      "source": [
        "# Train the model\n",
        "# Iterate over epochs\n",
        "model = model.to(device)\n",
        "\n",
        "for epoch in range(num_epochs):\n",
        "\n",
        "    # Set the model in training mode\n",
        "    model.train()\n",
        "    \n",
        "    # Initialize counters\n",
        "    correct_digits = 0\n",
        "    correct_even_odd = 0\n",
        "    total = 0\n",
        "\n",
        "    # Iterate over the batches\n",
        "    for i, (images, concepts, tasks) in enumerate(train_loader):\n",
        "        # put the image and labels on the device\n",
        "        images = images.to(device)\n",
        "        concepts = concepts.to(device)\n",
        "        tasks = tasks.to(device)\n",
        "        \n",
        "        # Zero the gradients\n",
        "        optimizer.zero_grad()\n",
        "        \n",
        "        # Forward pass\n",
        "        digit, even_odd = model(images)\n",
        "        \n",
        "        # Compute the loss for the digit classification\n",
        "        loss_digit = criterion(digit, concepts)\n",
        "\n",
        "        # Compute the loss for the even/odd classification\n",
        "        loss_even_odd = criterion(even_odd, tasks)\n",
        "\n",
        "        # Parameter gamma\n",
        "        gamma = 0.5\n",
        "\n",
        "        # Compute the total loss\n",
        "        loss = loss_digit + gamma * loss_even_odd\n",
        "        \n",
        "        # Backward pass\n",
        "        loss.backward()\n",
        "        \n",
        "        # Optimize\n",
        "        optimizer.step()\n",
        "        \n",
        "        # Compute accuracy\n",
        "        _, predicted_digits = torch.max(digit.data, 1)\n",
        "        _, predicted_even_odd = torch.max(even_odd.data, 1)\n",
        "        total += concepts.size(0)\n",
        "        correct_digits += (predicted_digits == concepts).sum().item()\n",
        "        correct_even_odd += (predicted_even_odd == tasks).sum().item()\n",
        "        \n",
        "        # Print the loss and accuracy every 10 iterations\n",
        "        if (i+1) % 10 == 0:\n",
        "            print('Epoch [{}/{}], Step [{}/{}], Loss: {:.4f}, Digit Accuracy: {:.2f}%, Even/Odd Accuracy: {:.2f}%'\n",
        "            .format(epoch+1, num_epochs, i+1, len(train_loader), loss.item(),\n",
        "                100 * correct_digits / total, 100 * correct_even_odd / total))"
      ]
    },
    {
      "cell_type": "code",
      "execution_count": 12,
      "id": "zDTtXZWIKL4W",
      "metadata": {
        "id": "zDTtXZWIKL4W"
      },
      "outputs": [
        {
          "name": "stdout",
          "output_type": "stream",
          "text": [
            "Accuracy: 98.35%\n"
          ]
        }
      ],
      "source": [
        "# Evaluate the model on the test set\n",
        "model.eval()\n",
        "# Initialize the accuracy\n",
        "correct = 0\n",
        "# Disable gradient computation\n",
        "with torch.no_grad():\n",
        "    # Iterate over the test set\n",
        "    for images, concepts, tasks in test_loader:\n",
        "        # put the image and labels on the device\n",
        "        images = images.to(device)\n",
        "        concepts = concepts.to(device)\n",
        "        tasks = tasks.to(device)\n",
        "        # Forward pass\n",
        "        digit, even_odd = model(images)\n",
        "        \n",
        "        # Get the predicted digit\n",
        "        _, predicted_digit = digit.max(1)\n",
        "\n",
        "        # Get the predicted even/odd\n",
        "        _, predicted_even_odd = even_odd.max(1)\n",
        "\n",
        "        # Update the number of correct predictions\n",
        "        correct += (predicted_digit == concepts).sum().item() + (predicted_even_odd == tasks).sum().item()\n",
        "\n",
        "# Compute the accuracy\n",
        "accuracy = correct / (len(test_dataset)*2)\n",
        "print('Accuracy: {:.2f}%'.format(accuracy * 100))"
      ]
    },
    {
      "cell_type": "code",
      "execution_count": 13,
      "id": "f165e30fc2cfb31d",
      "metadata": {
        "ExecuteTime": {
          "end_time": "2024-05-02T13:46:40.537723Z",
          "start_time": "2024-05-02T13:46:40.285235Z"
        },
        "id": "f165e30fc2cfb31d"
      },
      "outputs": [
        {
          "name": "stderr",
          "output_type": "stream",
          "text": [
            "Clipping input data to the valid range for imshow with RGB data ([0..1] for floats or [0..255] for integers).\n",
            "Clipping input data to the valid range for imshow with RGB data ([0..1] for floats or [0..255] for integers).\n",
            "Clipping input data to the valid range for imshow with RGB data ([0..1] for floats or [0..255] for integers).\n",
            "Clipping input data to the valid range for imshow with RGB data ([0..1] for floats or [0..255] for integers).\n"
          ]
        },
        {
          "data": {
            "image/png": "[encoded data removed]",
            "text/plain": [
              "<Figure size 2000x500 with 4 Axes>"
            ]
          },
          "metadata": {},
          "output_type": "display_data"
        }
      ],
      "source": [
        "# Visualize a few predictions\n",
        "import numpy as np\n",
        "\n",
        "fig, axes = plt.subplots(1, 4, figsize=(20, 5))\n",
        "for i in range(4):\n",
        "    # Get the image and target from the test dataset\n",
        "    image, target, even_odd = test_dataset[i]\n",
        "\n",
        "    # Make a forward pass\n",
        "    predicted_digit, predicted_even_odd = model(image.unsqueeze(0).to(device))\n",
        "\n",
        "    # Get the predicted digit\n",
        "    _, predicted_digit = torch.max(predicted_digit, 1)\n",
        "\n",
        "    # Get the predicted even/odd\n",
        "    _, predicted_even_odd = torch.max(predicted_even_odd, 1)\n",
        "\n",
        "    # Plot the image\n",
        "    axes[i].imshow(image.squeeze().numpy().transpose(1,2,0), cmap='gray')\n",
        "    axes[i].set_title(f'Target: {target}, Even/Odd: {\"Odd\" if even_odd else \"Even\"}\\n'\n",
        "                      f'Predicted: {predicted_digit.item()}, Even/Odd: {\"Odd\" if predicted_even_odd.item() else \"Even\"}')\n",
        "    axes[i].axis('off')\n",
        "plt.show()\n"
      ]
    },
    {
      "cell_type": "code",
      "execution_count": null,
      "id": "3d8912be",
      "metadata": {},
      "outputs": [],
      "source": []
    }
  ],
  "metadata": {
    "colab": {
      "provenance": []
    },
    "kernelspec": {
      "display_name": "Python 3",
      "language": "python",
      "name": "python3"
    },
    "language_info": {
      "codemirror_mode": {
        "name": "ipython",
        "version": 3
      },
      "file_extension": ".py",
      "mimetype": "text/x-python",
      "name": "python",
      "nbconvert_exporter": "python",
      "pygments_lexer": "ipython3",
      "version": "3.11.4"
    }
  },
  "nbformat": 4,
  "nbformat_minor": 5
}
