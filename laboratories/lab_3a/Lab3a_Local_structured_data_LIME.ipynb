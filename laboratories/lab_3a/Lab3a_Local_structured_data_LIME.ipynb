{
  "nbformat": 4,
  "nbformat_minor": 0,
  "metadata": {
    "colab": {
      "provenance": [],
      "collapsed_sections": [
        "fBZjDbVwTee3"
      ]
    },
    "kernelspec": {
      "name": "python3",
      "display_name": "Python 3"
    },
    "language_info": {
      "name": "python"
    }
  },
  "cells": [
    {
      "cell_type": "markdown",
      "source": [
        "# **Lab 3a - Explainable and Trustworthy AI**\n",
        "\n",
        "\n",
        "---\n",
        "\n"
      ],
      "metadata": {
        "id": "YO0NhD6Q4BjE"
      }
    },
    {
      "cell_type": "markdown",
      "source": [
        "**Teaching Assistant**: Eleonora Poeta (eleonora.poeta@polito.it)"
      ],
      "metadata": {
        "id": "ZZLb6zMxU0KA"
      }
    },
    {
      "cell_type": "markdown",
      "source": [
        "**Lab 3a:** Local post-hoc explainable models on structured data - LIME"
      ],
      "metadata": {
        "id": "tmMAwr1FVAXC"
      }
    },
    {
      "cell_type": "markdown",
      "source": [
        "# **LIME**\n",
        "\n",
        "\n",
        "---\n",
        "\n",
        "LIME is a **local surrogate model**. It tests **what happens to the predictions** when you **give variations of your data** into the machine learning model.\n",
        "\n",
        "The main steps are:\n",
        "\n",
        "* LIME generates **a new dataset** consisting of **perturbed samples** and the corresponding **predictions** of the black box model.\n",
        "\n",
        "* On the new dataset → LIME  trains an **interpretable model** (weighted by the proximity of the sampled instances to the instance of interest).\n",
        "\n",
        "* The learned model should be a **good approximation** of the **machine learning model** predictions **locally**, but it does not have to be a good global approximation."
      ],
      "metadata": {
        "id": "1Dsi41aUVEUH"
      }
    },
    {
      "cell_type": "markdown",
      "source": [
        "\n",
        "\n",
        "---\n",
        "## **Exercise 1:**\n",
        "\n",
        "The [**Titanic**](https://www.openml.org/search?type=data&sort=runs&id=40945&status=active) dataset describes the survival status of individual passengers on the Titanic. In this exercise you have to:\n",
        "\n",
        "* **Preprocess** the Titanic dataset. Please, follow these main steps:\n",
        "> * **Load** the dataset\n",
        "  * **Split** the dataset into training and test set using the **80/20** ratio. **Shuffle** the dataset and **stratify** it using the target variable.\n",
        "  * Fill **null** values. `age` column with the mean, `fare` with the median and `embarked` with the most frequent values.\n",
        "  * **Remove** columns that are *not informative for the final task*, or that *contain information about target variable*.\n",
        "  * **Encoding**: in this exercise, the encoding of the dataset ***will be different from previous exercises of the past labs.***\n",
        "    * Follow the **step-by-step procedure** that is written in the Exercise.\n",
        "\n",
        "\n",
        "* Fit the **RandomForestClassifier()** with `n_estimators=500`\n",
        "  * Calculate the predictions with `.predict()`\n",
        "  * Calculate the `accuracy_score()`\n",
        "\n",
        "\n"
      ],
      "metadata": {
        "id": "P6IXTDHvJZ_0"
      }
    },
    {
      "cell_type": "markdown",
      "source": [
        "## **Solution:**"
      ],
      "metadata": {
        "id": "CYv9znjtBYix"
      }
    },
    {
      "cell_type": "markdown",
      "source": [
        "####Imports"
      ],
      "metadata": {
        "id": "BVykz97LGY-0"
      }
    },
    {
      "cell_type": "code",
      "execution_count": null,
      "metadata": {
        "id": "A338eY43B2W2"
      },
      "outputs": [],
      "source": [
        "# Import the required libraries for this exercise\n",
        "### Write your code here!"
      ]
    },
    {
      "cell_type": "markdown",
      "source": [
        "#### Data Preprocessing - Until Encoding part"
      ],
      "metadata": {
        "id": "35s3jmaHJL6D"
      }
    },
    {
      "cell_type": "markdown",
      "source": [
        "Load the dataset"
      ],
      "metadata": {
        "id": "6WBnF78bK2Vj"
      }
    },
    {
      "cell_type": "code",
      "source": [
        "# Load input features and target variable\n",
        "### Write your code here!"
      ],
      "metadata": {
        "id": "DlzfFCNMB4pJ"
      },
      "execution_count": null,
      "outputs": []
    },
    {
      "cell_type": "markdown",
      "source": [
        "Split the dataset - 80/20 train/test ratio.\n"
      ],
      "metadata": {
        "id": "5crBN7b_K30K"
      }
    },
    {
      "cell_type": "code",
      "execution_count": null,
      "metadata": {
        "id": "Av0S451ZGzCu"
      },
      "outputs": [],
      "source": [
        "# Split the dataset. 80% for training data and 20% for test data. Shuffle the dataset and perform stratification by label\n",
        "### Write your code here!"
      ]
    },
    {
      "cell_type": "markdown",
      "source": [
        "Fill Null Values - `age`column"
      ],
      "metadata": {
        "id": "kUlBzKnCMnNe"
      }
    },
    {
      "cell_type": "code",
      "execution_count": null,
      "metadata": {
        "id": "zbFSiEcKHQKI"
      },
      "outputs": [],
      "source": [
        "### Write your code here!"
      ]
    },
    {
      "cell_type": "markdown",
      "source": [
        "Fill Null Values - `fare`column"
      ],
      "metadata": {
        "id": "9OjLac5XMuLC"
      }
    },
    {
      "cell_type": "code",
      "execution_count": null,
      "metadata": {
        "id": "qnVDAXRzHlDi"
      },
      "outputs": [],
      "source": [
        "### Write your code here!"
      ]
    },
    {
      "cell_type": "markdown",
      "source": [
        "Fill Null Values - `embarked`column"
      ],
      "metadata": {
        "id": "ykGDImHjMvrx"
      }
    },
    {
      "cell_type": "code",
      "execution_count": null,
      "metadata": {
        "id": "I-glR2q1HzOg"
      },
      "outputs": [],
      "source": [
        "### Write your code here!"
      ]
    },
    {
      "cell_type": "markdown",
      "source": [
        "Drop useless columns - `name`, `ticket`"
      ],
      "metadata": {
        "id": "ptHqw472MyEW"
      }
    },
    {
      "cell_type": "code",
      "execution_count": null,
      "metadata": {
        "colab": {
          "base_uri": "https://localhost:8080/"
        },
        "id": "CjPYS0lGMJx6",
        "outputId": "1e6966ba-a9c8-4287-b027-62f605b6c47b"
      },
      "outputs": [
        {
          "output_type": "execute_result",
          "data": {
            "text/plain": [
              "      pclass     sex        age  sibsp  parch     fare cabin embarked   boat  \\\n",
              "999        3  female  29.604316      0      0   7.7500   NaN        Q  15 16   \n",
              "392        2  female  24.000000      1      0  27.7208   NaN        C     12   \n",
              "628        3  female  11.000000      4      2  31.2750   NaN        S    NaN   \n",
              "1165       3    male  25.000000      0      0   7.2250   NaN        C    NaN   \n",
              "604        3  female  16.000000      0      0   7.6500   NaN        S     16   \n",
              "\n",
              "      body                  home.dest survived  \n",
              "999    NaN                        NaN        1  \n",
              "392    NaN  Lucca, Italy / California        1  \n",
              "628    NaN        Sweden Winnipeg, MN        0  \n",
              "1165   NaN                        NaN        0  \n",
              "604    NaN     Norway Los Angeles, CA        1  "
            ],
            "text/html": [
              "\n",
              "  <div id=\"df-ffd2d52f-2911-49f2-bd39-1d3fa2e2f29c\" class=\"colab-df-container\">\n",
              "    <div>\n",
              "<style scoped>\n",
              "    .dataframe tbody tr th:only-of-type {\n",
              "        vertical-align: middle;\n",
              "    }\n",
              "\n",
              "    .dataframe tbody tr th {\n",
              "        vertical-align: top;\n",
              "    }\n",
              "\n",
              "    .dataframe thead th {\n",
              "        text-align: right;\n",
              "    }\n",
              "</style>\n",
              "<table border=\"1\" class=\"dataframe\">\n",
              "  <thead>\n",
              "    <tr style=\"text-align: right;\">\n",
              "      <th></th>\n",
              "      <th>pclass</th>\n",
              "      <th>sex</th>\n",
              "      <th>age</th>\n",
              "      <th>sibsp</th>\n",
              "      <th>parch</th>\n",
              "      <th>fare</th>\n",
              "      <th>cabin</th>\n",
              "      <th>embarked</th>\n",
              "      <th>boat</th>\n",
              "      <th>body</th>\n",
              "      <th>home.dest</th>\n",
              "      <th>survived</th>\n",
              "    </tr>\n",
              "  </thead>\n",
              "  <tbody>\n",
              "    <tr>\n",
              "      <th>999</th>\n",
              "      <td>3</td>\n",
              "      <td>female</td>\n",
              "      <td>29.604316</td>\n",
              "      <td>0</td>\n",
              "      <td>0</td>\n",
              "      <td>7.7500</td>\n",
              "      <td>NaN</td>\n",
              "      <td>Q</td>\n",
              "      <td>15 16</td>\n",
              "      <td>NaN</td>\n",
              "      <td>NaN</td>\n",
              "      <td>1</td>\n",
              "    </tr>\n",
              "    <tr>\n",
              "      <th>392</th>\n",
              "      <td>2</td>\n",
              "      <td>female</td>\n",
              "      <td>24.000000</td>\n",
              "      <td>1</td>\n",
              "      <td>0</td>\n",
              "      <td>27.7208</td>\n",
              "      <td>NaN</td>\n",
              "      <td>C</td>\n",
              "      <td>12</td>\n",
              "      <td>NaN</td>\n",
              "      <td>Lucca, Italy / California</td>\n",
              "      <td>1</td>\n",
              "    </tr>\n",
              "    <tr>\n",
              "      <th>628</th>\n",
              "      <td>3</td>\n",
              "      <td>female</td>\n",
              "      <td>11.000000</td>\n",
              "      <td>4</td>\n",
              "      <td>2</td>\n",
              "      <td>31.2750</td>\n",
              "      <td>NaN</td>\n",
              "      <td>S</td>\n",
              "      <td>NaN</td>\n",
              "      <td>NaN</td>\n",
              "      <td>Sweden Winnipeg, MN</td>\n",
              "      <td>0</td>\n",
              "    </tr>\n",
              "    <tr>\n",
              "      <th>1165</th>\n",
              "      <td>3</td>\n",
              "      <td>male</td>\n",
              "      <td>25.000000</td>\n",
              "      <td>0</td>\n",
              "      <td>0</td>\n",
              "      <td>7.2250</td>\n",
              "      <td>NaN</td>\n",
              "      <td>C</td>\n",
              "      <td>NaN</td>\n",
              "      <td>NaN</td>\n",
              "      <td>NaN</td>\n",
              "      <td>0</td>\n",
              "    </tr>\n",
              "    <tr>\n",
              "      <th>604</th>\n",
              "      <td>3</td>\n",
              "      <td>female</td>\n",
              "      <td>16.000000</td>\n",
              "      <td>0</td>\n",
              "      <td>0</td>\n",
              "      <td>7.6500</td>\n",
              "      <td>NaN</td>\n",
              "      <td>S</td>\n",
              "      <td>16</td>\n",
              "      <td>NaN</td>\n",
              "      <td>Norway Los Angeles, CA</td>\n",
              "      <td>1</td>\n",
              "    </tr>\n",
              "  </tbody>\n",
              "</table>\n",
              "</div>\n",
              "    <div class=\"colab-df-buttons\">\n",
              "\n",
              "  <div class=\"colab-df-container\">\n",
              "    <button class=\"colab-df-convert\" onclick=\"convertToInteractive('df-ffd2d52f-2911-49f2-bd39-1d3fa2e2f29c')\"\n",
              "            title=\"Convert this dataframe to an interactive table.\"\n",
              "            style=\"display:none;\">\n",
              "\n",
              "  <svg xmlns=\"http://www.w3.org/2000/svg\" height=\"24px\" viewBox=\"0 -960 960 960\">\n",
              "    <path d=\"M120-120v-720h720v720H120Zm60-500h600v-160H180v160Zm220 220h160v-160H400v160Zm0 220h160v-160H400v160ZM180-400h160v-160H180v160Zm440 0h160v-160H620v160ZM180-180h160v-160H180v160Zm440 0h160v-160H620v160Z\"/>\n",
              "  </svg>\n",
              "    </button>\n",
              "\n",
              "  <style>\n",
              "    .colab-df-container {\n",
              "      display:flex;\n",
              "      gap: 12px;\n",
              "    }\n",
              "\n",
              "    .colab-df-convert {\n",
              "      background-color: #E8F0FE;\n",
              "      border: none;\n",
              "      border-radius: 50%;\n",
              "      cursor: pointer;\n",
              "      display: none;\n",
              "      fill: #1967D2;\n",
              "      height: 32px;\n",
              "      padding: 0 0 0 0;\n",
              "      width: 32px;\n",
              "    }\n",
              "\n",
              "    .colab-df-convert:hover {\n",
              "      background-color: #E2EBFA;\n",
              "      box-shadow: 0px 1px 2px rgba(60, 64, 67, 0.3), 0px 1px 3px 1px rgba(60, 64, 67, 0.15);\n",
              "      fill: #174EA6;\n",
              "    }\n",
              "\n",
              "    .colab-df-buttons div {\n",
              "      margin-bottom: 4px;\n",
              "    }\n",
              "\n",
              "    [theme=dark] .colab-df-convert {\n",
              "      background-color: #3B4455;\n",
              "      fill: #D2E3FC;\n",
              "    }\n",
              "\n",
              "    [theme=dark] .colab-df-convert:hover {\n",
              "      background-color: #434B5C;\n",
              "      box-shadow: 0px 1px 3px 1px rgba(0, 0, 0, 0.15);\n",
              "      filter: drop-shadow(0px 1px 2px rgba(0, 0, 0, 0.3));\n",
              "      fill: #FFFFFF;\n",
              "    }\n",
              "  </style>\n",
              "\n",
              "    <script>\n",
              "      const buttonEl =\n",
              "        document.querySelector('#df-ffd2d52f-2911-49f2-bd39-1d3fa2e2f29c button.colab-df-convert');\n",
              "      buttonEl.style.display =\n",
              "        google.colab.kernel.accessAllowed ? 'block' : 'none';\n",
              "\n",
              "      async function convertToInteractive(key) {\n",
              "        const element = document.querySelector('#df-ffd2d52f-2911-49f2-bd39-1d3fa2e2f29c');\n",
              "        const dataTable =\n",
              "          await google.colab.kernel.invokeFunction('convertToInteractive',\n",
              "                                                    [key], {});\n",
              "        if (!dataTable) return;\n",
              "\n",
              "        const docLinkHtml = 'Like what you see? Visit the ' +\n",
              "          '<a target=\"_blank\" href=https://colab.research.google.com/notebooks/data_table.ipynb>data table notebook</a>'\n",
              "          + ' to learn more about interactive tables.';\n",
              "        element.innerHTML = '';\n",
              "        dataTable['output_type'] = 'display_data';\n",
              "        await google.colab.output.renderOutput(dataTable, element);\n",
              "        const docLink = document.createElement('div');\n",
              "        docLink.innerHTML = docLinkHtml;\n",
              "        element.appendChild(docLink);\n",
              "      }\n",
              "    </script>\n",
              "  </div>\n",
              "\n",
              "\n",
              "<div id=\"df-0798ad93-383c-4018-bd23-059867be9f81\">\n",
              "  <button class=\"colab-df-quickchart\" onclick=\"quickchart('df-0798ad93-383c-4018-bd23-059867be9f81')\"\n",
              "            title=\"Suggest charts\"\n",
              "            style=\"display:none;\">\n",
              "\n",
              "<svg xmlns=\"http://www.w3.org/2000/svg\" height=\"24px\"viewBox=\"0 0 24 24\"\n",
              "     width=\"24px\">\n",
              "    <g>\n",
              "        <path d=\"M19 3H5c-1.1 0-2 .9-2 2v14c0 1.1.9 2 2 2h14c1.1 0 2-.9 2-2V5c0-1.1-.9-2-2-2zM9 17H7v-7h2v7zm4 0h-2V7h2v10zm4 0h-2v-4h2v4z\"/>\n",
              "    </g>\n",
              "</svg>\n",
              "  </button>\n",
              "\n",
              "<style>\n",
              "  .colab-df-quickchart {\n",
              "      --bg-color: #E8F0FE;\n",
              "      --fill-color: #1967D2;\n",
              "      --hover-bg-color: #E2EBFA;\n",
              "      --hover-fill-color: #174EA6;\n",
              "      --disabled-fill-color: #AAA;\n",
              "      --disabled-bg-color: #DDD;\n",
              "  }\n",
              "\n",
              "  [theme=dark] .colab-df-quickchart {\n",
              "      --bg-color: #3B4455;\n",
              "      --fill-color: #D2E3FC;\n",
              "      --hover-bg-color: #434B5C;\n",
              "      --hover-fill-color: #FFFFFF;\n",
              "      --disabled-bg-color: #3B4455;\n",
              "      --disabled-fill-color: #666;\n",
              "  }\n",
              "\n",
              "  .colab-df-quickchart {\n",
              "    background-color: var(--bg-color);\n",
              "    border: none;\n",
              "    border-radius: 50%;\n",
              "    cursor: pointer;\n",
              "    display: none;\n",
              "    fill: var(--fill-color);\n",
              "    height: 32px;\n",
              "    padding: 0;\n",
              "    width: 32px;\n",
              "  }\n",
              "\n",
              "  .colab-df-quickchart:hover {\n",
              "    background-color: var(--hover-bg-color);\n",
              "    box-shadow: 0 1px 2px rgba(60, 64, 67, 0.3), 0 1px 3px 1px rgba(60, 64, 67, 0.15);\n",
              "    fill: var(--button-hover-fill-color);\n",
              "  }\n",
              "\n",
              "  .colab-df-quickchart-complete:disabled,\n",
              "  .colab-df-quickchart-complete:disabled:hover {\n",
              "    background-color: var(--disabled-bg-color);\n",
              "    fill: var(--disabled-fill-color);\n",
              "    box-shadow: none;\n",
              "  }\n",
              "\n",
              "  .colab-df-spinner {\n",
              "    border: 2px solid var(--fill-color);\n",
              "    border-color: transparent;\n",
              "    border-bottom-color: var(--fill-color);\n",
              "    animation:\n",
              "      spin 1s steps(1) infinite;\n",
              "  }\n",
              "\n",
              "  @keyframes spin {\n",
              "    0% {\n",
              "      border-color: transparent;\n",
              "      border-bottom-color: var(--fill-color);\n",
              "      border-left-color: var(--fill-color);\n",
              "    }\n",
              "    20% {\n",
              "      border-color: transparent;\n",
              "      border-left-color: var(--fill-color);\n",
              "      border-top-color: var(--fill-color);\n",
              "    }\n",
              "    30% {\n",
              "      border-color: transparent;\n",
              "      border-left-color: var(--fill-color);\n",
              "      border-top-color: var(--fill-color);\n",
              "      border-right-color: var(--fill-color);\n",
              "    }\n",
              "    40% {\n",
              "      border-color: transparent;\n",
              "      border-right-color: var(--fill-color);\n",
              "      border-top-color: var(--fill-color);\n",
              "    }\n",
              "    60% {\n",
              "      border-color: transparent;\n",
              "      border-right-color: var(--fill-color);\n",
              "    }\n",
              "    80% {\n",
              "      border-color: transparent;\n",
              "      border-right-color: var(--fill-color);\n",
              "      border-bottom-color: var(--fill-color);\n",
              "    }\n",
              "    90% {\n",
              "      border-color: transparent;\n",
              "      border-bottom-color: var(--fill-color);\n",
              "    }\n",
              "  }\n",
              "</style>\n",
              "\n",
              "  <script>\n",
              "    async function quickchart(key) {\n",
              "      const quickchartButtonEl =\n",
              "        document.querySelector('#' + key + ' button');\n",
              "      quickchartButtonEl.disabled = true;  // To prevent multiple clicks.\n",
              "      quickchartButtonEl.classList.add('colab-df-spinner');\n",
              "      try {\n",
              "        const charts = await google.colab.kernel.invokeFunction(\n",
              "            'suggestCharts', [key], {});\n",
              "      } catch (error) {\n",
              "        console.error('Error during call to suggestCharts:', error);\n",
              "      }\n",
              "      quickchartButtonEl.classList.remove('colab-df-spinner');\n",
              "      quickchartButtonEl.classList.add('colab-df-quickchart-complete');\n",
              "    }\n",
              "    (() => {\n",
              "      let quickchartButtonEl =\n",
              "        document.querySelector('#df-0798ad93-383c-4018-bd23-059867be9f81 button');\n",
              "      quickchartButtonEl.style.display =\n",
              "        google.colab.kernel.accessAllowed ? 'block' : 'none';\n",
              "    })();\n",
              "  </script>\n",
              "</div>\n",
              "    </div>\n",
              "  </div>\n"
            ],
            "application/vnd.google.colaboratory.intrinsic+json": {
              "type": "dataframe",
              "variable_name": "df_train",
              "summary": "{\n  \"name\": \"df_train\",\n  \"rows\": 1047,\n  \"fields\": [\n    {\n      \"column\": \"pclass\",\n      \"properties\": {\n        \"dtype\": \"number\",\n        \"std\": 0,\n        \"min\": 1,\n        \"max\": 3,\n        \"num_unique_values\": 3,\n        \"samples\": [\n          3,\n          2,\n          1\n        ],\n        \"semantic_type\": \"\",\n        \"description\": \"\"\n      }\n    },\n    {\n      \"column\": \"sex\",\n      \"properties\": {\n        \"dtype\": \"category\",\n        \"num_unique_values\": 2,\n        \"samples\": [\n          \"male\",\n          \"female\"\n        ],\n        \"semantic_type\": \"\",\n        \"description\": \"\"\n      }\n    },\n    {\n      \"column\": \"age\",\n      \"properties\": {\n        \"dtype\": \"number\",\n        \"std\": 12.847957014576009,\n        \"min\": 0.3333,\n        \"max\": 80.0,\n        \"num_unique_values\": 93,\n        \"samples\": [\n          12.0,\n          58.0\n        ],\n        \"semantic_type\": \"\",\n        \"description\": \"\"\n      }\n    },\n    {\n      \"column\": \"sibsp\",\n      \"properties\": {\n        \"dtype\": \"number\",\n        \"std\": 1,\n        \"min\": 0,\n        \"max\": 8,\n        \"num_unique_values\": 7,\n        \"samples\": [\n          0,\n          1\n        ],\n        \"semantic_type\": \"\",\n        \"description\": \"\"\n      }\n    },\n    {\n      \"column\": \"parch\",\n      \"properties\": {\n        \"dtype\": \"number\",\n        \"std\": 0,\n        \"min\": 0,\n        \"max\": 9,\n        \"num_unique_values\": 7,\n        \"samples\": [\n          0,\n          2\n        ],\n        \"semantic_type\": \"\",\n        \"description\": \"\"\n      }\n    },\n    {\n      \"column\": \"fare\",\n      \"properties\": {\n        \"dtype\": \"number\",\n        \"std\": 48.895720587589736,\n        \"min\": 0.0,\n        \"max\": 512.3292,\n        \"num_unique_values\": 264,\n        \"samples\": [\n          59.4,\n          37.0042\n        ],\n        \"semantic_type\": \"\",\n        \"description\": \"\"\n      }\n    },\n    {\n      \"column\": \"cabin\",\n      \"properties\": {\n        \"dtype\": \"category\",\n        \"num_unique_values\": 155,\n        \"samples\": [\n          \"G6\",\n          \"C99\"\n        ],\n        \"semantic_type\": \"\",\n        \"description\": \"\"\n      }\n    },\n    {\n      \"column\": \"embarked\",\n      \"properties\": {\n        \"dtype\": \"category\",\n        \"num_unique_values\": 3,\n        \"samples\": [\n          \"Q\",\n          \"C\"\n        ],\n        \"semantic_type\": \"\",\n        \"description\": \"\"\n      }\n    },\n    {\n      \"column\": \"boat\",\n      \"properties\": {\n        \"dtype\": \"category\",\n        \"num_unique_values\": 26,\n        \"samples\": [\n          \"11\",\n          \"8 10\"\n        ],\n        \"semantic_type\": \"\",\n        \"description\": \"\"\n      }\n    },\n    {\n      \"column\": \"body\",\n      \"properties\": {\n        \"dtype\": \"number\",\n        \"std\": 95.93143541615201,\n        \"min\": 4.0,\n        \"max\": 328.0,\n        \"num_unique_values\": 92,\n        \"samples\": [\n          188.0,\n          97.0\n        ],\n        \"semantic_type\": \"\",\n        \"description\": \"\"\n      }\n    },\n    {\n      \"column\": \"home.dest\",\n      \"properties\": {\n        \"dtype\": \"category\",\n        \"num_unique_values\": 329,\n        \"samples\": [\n          \"New York, NY\",\n          \"Cornwall, England Houghton, MI\"\n        ],\n        \"semantic_type\": \"\",\n        \"description\": \"\"\n      }\n    },\n    {\n      \"column\": \"survived\",\n      \"properties\": {\n        \"dtype\": \"category\",\n        \"num_unique_values\": 2,\n        \"samples\": [\n          \"0\",\n          \"1\"\n        ],\n        \"semantic_type\": \"\",\n        \"description\": \"\"\n      }\n    }\n  ]\n}"
            }
          },
          "metadata": {},
          "execution_count": 8
        }
      ],
      "source": [
        "### Write your code here!"
      ]
    },
    {
      "cell_type": "markdown",
      "source": [
        "Drop columns that contains info of the target classe (survived) - `cabin` , `body` , `boat` , `home.dest`."
      ],
      "metadata": {
        "id": "uSMGEB4JM4p0"
      }
    },
    {
      "cell_type": "code",
      "execution_count": null,
      "metadata": {
        "id": "OEzx2tiLH-Oz"
      },
      "outputs": [],
      "source": [
        "### Write your code here!\n",
        "\n"
      ]
    },
    {
      "cell_type": "markdown",
      "source": [
        "Extract target variable and input features for the training and test data"
      ],
      "metadata": {
        "id": "v9rbPhqoNIDR"
      }
    },
    {
      "cell_type": "code",
      "execution_count": null,
      "metadata": {
        "id": "W43OiIULLPaA"
      },
      "outputs": [],
      "source": [
        "### Write your code here!"
      ]
    },
    {
      "cell_type": "markdown",
      "source": [
        "### Encoding"
      ],
      "metadata": {
        "id": "iQI4QFycNXoB"
      }
    },
    {
      "cell_type": "markdown",
      "source": [
        "Our **LIME explainer** (and most classifiers) takes in **numerical data**, **even if the features are categorical**.\n",
        "\n",
        "\n",
        "* We thus **transform** **all of the string attributes into integers**, using sklearn's **LabelEncoder**.\n",
        "* We *use a dictionary to save the correspondence between the integer values and the original strings* so we can present this later in the explanations."
      ],
      "metadata": {
        "id": "iS2JbAuAHL44"
      }
    },
    {
      "cell_type": "markdown",
      "source": [
        "1. **Identify** the **categorical columns** in the dataset and save them into a list.\n",
        "  * They are the same for training and test data.\n",
        "  * In this case, both `category` and `object` dtype represent categorical columns."
      ],
      "metadata": {
        "id": "WIpRSnUHNPYv"
      }
    },
    {
      "cell_type": "code",
      "source": [
        "# Display .info() for training and test datasets"
      ],
      "metadata": {
        "id": "kibaIfZGFcKm"
      },
      "execution_count": null,
      "outputs": []
    },
    {
      "cell_type": "code",
      "source": [
        "# Identify categorical columns in train dataset --- they are the same for test dataset!!\n",
        "# You have to indicate the index of the categorical columns\n",
        "\n",
        "### Write your code here!"
      ],
      "metadata": {
        "id": "LIDaDxe8B6dp"
      },
      "execution_count": null,
      "outputs": []
    },
    {
      "cell_type": "markdown",
      "source": [
        "\n",
        "\n",
        "2. Create a dictionary of categorical_names. `categorical_names = {}`\n",
        "\n",
        "3. Create a dictionary of the LabelEncoders. `le_dict = {}`\n",
        "\n",
        "4. For each categorical feature, you have to:\n",
        "  * Instanciate the **LabelEncoder()** from sklearn.  `le = LabelEncoder()`\n",
        "  *   Fit the **LabelEncoder()** over the categorical feature of interest.\n",
        "   *  Transform the the categorical feature of interest.\n",
        "  *   Keep trace of the transformation done as follows: `categorical_names[feature] = le.classes_`\n",
        "  * Save the label encoder in the dictionary above as follows: `le_dict[feature] = le`\n",
        "> Do this procedure **only for the train set**. Then, **for the test set**, you will **apply** only `.transform()`\n",
        ".Rember to use the right label encoder for the right categorical feature that you just saved in the `le_dict`.\n",
        "\n",
        "\n",
        "\n",
        "\n",
        "\n"
      ],
      "metadata": {
        "id": "2WKevwwNPK1O"
      }
    },
    {
      "cell_type": "code",
      "source": [
        "categorical_names = {}\n",
        "le_dict = {}\n",
        "for feature in categorical_cols:\n",
        "  ## Continue with your code here"
      ],
      "metadata": {
        "id": "xDb-fBUICN7_"
      },
      "execution_count": null,
      "outputs": []
    },
    {
      "cell_type": "code",
      "source": [
        "categorical_names"
      ],
      "metadata": {
        "id": "S1t8YOu1HKJe"
      },
      "execution_count": null,
      "outputs": []
    },
    {
      "cell_type": "code",
      "source": [
        "categorical_names_test = {}\n",
        "for feature in categorical_cols:\n",
        "  ## Continue with your code here"
      ],
      "metadata": {
        "id": "Tvlt2C61HKaF"
      },
      "execution_count": null,
      "outputs": []
    },
    {
      "cell_type": "markdown",
      "source": [
        "Now, **use a One-hot encoder**, so that our **classifier does not take the categorical features as continuous features.**\n",
        "\n",
        "\n",
        "---\n",
        "\n",
        "\n",
        "\n",
        "\n",
        "> ***We will use this encoder only for the classifier***, *not for the explainer* - and the reason is that the **explainer must make sure that a categorical feature only has one value.**\n",
        "\n"
      ],
      "metadata": {
        "id": "EgRuEfCIHv5x"
      }
    },
    {
      "cell_type": "code",
      "source": [
        "# Identify the numerical columns - you must save  in a list the index of the column!\n",
        "\n",
        "### Write your code here!"
      ],
      "metadata": {
        "id": "iZK1o3fxowbW"
      },
      "execution_count": null,
      "outputs": []
    },
    {
      "cell_type": "markdown",
      "source": [
        "1.   Instanciate the **OneHotEncoder()** to encode the categorical variables.\n",
        "2. Apply the **MinMaxScaler()** to the numerical features.\n",
        "3. Use the **ColumnTransformer()**.\n",
        "\n"
      ],
      "metadata": {
        "id": "JHgu6Jl1nPW3"
      }
    },
    {
      "cell_type": "code",
      "source": [
        "# Initialize OneHotEncoder\n",
        "\n",
        "# Initialize MinMaxScaler\n",
        "\n",
        "\n",
        "# Create ColumnTransformer\n",
        "\n",
        "# Apply ColumnTransformer to your train data\n",
        "\n",
        "# Apply ColumnTransformer to your test data"
      ],
      "metadata": {
        "id": "qnOEF5hAIC2V"
      },
      "execution_count": null,
      "outputs": []
    },
    {
      "cell_type": "markdown",
      "source": [
        "####Fit the RandomForestClassifier with `n_estimators=500`"
      ],
      "metadata": {
        "id": "HYJfpl4B1Qz6"
      }
    },
    {
      "cell_type": "code",
      "source": [
        "### Write your code here!"
      ],
      "metadata": {
        "id": "W3TeG2rLzH_Q"
      },
      "execution_count": null,
      "outputs": []
    },
    {
      "cell_type": "markdown",
      "source": [
        "Calculate the y_pred with the `.predict() ` function from sklearn"
      ],
      "metadata": {
        "id": "-Jk--gWWbGe1"
      }
    },
    {
      "cell_type": "code",
      "source": [
        "### Write your code here!"
      ],
      "metadata": {
        "id": "T0TdF0ELNyAq"
      },
      "execution_count": null,
      "outputs": []
    },
    {
      "cell_type": "markdown",
      "source": [
        "Calculate the Accuracy Score"
      ],
      "metadata": {
        "id": "8dfrKcWA1-ms"
      }
    },
    {
      "cell_type": "code",
      "source": [
        "### Write your code here!"
      ],
      "metadata": {
        "id": "DBNr5Jio1ndr"
      },
      "execution_count": null,
      "outputs": []
    },
    {
      "cell_type": "markdown",
      "source": [
        "\n",
        "\n",
        "---\n",
        "\n",
        "## **Exercise 1b:**\n",
        "\n",
        "Let's now explain the predictions obtained in the Exercise 1a using **LIME**. Before starting the exercise you have to:\n",
        "\n",
        "* Install the lime library running the following command in a cell `!pip install lime`\n",
        "* Import the module for tabular data as:\n",
        "`from lime import lime_tabular`\n",
        "\n",
        "\n",
        "Then, the goal of this exercise is to explain an individual prediction of interest. To get you started in understanding how the library works, this exercise will be mostly guided. You have to:\n",
        "\n",
        "* Fix the random seed.\n",
        "* Instanciate the explainer as:  `explainer = lime_tabular.LimeTabularExplainer`.\n",
        "  * Read the [documentation](https://lime-ml.readthedocs.io/en/latest/lime.html#module-lime.lime_tabular) and try to understand the role of each parameter.\n",
        "  * In this case, the prediction function `pred_fn` has to be custom. *Follow the guide in the notebook.*\n",
        "  * Now, try to explain the `instance i=0 ` with `explainer.explain_instance`.  *What can you infer? What is the predicted class for that instance?*"
      ],
      "metadata": {
        "id": "u0HvDUqucNLS"
      }
    },
    {
      "cell_type": "code",
      "source": [
        "!pip install lime\n",
        "from lime import lime_tabular"
      ],
      "metadata": {
        "id": "TAacuZDKBd2M"
      },
      "execution_count": null,
      "outputs": []
    },
    {
      "cell_type": "markdown",
      "source": [
        "### **Explaining predictions**"
      ],
      "metadata": {
        "id": "ahyB-yiZ2vfc"
      }
    },
    {
      "cell_type": "markdown",
      "source": [
        "Fix the random seed with `np.random.seed(42)`"
      ],
      "metadata": {
        "id": "I6IoKC25bVes"
      }
    },
    {
      "cell_type": "code",
      "source": [
        "### Write your code here!"
      ],
      "metadata": {
        "id": "fS7743wP118v"
      },
      "execution_count": null,
      "outputs": []
    },
    {
      "cell_type": "markdown",
      "source": [
        "Instanciate the LimeTabularExplainer"
      ],
      "metadata": {
        "id": "8GXa8dnEnKWy"
      }
    },
    {
      "cell_type": "code",
      "source": [
        "explainer = lime_tabular.LimeTabularExplainer(X_train.values, # here the function requires a numpy array\n",
        "                                              mode = 'classification',\n",
        "                                              class_names=['not survived' , 'survived'],\n",
        "                                              feature_names = X_train.columns,\n",
        "                                              categorical_features=categorical_cols,\n",
        "                                              categorical_names=categorical_names,\n",
        "                                              kernel_width=3,\n",
        "                                              verbose=True)\n"
      ],
      "metadata": {
        "id": "N-lo16-sI7CB"
      },
      "execution_count": null,
      "outputs": []
    },
    {
      "cell_type": "code",
      "source": [
        "def predict_fn(x):\n",
        "  temporary_df = pd.DataFrame(x, columns=X_train.columns, dtype='object') # to apply the ColumnTransformer you have to have a dataframe\n",
        "  print(temporary_df.head(2))\n",
        "  transf = ct.transform(temporary_df)\n",
        "  pred = rf.predict_proba(transf).astype(float)\n",
        "  return pred"
      ],
      "metadata": {
        "id": "bTMsj-jABCVk"
      },
      "execution_count": null,
      "outputs": []
    },
    {
      "cell_type": "code",
      "source": [
        "i = 1\n",
        "exp = explainer.explain_instance(X_test.values[i],\n",
        "                                 predict_fn,\n",
        "                                 num_samples=3)\n",
        "exp.show_in_notebook()"
      ],
      "metadata": {
        "id": "05EHmuPVKA7S"
      },
      "execution_count": null,
      "outputs": []
    },
    {
      "cell_type": "markdown",
      "source": [
        "\n",
        "\n",
        "---\n",
        "\n",
        "## **Exercise 1.c**\n",
        "\n",
        "**It's time to play with LIME!** 😀\n",
        "\n",
        "\n",
        "The purpose of this exercise is to make you familiar with the LIME library and make you understand the main features.\n",
        "\n",
        "* Instanciate **a new LimeTabularExplainer**\n",
        "* Use the **same predict_fn** as before\n",
        "* `explain_instance` for the instance `i=1`.\n",
        "  * **Run** this for **5 times** and **pay attention **to the part about what features and to what extent they contributed to that prediction (explanation).\n",
        "  * *Did you always obtain the same explanation?* If no, *what is the missing step? *\n",
        "\n",
        "* Let's now change the parameter num_samples to `num_samples=15`.\n",
        "  * Can you guess what is the role of this parameter?\n",
        "* The parameter `num_features` indicates the  maximum number of features present in explanation.\n",
        "  * Try to vary this number between 1 and 6. Where can you see a change?\n",
        "* Change the distance parameter to ` distance_metric='l2'`.\n",
        "  * Where is the distance used?"
      ],
      "metadata": {
        "id": "s7AaC-dZgrcU"
      }
    },
    {
      "cell_type": "code",
      "source": [
        "### Write your code here!"
      ],
      "metadata": {
        "id": "pLJlLUgOivPA"
      },
      "execution_count": null,
      "outputs": []
    }
  ]
}