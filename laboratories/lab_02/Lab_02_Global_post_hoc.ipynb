{
  "cells": [
    {
      "cell_type": "markdown",
      "metadata": {
        "id": "YO0NhD6Q4BjE"
      },
      "source": [
        "# **Lab 2 - Explainable and Trustworthy AI**\n",
        "\n",
        "\n",
        "---\n",
        "\n"
      ]
    },
    {
      "cell_type": "markdown",
      "metadata": {
        "id": "ZZLb6zMxU0KA"
      },
      "source": [
        "**Eleonora Poeta** (eleonora.poeta@polito.it)"
      ]
    },
    {
      "cell_type": "markdown",
      "metadata": {
        "id": "tmMAwr1FVAXC"
      },
      "source": [
        "**Lab 2:** Global post-hoc explainable models on structured data"
      ]
    },
    {
      "cell_type": "markdown",
      "metadata": {
        "id": "1Dsi41aUVEUH"
      },
      "source": [
        "# **Permutation Feature Importance**\n",
        "\n",
        "\n",
        "---\n",
        "\n"
      ]
    },
    {
      "cell_type": "markdown",
      "metadata": {
        "id": "3xhAN6SEZLir"
      },
      "source": [
        "*\tPermutation feature importance is a model inspection technique that measures the **contribution** of **each feature** to the **model's performances** on a  given tabular dataset.\n",
        "* A **feature** is **important** if shuffling its values, the ***model error increases***. So, the model relied on that feature for the prediction.\n"
      ]
    },
    {
      "cell_type": "markdown",
      "metadata": {
        "id": "rYaWUah5GbsM"
      },
      "source": [
        "Key **advantages** of Permutation Feature importance technique:\n",
        "\n",
        "\n",
        "> * Nice and **direct interpretation** of the model's behaviour.\n",
        "* It is **model-agnostic**.\n",
        "* It does **not require retraining the model**.\n",
        "\n"
      ]
    },
    {
      "cell_type": "markdown",
      "metadata": {
        "id": "fIY-N-6w8AuY"
      },
      "source": [
        "Main **disadvantages** of Permutation Feature importance technique:\n",
        "\n",
        "\n",
        "> * It assumes the **Feature independence**. If features are correlated, it can be biased by unrealistic data instances.\n",
        "* It is strictly linked to the **model performance measures**. In some cases other measures can be of interest.\n"
      ]
    },
    {
      "cell_type": "markdown",
      "metadata": {
        "id": "J8KLqcBDHEJ5"
      },
      "source": [
        "\n",
        "\n",
        "---\n",
        "\n",
        "\n",
        "## **Exercise 1**\n",
        "\n",
        "The [**Titanic**](https://www.openml.org/search?type=data&sort=runs&id=40945&status=active) dataset describes the survival status of individual passengers on the Titanic. In this exercise you have to:\n",
        "\n",
        "* **Preprocess** the Titanic dataset. You can follow these main steps:\n",
        "> * **Load** the dataset\n",
        "  * **Split** the dataset into training and test set using the **80/20** ratio. **Shuffle** the dataset and **stratify** it using the target variable.\n",
        "  * Fill **null** values. `age` column with the mean, `fare` with the median and `embarked` with the most frequent values.\n",
        "  * Encoding\n",
        "    * **Remove** columns that are *not informative for the final task*, or that *contain information about target variable*.\n",
        "    * Perform **OneHotEncoding** and **OrdinalEncoder**, where needed.\n",
        "    * Perform **MinMax** scaling, where needed,\n",
        "    * We suggest to use the **[ColumnTransformer](https://scikit-learn.org/stable/modules/generated/sklearn.compose.ColumnTransformer.html)** module\n",
        "\n",
        "* Fit a **[RandomForestClassifier](https://scikit-learn.org/stable/modules/generated/sklearn.ensemble.RandomForestClassifier.html)()** over the Titanic dataset. We suggest to use the **[Pipeline](https://scikit-learn.org/stable/modules/generated/sklearn.pipeline.Pipeline.html)** module\n",
        "* Inspect model's **accuracy** on training and test dataset.\n",
        "\n",
        "### **Exercise 1.1**\n",
        "* Calculate **Feature Importances** (as previously done in Lab 1):\n",
        "> * What can you infer? What is the most important feature? Is it categorical or numerical?\n",
        "> Note that you can aggregate (via sum) the feature importance for the feature value importance of the same categorical attribute to have the importance of the attribute\n",
        "\n",
        "### **Exercise 1.2**\n",
        "* Now, compute [**permutation_importance**](https://scikit-learn.org/stable/modules/generated/sklearn.inspection.permutation_importance.html).\n",
        ">   * **Firstly**, compute this for the **test set**. What are the most important features?\n",
        "    * Re-do the computation of permutation_importance, now **on the training set**. Did you obtain the same result as for the test set? If not, what can be the problem?\n",
        "\n",
        "### **Exercise 1.3**\n",
        "* Let's now instanciate another **RandomForestClassifier** with parameter `min_samples_leaf=20`.\n",
        "> * Repeat the steps for computing the permutation_importance on both training and test set.\n",
        "  * Has something changed? What can you infer about RandomForestClassifier's behaviour with respect to overfitting?\n",
        "\n",
        "\n",
        "***Hint***:\n",
        "\n",
        "> In the first case, the results of permutation_importance on the training and test set can be explained by overfitting of the RandomForestClassifier. So, the RF has capacity to use the feature `fare` to overfit.\n",
        "\n",
        "\n",
        "\n",
        "\n",
        "\n",
        "\n",
        "\n",
        "\n",
        "\n",
        "\n"
      ]
    },
    {
      "cell_type": "markdown",
      "metadata": {},
      "source": [
        "## **Solution:**"
      ]
    },
    {
      "cell_type": "code",
      "execution_count": null,
      "metadata": {},
      "outputs": [],
      "source": [
        "# If your dataset is stored on Google Drive, mount the drive before reading it\n",
        "from google.colab import drive\n",
        "drive.mount('/content/drive')"
      ]
    },
    {
      "cell_type": "markdown",
      "metadata": {
        "id": "eA6FurAIFboQ"
      },
      "source": [
        "### Data preprocessing - Titanic dataset"
      ]
    },
    {
      "cell_type": "code",
      "execution_count": null,
      "metadata": {},
      "outputs": [],
      "source": [
        "### Write your solution here"
      ]
    },
    {
      "cell_type": "markdown",
      "metadata": {},
      "source": [
        "#### Fit the Random Forest Classifier"
      ]
    },
    {
      "cell_type": "code",
      "execution_count": null,
      "metadata": {},
      "outputs": [],
      "source": [
        "### Write your solution here"
      ]
    },
    {
      "cell_type": "markdown",
      "metadata": {
        "id": "gbt63kLdFZLQ"
      },
      "source": [
        "#### Model's performances"
      ]
    },
    {
      "cell_type": "code",
      "execution_count": null,
      "metadata": {},
      "outputs": [],
      "source": [
        "### Write your solution here"
      ]
    },
    {
      "cell_type": "markdown",
      "metadata": {},
      "source": [
        "### Exercise 1.b"
      ]
    },
    {
      "cell_type": "markdown",
      "metadata": {
        "id": "uxmD3MbIFbvN"
      },
      "source": [
        "#### Calculate the Feature Importances"
      ]
    },
    {
      "cell_type": "code",
      "execution_count": null,
      "metadata": {
        "colab": {
          "base_uri": "https://localhost:8080/",
          "height": 565
        },
        "id": "9pkXw5m0xkB3",
        "outputId": "74025c8c-f433-4aa9-f839-11c65f0df250"
      },
      "outputs": [],
      "source": [
        "### Write your solution here"
      ]
    },
    {
      "cell_type": "markdown",
      "metadata": {},
      "source": [
        "### Exercise 1.b"
      ]
    },
    {
      "cell_type": "markdown",
      "metadata": {
        "id": "bpCLADO-FvLu"
      },
      "source": [
        "#### Permutation Importances"
      ]
    },
    {
      "cell_type": "code",
      "execution_count": null,
      "metadata": {
        "colab": {
          "base_uri": "https://localhost:8080/",
          "height": 489
        },
        "id": "1wU8Zb6eU5H_",
        "outputId": "b965199c-91f2-45a3-c9df-a431c78e9bc4"
      },
      "outputs": [],
      "source": [
        "### Write your solution here"
      ]
    },
    {
      "cell_type": "markdown",
      "metadata": {},
      "source": [
        "### Exercise 1.3"
      ]
    },
    {
      "cell_type": "markdown",
      "metadata": {
        "id": "_EubLx81cusK"
      },
      "source": [
        "Set the **min_samples_leaf at 20** and fit a random forest classifier"
      ]
    },
    {
      "cell_type": "code",
      "execution_count": null,
      "metadata": {},
      "outputs": [],
      "source": [
        "### Write your solution here"
      ]
    },
    {
      "cell_type": "markdown",
      "metadata": {
        "id": "-gUxEQDNeFKL"
      },
      "source": [
        "New Model's accuracy score"
      ]
    },
    {
      "cell_type": "code",
      "execution_count": null,
      "metadata": {
        "colab": {
          "base_uri": "https://localhost:8080/"
        },
        "id": "EHpBBo6rc6p-",
        "outputId": "c3cd3179-b4f9-4d0c-d8bb-a92511f8e88c"
      },
      "outputs": [],
      "source": [
        "### Write your solution here"
      ]
    },
    {
      "cell_type": "markdown",
      "metadata": {
        "id": "SK3T11zYc4wZ"
      },
      "source": [
        "Permutation importances"
      ]
    },
    {
      "cell_type": "code",
      "execution_count": null,
      "metadata": {
        "colab": {
          "base_uri": "https://localhost:8080/",
          "height": 489
        },
        "id": "0OcgYVs1cy91",
        "outputId": "611b33fd-8e53-4a82-fd09-56f890feeff8"
      },
      "outputs": [],
      "source": [
        "### Write your solution here"
      ]
    },
    {
      "cell_type": "markdown",
      "metadata": {
        "id": "D6TkB65PXkug"
      },
      "source": [
        "# **Partial dependence plot**\n",
        "\n",
        "\n",
        "---\n",
        "\n"
      ]
    },
    {
      "cell_type": "markdown",
      "metadata": {
        "id": "f0ifF-4-MHWu"
      },
      "source": [
        "The **Partial Dependence Plot** (in short, PDP) shows the **marginal effect** of one or two features **on the predicted outcome** of a Machine learning model.\n",
        "\n",
        "* It is a **global method**: The method considers **all instances** and gives a statement about the **global relationship** of a feature with the predicted outcome."
      ]
    },
    {
      "cell_type": "markdown",
      "metadata": {
        "id": "jA3w6nccMn_X"
      },
      "source": [
        "Key **Advantages**:\n",
        "\n",
        "* The PDP computation is really **intuitive**.\n",
        "* By providing an **explanation** in the form of a **visualization**, it is easy to inspect.\n"
      ]
    },
    {
      "cell_type": "markdown",
      "metadata": {
        "id": "_isUky12NE3X"
      },
      "source": [
        "Main **Disadvantages**:\n",
        "\n",
        "* The **assumption** of **independence** is the biggest issue with PDP plots.\n",
        "* The **realistic maximum number of features** in a partial dependence function is **two**."
      ]
    },
    {
      "cell_type": "markdown",
      "metadata": {
        "id": "Y8EdKIgvNdRi"
      },
      "source": [
        "\n",
        "\n",
        "---\n",
        "\n",
        "# **Exercise 2**\n",
        "\n",
        "* Instanciate and Fit a [**DecisionTreeClassifier**](https://scikit-learn.org/stable/modules/generated/sklearn.tree.DecisionTreeClassifier.html) and a [**RandomForestClassifier**](https://scikit-learn.org/stable/modules/generated/sklearn.ensemble.RandomForestClassifier.html) over Titanic dataset.\n",
        "* **Evaluate** both models by inspecting their **accuracy** scores over train and test dataset.\n",
        "* Print **Feature Importances** for both models.\n",
        "* Generate the **PDP** using [**PartialDependenceDisplay.from_estimator**](https://scikit-learn.org/stable/modules/generated/sklearn.inspection.PartialDependenceDisplay.html) function for both models.\n"
      ]
    },
    {
      "cell_type": "markdown",
      "metadata": {
        "id": "4iMxcHUPTlSU"
      },
      "source": [
        "## **Solution:**"
      ]
    },
    {
      "cell_type": "markdown",
      "metadata": {
        "id": "eCoi0fzyeark"
      },
      "source": [
        "RF Classifier"
      ]
    },
    {
      "cell_type": "code",
      "execution_count": null,
      "metadata": {
        "colab": {
          "base_uri": "https://localhost:8080/",
          "height": 74
        },
        "id": "VVFSA9qyTzeP",
        "outputId": "30e6e3e1-6027-45ec-b0a0-2deadb296771"
      },
      "outputs": [],
      "source": [
        "### Write your solution here"
      ]
    },
    {
      "cell_type": "markdown",
      "metadata": {
        "id": "0cv3YCntecGE"
      },
      "source": [
        "DT classifier"
      ]
    },
    {
      "cell_type": "code",
      "execution_count": null,
      "metadata": {
        "colab": {
          "base_uri": "https://localhost:8080/",
          "height": 74
        },
        "id": "Vt8mLcjFT4aZ",
        "outputId": "aa79d8e8-ad2a-439f-b0d0-83b3b8006251"
      },
      "outputs": [],
      "source": [
        "### Write your solution here"
      ]
    },
    {
      "cell_type": "markdown",
      "metadata": {},
      "source": [
        "Plot the feature importance for Random Forest"
      ]
    },
    {
      "cell_type": "code",
      "execution_count": null,
      "metadata": {
        "colab": {
          "base_uri": "https://localhost:8080/",
          "height": 565
        },
        "id": "mGOrfxQJUIUt",
        "outputId": "80a5f2bd-a435-47a1-ef90-308501901ae5"
      },
      "outputs": [],
      "source": [
        "### Write your solution here"
      ]
    },
    {
      "cell_type": "markdown",
      "metadata": {},
      "source": [
        "Plot the feature importance for decision tree"
      ]
    },
    {
      "cell_type": "code",
      "execution_count": null,
      "metadata": {
        "id": "Wdwt8uEaUNzE"
      },
      "outputs": [],
      "source": [
        "### Write your solution here"
      ]
    },
    {
      "cell_type": "markdown",
      "metadata": {
        "id": "EuIDVlrXeSbg"
      },
      "source": [
        "Generate PDP for Random Forest Classifier"
      ]
    },
    {
      "cell_type": "code",
      "execution_count": null,
      "metadata": {
        "id": "NajsvfVnW1ng"
      },
      "outputs": [],
      "source": [
        "### Write your solution here"
      ]
    },
    {
      "cell_type": "markdown",
      "metadata": {
        "id": "V6uw_4wIeWet"
      },
      "source": [
        "Generate PDP for Decision Tree Classifier"
      ]
    },
    {
      "cell_type": "code",
      "execution_count": null,
      "metadata": {
        "colab": {
          "base_uri": "https://localhost:8080/",
          "height": 1000
        },
        "id": "kN2yAMQwc-XV",
        "outputId": "c8eeb834-4cb9-4bde-d0f8-68afc3784b86"
      },
      "outputs": [],
      "source": [
        "### Write your solution here"
      ]
    },
    {
      "cell_type": "markdown",
      "metadata": {
        "id": "AS9rfOb6XTLf"
      },
      "source": [
        "# **Global surrogate models**\n",
        "\n",
        "\n",
        "---\n",
        "\n"
      ]
    },
    {
      "cell_type": "markdown",
      "metadata": {
        "id": "EqltUfuLgvE1"
      },
      "source": [
        "The purpose of (interpretable) surrogate models is to **approximate** the **predictions** of the underlying model *as accurately as possible* and to be interpretable at the same time."
      ]
    },
    {
      "cell_type": "markdown",
      "metadata": {
        "id": "dUHBZnqMhqTF"
      },
      "source": [
        "The surrogate model is a **model-agnostic method**, since it does **not require** any **information** about the **inner workings of the black box model**, *only access to data and the prediction function is necessary*."
      ]
    },
    {
      "cell_type": "markdown",
      "metadata": {
        "id": "GCmL8Jfzhz_4"
      },
      "source": [
        "To **obtain a surrogate model** you have to perform the following steps:\n",
        "\n",
        "\n",
        "\n",
        "1.   Select a dataset X.\n",
        "2.   For the selected dataset X, get the predictions of the black box model.\n",
        "3.   Select an interpretable model type (linear model, decision tree, …).\n",
        "4.   Train the interpretable model on the dataset X and its predictions.\n",
        "\n",
        "Congratulations! You now have a surrogate model!\n",
        "\n",
        "Measure **how well** the **surrogate model replicates the predictions of the black box model** to interpret the model."
      ]
    },
    {
      "cell_type": "markdown",
      "metadata": {
        "id": "dngPNW-8j_jr"
      },
      "source": [
        "\n",
        "\n",
        "---\n",
        "\n",
        "## **Exercise 3:**\n",
        "\n",
        "The aim of this exercise is to use a white-box model, that is the surrogate model, to explain the black-box model. You have to:\n",
        "\n",
        "* Instanciate and fit the **black-box** model, i.e. the [**GradientBoosterClassifier**](https://scikit-learn.org/stable/modules/generated/sklearn.ensemble.GradientBoostingClassifier.html) over the Titanic\n",
        "dataset.\n",
        "> * You can retrieve the predictions with the *_predictions* function.\n",
        "\n",
        "\n",
        "\n",
        "* Instanciate and fit the **white-box** model, i.e. the [**LogisticRegression**](https://scikit-learn.org/stable/modules/generated/sklearn.linear_model.LogisticRegression.html) over the Titanic dataset **and** the predictions of the black-box model.\n",
        "* Calculate the **accuracy_score** for both models on the training and test dataset.\n",
        "* Calculate the **reconstruction_error** for both models on the training and test dataset.\n",
        "* **Print** the obtained **results**.\n",
        "\n",
        "***Hint:***\n",
        "> You can inted the **reconstruction_error** as the loss of information or performance when using the predictions of the black-box model to train the white-box model."
      ]
    },
    {
      "cell_type": "markdown",
      "metadata": {
        "id": "ic4Rd9LCjVX1"
      },
      "source": [
        "## **Solution:**"
      ]
    },
    {
      "cell_type": "markdown",
      "metadata": {
        "id": "TsyvQAPvjh7J"
      },
      "source": [
        "Train the black-box model"
      ]
    },
    {
      "cell_type": "code",
      "execution_count": null,
      "metadata": {
        "colab": {
          "base_uri": "https://localhost:8080/",
          "height": 74
        },
        "id": "VCar1tNxjg7K",
        "outputId": "8938ba8a-76c6-4246-bce0-465081e71905"
      },
      "outputs": [],
      "source": [
        "### Write your solution here"
      ]
    },
    {
      "cell_type": "markdown",
      "metadata": {
        "id": "5NI4xKLljl7D"
      },
      "source": [
        "Train the white-box model over the Titanic dataset and the predictions from the black-box model."
      ]
    },
    {
      "cell_type": "code",
      "execution_count": null,
      "metadata": {
        "colab": {
          "base_uri": "https://localhost:8080/",
          "height": 74
        },
        "id": "yArv9HecjzDO",
        "outputId": "4887d60d-924d-40ba-c030-e53e218428b7"
      },
      "outputs": [],
      "source": [
        "### Write your solution here"
      ]
    },
    {
      "cell_type": "markdown",
      "metadata": {},
      "source": [
        "Inspect the coefficients"
      ]
    },
    {
      "cell_type": "code",
      "execution_count": null,
      "metadata": {},
      "outputs": [],
      "source": [
        "### Write your solution here"
      ]
    },
    {
      "cell_type": "markdown",
      "metadata": {
        "id": "FakbVlusj09o"
      },
      "source": [
        "Evaluate the performances of black-box and white-box models."
      ]
    },
    {
      "cell_type": "code",
      "execution_count": null,
      "metadata": {
        "id": "j71SPcHtj6SB"
      },
      "outputs": [],
      "source": [
        "### Write your solution here"
      ]
    },
    {
      "cell_type": "markdown",
      "metadata": {},
      "source": [
        "Evaluate the reconstruction error"
      ]
    },
    {
      "cell_type": "code",
      "execution_count": null,
      "metadata": {},
      "outputs": [],
      "source": [
        "### Write your solution here"
      ]
    }
  ],
  "metadata": {
    "colab": {
      "collapsed_sections": [
        "eA6FurAIFboQ",
        "0wdTIMnoAnQB",
        "9QPArBh-bvfk",
        "xulm-JvhbzQY",
        "equRWFc3FRoz",
        "4iMxcHUPTlSU",
        "ic4Rd9LCjVX1"
      ],
      "provenance": []
    },
    "kernelspec": {
      "display_name": "Python 3",
      "name": "python3"
    },
    "language_info": {
      "codemirror_mode": {
        "name": "ipython",
        "version": 3
      },
      "file_extension": ".py",
      "mimetype": "text/x-python",
      "name": "python",
      "nbconvert_exporter": "python",
      "pygments_lexer": "ipython3",
      "version": "3.12.2"
    }
  },
  "nbformat": 4,
  "nbformat_minor": 0
}
